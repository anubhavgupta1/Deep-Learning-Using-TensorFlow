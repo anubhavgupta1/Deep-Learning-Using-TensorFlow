{
  "nbformat": 4,
  "nbformat_minor": 0,
  "metadata": {
    "colab": {
      "name": "3_Tensor_Flow_Session_12.ipynb",
      "provenance": [],
      "authorship_tag": "ABX9TyP8pSlIcBM8jm5nZWhnODai",
      "include_colab_link": true
    },
    "kernelspec": {
      "name": "python3",
      "display_name": "Python 3"
    }
  },
  "cells": [
    {
      "cell_type": "markdown",
      "metadata": {
        "id": "view-in-github",
        "colab_type": "text"
      },
      "source": [
        "<a href=\"https://colab.research.google.com/github/anubhavgupta1/Deep-Learning-Using-TensorFlow/blob/master/3_Tensor_Flow_Session_12.ipynb\" target=\"_parent\"><img src=\"https://colab.research.google.com/assets/colab-badge.svg\" alt=\"Open In Colab\"/></a>"
      ]
    },
    {
      "cell_type": "code",
      "metadata": {
        "id": "uRP8Bhpg42w8",
        "colab": {
          "base_uri": "https://localhost:8080/",
          "height": 1000
        },
        "outputId": "fab116d6-6036-4614-aa65-edd2b5889afa"
      },
      "source": [
        "!pip install tensorflow==1.10.0"
      ],
      "execution_count": 1,
      "outputs": [
        {
          "output_type": "stream",
          "text": [
            "Collecting tensorflow==1.10.0\n",
            "\u001b[?25l  Downloading https://files.pythonhosted.org/packages/ee/e6/a6d371306c23c2b01cd2cb38909673d17ddd388d9e4b3c0f6602bfd972c8/tensorflow-1.10.0-cp36-cp36m-manylinux1_x86_64.whl (58.4MB)\n",
            "\u001b[K     |████████████████████████████████| 58.4MB 69kB/s \n",
            "\u001b[?25hCollecting tensorboard<1.11.0,>=1.10.0\n",
            "\u001b[?25l  Downloading https://files.pythonhosted.org/packages/c6/17/ecd918a004f297955c30b4fffbea100b1606c225dbf0443264012773c3ff/tensorboard-1.10.0-py3-none-any.whl (3.3MB)\n",
            "\u001b[K     |████████████████████████████████| 3.3MB 43.4MB/s \n",
            "\u001b[?25hRequirement already satisfied: protobuf>=3.6.0 in /usr/local/lib/python3.6/dist-packages (from tensorflow==1.10.0) (3.12.4)\n",
            "Collecting numpy<=1.14.5,>=1.13.3\n",
            "\u001b[?25l  Downloading https://files.pythonhosted.org/packages/68/1e/116ad560de97694e2d0c1843a7a0075cc9f49e922454d32f49a80eb6f1f2/numpy-1.14.5-cp36-cp36m-manylinux1_x86_64.whl (12.2MB)\n",
            "\u001b[K     |████████████████████████████████| 12.2MB 45.3MB/s \n",
            "\u001b[?25hRequirement already satisfied: wheel>=0.26 in /usr/local/lib/python3.6/dist-packages (from tensorflow==1.10.0) (0.35.1)\n",
            "Requirement already satisfied: absl-py>=0.1.6 in /usr/local/lib/python3.6/dist-packages (from tensorflow==1.10.0) (0.10.0)\n",
            "Requirement already satisfied: gast>=0.2.0 in /usr/local/lib/python3.6/dist-packages (from tensorflow==1.10.0) (0.3.3)\n",
            "Requirement already satisfied: termcolor>=1.1.0 in /usr/local/lib/python3.6/dist-packages (from tensorflow==1.10.0) (1.1.0)\n",
            "Requirement already satisfied: astor>=0.6.0 in /usr/local/lib/python3.6/dist-packages (from tensorflow==1.10.0) (0.8.1)\n",
            "Requirement already satisfied: six>=1.10.0 in /usr/local/lib/python3.6/dist-packages (from tensorflow==1.10.0) (1.15.0)\n",
            "Requirement already satisfied: grpcio>=1.8.6 in /usr/local/lib/python3.6/dist-packages (from tensorflow==1.10.0) (1.33.2)\n",
            "Collecting setuptools<=39.1.0\n",
            "\u001b[?25l  Downloading https://files.pythonhosted.org/packages/8c/10/79282747f9169f21c053c562a0baa21815a8c7879be97abd930dbcf862e8/setuptools-39.1.0-py2.py3-none-any.whl (566kB)\n",
            "\u001b[K     |████████████████████████████████| 573kB 42.1MB/s \n",
            "\u001b[?25hRequirement already satisfied: markdown>=2.6.8 in /usr/local/lib/python3.6/dist-packages (from tensorboard<1.11.0,>=1.10.0->tensorflow==1.10.0) (3.3.3)\n",
            "Requirement already satisfied: werkzeug>=0.11.10 in /usr/local/lib/python3.6/dist-packages (from tensorboard<1.11.0,>=1.10.0->tensorflow==1.10.0) (1.0.1)\n",
            "Requirement already satisfied: importlib-metadata; python_version < \"3.8\" in /usr/local/lib/python3.6/dist-packages (from markdown>=2.6.8->tensorboard<1.11.0,>=1.10.0->tensorflow==1.10.0) (2.0.0)\n",
            "Requirement already satisfied: zipp>=0.5 in /usr/local/lib/python3.6/dist-packages (from importlib-metadata; python_version < \"3.8\"->markdown>=2.6.8->tensorboard<1.11.0,>=1.10.0->tensorflow==1.10.0) (3.4.0)\n",
            "\u001b[31mERROR: xarray 0.15.1 has requirement numpy>=1.15, but you'll have numpy 1.14.5 which is incompatible.\u001b[0m\n",
            "\u001b[31mERROR: xarray 0.15.1 has requirement setuptools>=41.2, but you'll have setuptools 39.1.0 which is incompatible.\u001b[0m\n",
            "\u001b[31mERROR: umap-learn 0.4.6 has requirement numpy>=1.17, but you'll have numpy 1.14.5 which is incompatible.\u001b[0m\n",
            "\u001b[31mERROR: tifffile 2020.9.3 has requirement numpy>=1.15.1, but you'll have numpy 1.14.5 which is incompatible.\u001b[0m\n",
            "\u001b[31mERROR: spacy 2.2.4 has requirement numpy>=1.15.0, but you'll have numpy 1.14.5 which is incompatible.\u001b[0m\n",
            "\u001b[31mERROR: seaborn 0.11.0 has requirement numpy>=1.15, but you'll have numpy 1.14.5 which is incompatible.\u001b[0m\n",
            "\u001b[31mERROR: plotnine 0.6.0 has requirement numpy>=1.16.0, but you'll have numpy 1.14.5 which is incompatible.\u001b[0m\n",
            "\u001b[31mERROR: pandas 1.1.4 has requirement numpy>=1.15.4, but you'll have numpy 1.14.5 which is incompatible.\u001b[0m\n",
            "\u001b[31mERROR: numba 0.48.0 has requirement numpy>=1.15, but you'll have numpy 1.14.5 which is incompatible.\u001b[0m\n",
            "\u001b[31mERROR: imgaug 0.2.9 has requirement numpy>=1.15.0, but you'll have numpy 1.14.5 which is incompatible.\u001b[0m\n",
            "\u001b[31mERROR: google-auth 1.17.2 has requirement setuptools>=40.3.0, but you'll have setuptools 39.1.0 which is incompatible.\u001b[0m\n",
            "\u001b[31mERROR: fbprophet 0.7.1 has requirement numpy>=1.15.4, but you'll have numpy 1.14.5 which is incompatible.\u001b[0m\n",
            "\u001b[31mERROR: fastai 1.0.61 has requirement numpy>=1.15, but you'll have numpy 1.14.5 which is incompatible.\u001b[0m\n",
            "\u001b[31mERROR: datascience 0.10.6 has requirement folium==0.2.1, but you'll have folium 0.8.3 which is incompatible.\u001b[0m\n",
            "\u001b[31mERROR: cvxpy 1.0.31 has requirement numpy>=1.15, but you'll have numpy 1.14.5 which is incompatible.\u001b[0m\n",
            "\u001b[31mERROR: blis 0.4.1 has requirement numpy>=1.15.0, but you'll have numpy 1.14.5 which is incompatible.\u001b[0m\n",
            "\u001b[31mERROR: astropy 4.1 has requirement numpy>=1.16, but you'll have numpy 1.14.5 which is incompatible.\u001b[0m\n",
            "\u001b[31mERROR: albumentations 0.1.12 has requirement imgaug<0.2.7,>=0.2.5, but you'll have imgaug 0.2.9 which is incompatible.\u001b[0m\n",
            "Installing collected packages: numpy, tensorboard, setuptools, tensorflow\n",
            "  Found existing installation: numpy 1.18.5\n",
            "    Uninstalling numpy-1.18.5:\n",
            "      Successfully uninstalled numpy-1.18.5\n",
            "  Found existing installation: tensorboard 2.3.0\n",
            "    Uninstalling tensorboard-2.3.0:\n",
            "      Successfully uninstalled tensorboard-2.3.0\n",
            "  Found existing installation: setuptools 50.3.2\n",
            "    Uninstalling setuptools-50.3.2:\n",
            "      Successfully uninstalled setuptools-50.3.2\n",
            "  Found existing installation: tensorflow 2.3.0\n",
            "    Uninstalling tensorflow-2.3.0:\n",
            "      Successfully uninstalled tensorflow-2.3.0\n",
            "Successfully installed numpy-1.14.5 setuptools-39.1.0 tensorboard-1.10.0 tensorflow-1.10.0\n"
          ],
          "name": "stdout"
        },
        {
          "output_type": "display_data",
          "data": {
            "application/vnd.colab-display-data+json": {
              "pip_warning": {
                "packages": [
                  "numpy",
                  "pkg_resources"
                ]
              }
            }
          },
          "metadata": {
            "tags": []
          }
        }
      ]
    },
    {
      "cell_type": "code",
      "metadata": {
        "id": "-R8g7Qk45Dp5",
        "colab": {
          "base_uri": "https://localhost:8080/"
        },
        "outputId": "b69572d1-3877-46f9-95ce-f505864a88e6"
      },
      "source": [
        "import numpy as np\n",
        "import tensorflow as tf\n",
        "import os\n",
        "import matplotlib\n",
        "import matplotlib.pyplot as plt\n",
        "from datetime import datetime\n",
        "from __future__ import division, print_function, unicode_literals\n",
        "from sklearn.datasets import fetch_california_housing\n",
        "from sklearn.linear_model import LinearRegression\n",
        "from sklearn.preprocessing import StandardScaler\n",
        "from IPython.display import clear_output, Image, display, HTML"
      ],
      "execution_count": 2,
      "outputs": [
        {
          "output_type": "stream",
          "text": [
            "/usr/local/lib/python3.6/dist-packages/tensorflow/python/framework/dtypes.py:523: FutureWarning: Passing (type, 1) or '1type' as a synonym of type is deprecated; in a future version of numpy, it will be understood as (type, (1,)) / '(1,)type'.\n",
            "  _np_qint8 = np.dtype([(\"qint8\", np.int8, 1)])\n",
            "/usr/local/lib/python3.6/dist-packages/tensorflow/python/framework/dtypes.py:524: FutureWarning: Passing (type, 1) or '1type' as a synonym of type is deprecated; in a future version of numpy, it will be understood as (type, (1,)) / '(1,)type'.\n",
            "  _np_quint8 = np.dtype([(\"quint8\", np.uint8, 1)])\n",
            "/usr/local/lib/python3.6/dist-packages/tensorflow/python/framework/dtypes.py:525: FutureWarning: Passing (type, 1) or '1type' as a synonym of type is deprecated; in a future version of numpy, it will be understood as (type, (1,)) / '(1,)type'.\n",
            "  _np_qint16 = np.dtype([(\"qint16\", np.int16, 1)])\n",
            "/usr/local/lib/python3.6/dist-packages/tensorflow/python/framework/dtypes.py:526: FutureWarning: Passing (type, 1) or '1type' as a synonym of type is deprecated; in a future version of numpy, it will be understood as (type, (1,)) / '(1,)type'.\n",
            "  _np_quint16 = np.dtype([(\"quint16\", np.uint16, 1)])\n",
            "/usr/local/lib/python3.6/dist-packages/tensorflow/python/framework/dtypes.py:527: FutureWarning: Passing (type, 1) or '1type' as a synonym of type is deprecated; in a future version of numpy, it will be understood as (type, (1,)) / '(1,)type'.\n",
            "  _np_qint32 = np.dtype([(\"qint32\", np.int32, 1)])\n",
            "/usr/local/lib/python3.6/dist-packages/tensorflow/python/framework/dtypes.py:532: FutureWarning: Passing (type, 1) or '1type' as a synonym of type is deprecated; in a future version of numpy, it will be understood as (type, (1,)) / '(1,)type'.\n",
            "  np_resource = np.dtype([(\"resource\", np.ubyte, 1)])\n"
          ],
          "name": "stderr"
        }
      ]
    },
    {
      "cell_type": "code",
      "metadata": {
        "id": "sE54TgsMHxPN"
      },
      "source": [
        "# to make this notebook's output stable across runs\n",
        "def reset_graph(seed=42):\n",
        "    tf.reset_default_graph()\n",
        "    tf.set_random_seed(seed)\n",
        "    np.random.seed(seed)"
      ],
      "execution_count": 3,
      "outputs": []
    },
    {
      "cell_type": "code",
      "metadata": {
        "id": "JHHS2tXNdc7o",
        "colab": {
          "base_uri": "https://localhost:8080/"
        },
        "outputId": "6b953e15-9576-4c9c-828f-d148479b85a9"
      },
      "source": [
        "reset_graph()\n",
        "\n",
        "housing = fetch_california_housing()\n",
        "m, n = housing.data.shape\n",
        "\n",
        "housing_data_plus_bias = np.c_[np.ones((m, 1)), housing.data]"
      ],
      "execution_count": 4,
      "outputs": [
        {
          "output_type": "stream",
          "text": [
            "Downloading Cal. housing from https://ndownloader.figshare.com/files/5976036 to /root/scikit_learn_data\n"
          ],
          "name": "stderr"
        }
      ]
    },
    {
      "cell_type": "code",
      "metadata": {
        "id": "Ed4nC1Mgdpuv"
      },
      "source": [
        "scaler = StandardScaler()\n",
        "scaled_housing_data = scaler.fit_transform(housing.data)\n",
        "scaled_housing_data_plus_bias = np.c_[np.ones((m, 1)), scaled_housing_data]"
      ],
      "execution_count": 5,
      "outputs": []
    },
    {
      "cell_type": "code",
      "metadata": {
        "id": "HYgZp0J6pivq"
      },
      "source": [
        "# Define the batch size and compute the total number of batches\n",
        "# Define function to fetch batch\n",
        "\n",
        "n_epochs = 50\n",
        "\n",
        "batch_size = 100\n",
        "m = housing.target.shape[0]\n",
        "n_batches = int(np.ceil(m / batch_size))\n",
        "\n",
        "def fetch_batch(epoch, batch_index, batch_size):\n",
        "    np.random.seed(epoch * n_batches + batch_index) \n",
        "    indices = np.random.randint(m, size=batch_size)\n",
        "    X_batch = scaled_housing_data_plus_bias[indices]\n",
        "    y_batch = housing.target.reshape(-1, 1)[indices]\n",
        "    return X_batch, y_batch"
      ],
      "execution_count": 6,
      "outputs": []
    },
    {
      "cell_type": "code",
      "metadata": {
        "id": "8zeKzDSYaHP8"
      },
      "source": [
        "# We can visualize the graph from inside Jupyter.\n",
        "# Just pass the default graph to show_graph function\n",
        "# Graph appears in the Iframe inside Jupyter notebook\n",
        "\n",
        "\n",
        "def strip_consts(graph_def, max_const_size=32):\n",
        "    \"\"\"Strip large constant values from graph_def.\"\"\"\n",
        "    strip_def = tf.GraphDef()\n",
        "    for n0 in graph_def.node:\n",
        "        n = strip_def.node.add() \n",
        "        n.MergeFrom(n0)\n",
        "        if n.op == 'Const':\n",
        "            tensor = n.attr['value'].tensor\n",
        "            size = len(tensor.tensor_content)\n",
        "            if size > max_const_size:\n",
        "                tensor.tensor_content = b\"<stripped %d bytes>\"%size\n",
        "    return strip_def\n",
        "\n",
        "def show_graph(graph_def, max_const_size=32):\n",
        "    \"\"\"Visualize TensorFlow graph.\"\"\"\n",
        "    if hasattr(graph_def, 'as_graph_def'):\n",
        "        graph_def = graph_def.as_graph_def()\n",
        "    strip_def = strip_consts(graph_def, max_const_size=max_const_size)\n",
        "    code = \"\"\"\n",
        "        <script>\n",
        "          function load() {{\n",
        "            document.getElementById(\"{id}\").pbtxt = {data};\n",
        "          }}\n",
        "        </script>\n",
        "        <link rel=\"import\" href=\"https://tensorboard.appspot.com/tf-graph-basic.build.html\" onload=load()>\n",
        "        <div style=\"height:600px\">\n",
        "          <tf-graph-basic id=\"{id}\"></tf-graph-basic>\n",
        "        </div>\n",
        "    \"\"\".format(data=repr(str(strip_def)), id='graph'+str(np.random.rand()))\n",
        "\n",
        "    iframe = \"\"\"\n",
        "        <iframe seamless style=\"width:1200px;height:620px;border:0\" srcdoc=\"{}\"></iframe>\n",
        "    \"\"\".format(code.replace('\"', '&quot;'))\n",
        "    display(HTML(iframe))"
      ],
      "execution_count": 7,
      "outputs": []
    },
    {
      "cell_type": "markdown",
      "metadata": {
        "id": "rr7mSdNb6sYj"
      },
      "source": [
        "#**Strings**"
      ]
    },
    {
      "cell_type": "code",
      "metadata": {
        "colab": {
          "base_uri": "https://localhost:8080/"
        },
        "id": "6G53j9eybmzq",
        "outputId": "595c931f-8a05-4c32-fc30-5c1c21ed2e6d"
      },
      "source": [
        "reset_graph()\n",
        "\n",
        "text = np.array(\"Do you want some café?\".split())\n",
        "text_tensor = tf.constant(text)\n",
        "\n",
        "with tf.Session() as sess:\n",
        "    print(text_tensor.eval())"
      ],
      "execution_count": 8,
      "outputs": [
        {
          "output_type": "stream",
          "text": [
            "[b'Do' b'you' b'want' b'some' b'caf\\xc3\\xa9?']\n"
          ],
          "name": "stdout"
        }
      ]
    },
    {
      "cell_type": "markdown",
      "metadata": {
        "id": "l7235MSXbxFZ"
      },
      "source": [
        "#**Implementing a Home-Made Computation Graph**"
      ]
    },
    {
      "cell_type": "code",
      "metadata": {
        "colab": {
          "base_uri": "https://localhost:8080/"
        },
        "id": "SYVdUdygbvNF",
        "outputId": "9c84ba01-8fc9-42f3-e7f1-708df19823ed"
      },
      "source": [
        "class Const(object):\n",
        "    def __init__(self, value):\n",
        "        self.value = value\n",
        "    def evaluate(self):\n",
        "        return self.value\n",
        "    def __str__(self):\n",
        "        return str(self.value)\n",
        "\n",
        "class Var(object):\n",
        "    def __init__(self, init_value, name):\n",
        "        self.value = init_value\n",
        "        self.name = name\n",
        "    def evaluate(self):\n",
        "        return self.value\n",
        "    def __str__(self):\n",
        "        return self.name\n",
        "\n",
        "class BinaryOperator(object):\n",
        "    def __init__(self, a, b):\n",
        "        self.a = a\n",
        "        self.b = b\n",
        "\n",
        "class Add(BinaryOperator):\n",
        "    def evaluate(self):\n",
        "        return self.a.evaluate() + self.b.evaluate()\n",
        "    def __str__(self):\n",
        "        return \"{} + {}\".format(self.a, self.b)\n",
        "\n",
        "class Mul(BinaryOperator):\n",
        "    def evaluate(self):\n",
        "        return self.a.evaluate() * self.b.evaluate()\n",
        "    def __str__(self):\n",
        "        return \"({}) * ({})\".format(self.a, self.b)\n",
        "\n",
        "x = Var(3, name=\"x\")\n",
        "y = Var(4, name=\"y\")\n",
        "f = Add(Mul(Mul(x, x), y), Add(y, Const(2))) # f(x,y) = x²y + y + 2\n",
        "print(\"f(x,y) =\", f)\n",
        "print(\"f(3,4) =\", f.evaluate())"
      ],
      "execution_count": 9,
      "outputs": [
        {
          "output_type": "stream",
          "text": [
            "f(x,y) = ((x) * (x)) * (y) + y + 2\n",
            "f(3,4) = 42\n"
          ],
          "name": "stdout"
        }
      ]
    },
    {
      "cell_type": "markdown",
      "metadata": {
        "id": "Bkqka9u8b-0g"
      },
      "source": [
        "##**Computing gradients**"
      ]
    },
    {
      "cell_type": "markdown",
      "metadata": {
        "id": "G4mCdVoUcFLK"
      },
      "source": [
        "###**Mathematical differentiation**"
      ]
    },
    {
      "cell_type": "code",
      "metadata": {
        "colab": {
          "base_uri": "https://localhost:8080/"
        },
        "id": "eCMWXfbscCNi",
        "outputId": "dd09c192-fdd0-4a17-e6d7-b5a6784a2e3b"
      },
      "source": [
        "df_dx = Mul(Const(2), Mul(x, y))  # df/dx = 2xy\n",
        "df_dy = Add(Mul(x, x), Const(1))  # df/dy = x² + 1\n",
        "print(\"df/dx(3,4) =\", df_dx.evaluate())\n",
        "print(\"df/dy(3,4) =\", df_dy.evaluate())"
      ],
      "execution_count": 10,
      "outputs": [
        {
          "output_type": "stream",
          "text": [
            "df/dx(3,4) = 24\n",
            "df/dy(3,4) = 10\n"
          ],
          "name": "stdout"
        }
      ]
    },
    {
      "cell_type": "markdown",
      "metadata": {
        "id": "aUUsiYzucW3u"
      },
      "source": [
        "###**Numerical differentiation**"
      ]
    },
    {
      "cell_type": "code",
      "metadata": {
        "id": "3Ao4wa5NcYQf",
        "colab": {
          "base_uri": "https://localhost:8080/"
        },
        "outputId": "be93510c-0f2c-414a-a5b9-097351a54674"
      },
      "source": [
        "def gradients(func, vars_list, eps=0.0001):\n",
        "    partial_derivatives = []\n",
        "    base_func_eval = func.evaluate()\n",
        "    for var in vars_list:\n",
        "        original_value = var.value\n",
        "        var.value = var.value + eps\n",
        "        tweaked_func_eval = func.evaluate()\n",
        "        var.value = original_value\n",
        "        derivative = (tweaked_func_eval - base_func_eval) / eps\n",
        "        partial_derivatives.append(derivative)\n",
        "    return partial_derivatives\n",
        "\n",
        "df_dx, df_dy = gradients(f, [x, y])\n",
        "print(\"df/dx(3,4) =\", df_dx)\n",
        "print(\"df/dy(3,4) =\", df_dy)"
      ],
      "execution_count": 11,
      "outputs": [
        {
          "output_type": "stream",
          "text": [
            "df/dx(3,4) = 24.000400000048216\n",
            "df/dy(3,4) = 10.000000000047748\n"
          ],
          "name": "stdout"
        }
      ]
    },
    {
      "cell_type": "markdown",
      "metadata": {
        "id": "3YNW3-N3cinx"
      },
      "source": [
        "###**Symbolic differentiation**"
      ]
    },
    {
      "cell_type": "code",
      "metadata": {
        "id": "KH43oeo0ch6c",
        "colab": {
          "base_uri": "https://localhost:8080/"
        },
        "outputId": "0bfa16e1-a499-43f3-f4ad-6d37b812b8cb"
      },
      "source": [
        "Const.derive = lambda self, var: Const(0)\n",
        "Var.derive = lambda self, var: Const(1) if self is var else Const(0)\n",
        "Add.derive = lambda self, var: Add(self.a.derive(var), self.b.derive(var))\n",
        "Mul.derive = lambda self, var: Add(Mul(self.a, self.b.derive(var)), Mul(self.a.derive(var), self.b))\n",
        "\n",
        "x = Var(3.0, name=\"x\")\n",
        "y = Var(4.0, name=\"y\")\n",
        "f = Add(Mul(Mul(x, x), y), Add(y, Const(2))) # f(x,y) = x²y + y + 2\n",
        "\n",
        "df_dx = f.derive(x)  # 2xy\n",
        "df_dy = f.derive(y)  # x² + 1\n",
        "print(\"df/dx(3,4) =\", df_dx.evaluate())\n",
        "print(\"df/dy(3,4) =\", df_dy.evaluate())"
      ],
      "execution_count": 12,
      "outputs": [
        {
          "output_type": "stream",
          "text": [
            "df/dx(3,4) = 24.0\n",
            "df/dy(3,4) = 10.0\n"
          ],
          "name": "stdout"
        }
      ]
    },
    {
      "cell_type": "markdown",
      "metadata": {
        "id": "mzaFRHBPc30e"
      },
      "source": [
        "###**Automatic differentiation (autodiff) – forward mode**"
      ]
    },
    {
      "cell_type": "code",
      "metadata": {
        "id": "OM5UuFG3dBXq"
      },
      "source": [
        "class DualNumber(object):\n",
        "    def __init__(self, value=0.0, eps=0.0):\n",
        "        self.value = value\n",
        "        self.eps = eps\n",
        "    def __add__(self, b):\n",
        "        return DualNumber(self.value + self.to_dual(b).value,\n",
        "                          self.eps + self.to_dual(b).eps)\n",
        "    def __radd__(self, a):\n",
        "        return self.to_dual(a).__add__(self)\n",
        "    def __mul__(self, b):\n",
        "        return DualNumber(self.value * self.to_dual(b).value,\n",
        "                          self.eps * self.to_dual(b).value + self.value * self.to_dual(b).eps)\n",
        "    def __rmul__(self, a):\n",
        "        return self.to_dual(a).__mul__(self)\n",
        "    def __str__(self):\n",
        "        if self.eps:\n",
        "            return \"{:.1f} + {:.1f}ε\".format(self.value, self.eps)\n",
        "        else:\n",
        "            return \"{:.1f}\".format(self.value)\n",
        "    def __repr__(self):\n",
        "        return str(self)\n",
        "    @classmethod\n",
        "    def to_dual(cls, n):\n",
        "        if hasattr(n, \"value\"):\n",
        "            return n\n",
        "        else:\n",
        "            return cls(n)"
      ],
      "execution_count": 13,
      "outputs": []
    },
    {
      "cell_type": "markdown",
      "metadata": {
        "id": "Q9KcrEMfdJMH"
      },
      "source": [
        "**3 + ( 3 + 4 *e* ) = 6 + 4 *e*** "
      ]
    },
    {
      "cell_type": "code",
      "metadata": {
        "id": "wGxeqdjRdWdl",
        "colab": {
          "base_uri": "https://localhost:8080/"
        },
        "outputId": "7c786623-6a76-4280-9447-226879aa90b6"
      },
      "source": [
        "3 + DualNumber(3, 4)"
      ],
      "execution_count": 14,
      "outputs": [
        {
          "output_type": "execute_result",
          "data": {
            "text/plain": [
              "6.0 + 4.0ε"
            ]
          },
          "metadata": {
            "tags": []
          },
          "execution_count": 14
        }
      ]
    },
    {
      "cell_type": "code",
      "metadata": {
        "id": "E1yE3j68du2R",
        "colab": {
          "base_uri": "https://localhost:8080/"
        },
        "outputId": "c79def9a-5ba9-44fb-b49b-d5176bd1fd38"
      },
      "source": [
        "DualNumber(3, 4) * DualNumber(5, 7)"
      ],
      "execution_count": 15,
      "outputs": [
        {
          "output_type": "execute_result",
          "data": {
            "text/plain": [
              "15.0 + 41.0ε"
            ]
          },
          "metadata": {
            "tags": []
          },
          "execution_count": 15
        }
      ]
    },
    {
      "cell_type": "code",
      "metadata": {
        "id": "koYovjFrdykl",
        "colab": {
          "base_uri": "https://localhost:8080/"
        },
        "outputId": "dfbd0188-8f19-43f6-e129-30528fb82ff2"
      },
      "source": [
        "x.value = DualNumber(3.0)\n",
        "y.value = DualNumber(4.0)\n",
        "\n",
        "f.evaluate()"
      ],
      "execution_count": 16,
      "outputs": [
        {
          "output_type": "execute_result",
          "data": {
            "text/plain": [
              "42.0"
            ]
          },
          "metadata": {
            "tags": []
          },
          "execution_count": 16
        }
      ]
    },
    {
      "cell_type": "code",
      "metadata": {
        "id": "VnItrWWbd2u-"
      },
      "source": [
        "x.value = DualNumber(3.0, 1.0)  # 3 + ε\n",
        "y.value = DualNumber(4.0)       # 4\n",
        "\n",
        "df_dx = f.evaluate().eps\n",
        "\n",
        "x.value = DualNumber(3.0)       # 3\n",
        "y.value = DualNumber(4.0, 1.0)  # 4 + ε\n",
        "\n",
        "df_dy = f.evaluate().eps"
      ],
      "execution_count": 17,
      "outputs": []
    },
    {
      "cell_type": "code",
      "metadata": {
        "id": "kAFEa3rrd4dY",
        "colab": {
          "base_uri": "https://localhost:8080/"
        },
        "outputId": "a9918bc9-8d3a-46da-e52d-4c10196505f7"
      },
      "source": [
        "df_dx"
      ],
      "execution_count": 18,
      "outputs": [
        {
          "output_type": "execute_result",
          "data": {
            "text/plain": [
              "24.0"
            ]
          },
          "metadata": {
            "tags": []
          },
          "execution_count": 18
        }
      ]
    },
    {
      "cell_type": "code",
      "metadata": {
        "id": "vYlLSLLZd-dz",
        "colab": {
          "base_uri": "https://localhost:8080/"
        },
        "outputId": "0132984c-71e9-4221-bcc0-10e39ea97e04"
      },
      "source": [
        "df_dy"
      ],
      "execution_count": 19,
      "outputs": [
        {
          "output_type": "execute_result",
          "data": {
            "text/plain": [
              "10.0"
            ]
          },
          "metadata": {
            "tags": []
          },
          "execution_count": 19
        }
      ]
    },
    {
      "cell_type": "markdown",
      "metadata": {
        "id": "nDfZ0reHd_3Z"
      },
      "source": [
        "###**Autodiff – Reverse mode**"
      ]
    },
    {
      "cell_type": "code",
      "metadata": {
        "id": "d9zO8r8HeEUj",
        "colab": {
          "base_uri": "https://localhost:8080/"
        },
        "outputId": "b6203b0e-3d86-4011-f39b-4974918eee50"
      },
      "source": [
        "class Const(object):\n",
        "    def __init__(self, value):\n",
        "        self.value = value\n",
        "    def evaluate(self):\n",
        "        return self.value\n",
        "    def backpropagate(self, gradient):\n",
        "        pass\n",
        "    def __str__(self):\n",
        "        return str(self.value)\n",
        "\n",
        "class Var(object):\n",
        "    def __init__(self, init_value, name):\n",
        "        self.value = init_value\n",
        "        self.name = name\n",
        "        self.gradient = 0\n",
        "    def evaluate(self):\n",
        "        return self.value\n",
        "    def backpropagate(self, gradient):\n",
        "        self.gradient += gradient\n",
        "    def __str__(self):\n",
        "        return self.name\n",
        "\n",
        "class BinaryOperator(object):\n",
        "    def __init__(self, a, b):\n",
        "        self.a = a\n",
        "        self.b = b\n",
        "\n",
        "class Add(BinaryOperator):\n",
        "    def evaluate(self):\n",
        "        self.value = self.a.evaluate() + self.b.evaluate()\n",
        "        return self.value\n",
        "    def backpropagate(self, gradient):\n",
        "        self.a.backpropagate(gradient)\n",
        "        self.b.backpropagate(gradient)\n",
        "    def __str__(self):\n",
        "        return \"{} + {}\".format(self.a, self.b)\n",
        "\n",
        "class Mul(BinaryOperator):\n",
        "    def evaluate(self):\n",
        "        self.value = self.a.evaluate() * self.b.evaluate()\n",
        "        return self.value\n",
        "    def backpropagate(self, gradient):\n",
        "        self.a.backpropagate(gradient * self.b.value)\n",
        "        self.b.backpropagate(gradient * self.a.value)\n",
        "    def __str__(self):\n",
        "        return \"({}) * ({})\".format(self.a, self.b)\n",
        "\n",
        "x = Var(3, name=\"x\")\n",
        "y = Var(4, name=\"y\")\n",
        "f = Add(Mul(Mul(x, x), y), Add(y, Const(2))) # f(x,y) = x²y + y + 2\n",
        "\n",
        "result = f.evaluate()\n",
        "f.backpropagate(1.0)\n",
        "\n",
        "print(\"f(x,y) =\", f)\n",
        "print(\"f(3,4) =\", result)\n",
        "print(\"df_dx =\", x.gradient)\n",
        "print(\"df_dy =\", y.gradient)"
      ],
      "execution_count": 20,
      "outputs": [
        {
          "output_type": "stream",
          "text": [
            "f(x,y) = ((x) * (x)) * (y) + y + 2\n",
            "f(3,4) = 42\n",
            "df_dx = 24.0\n",
            "df_dy = 10.0\n"
          ],
          "name": "stdout"
        }
      ]
    },
    {
      "cell_type": "markdown",
      "metadata": {
        "id": "L3j5629EeItP"
      },
      "source": [
        "###**Autodiff – reverse mode (using TensorFlow)**"
      ]
    },
    {
      "cell_type": "code",
      "metadata": {
        "id": "gX6JWcbOeRKz",
        "colab": {
          "base_uri": "https://localhost:8080/"
        },
        "outputId": "e0ae5cb6-a3f2-405c-9505-66f939b23a18"
      },
      "source": [
        "reset_graph()\n",
        "\n",
        "x = tf.Variable(3., name=\"x\")\n",
        "y = tf.Variable(4., name=\"y\")\n",
        "f = x*x*y + y + 2\n",
        "\n",
        "gradients = tf.gradients(f, [x, y])\n",
        "\n",
        "init = tf.global_variables_initializer()\n",
        "\n",
        "with tf.Session() as sess:\n",
        "    init.run()\n",
        "    f_val, gradients_val = sess.run([f, gradients])\n",
        "\n",
        "f_val, gradients_val"
      ],
      "execution_count": 21,
      "outputs": [
        {
          "output_type": "execute_result",
          "data": {
            "text/plain": [
              "(42.0, [24.0, 10.0])"
            ]
          },
          "metadata": {
            "tags": []
          },
          "execution_count": 21
        }
      ]
    },
    {
      "cell_type": "markdown",
      "metadata": {
        "id": "VYS7e_K0eSex"
      },
      "source": [
        "The reciprocal(  ) function from SciPy's stats module returns a random distribution that is commonly used when you have no idea of the optimal scale of a hyperparameter. See the exercise solutions for chapter 2 for more details."
      ]
    }
  ]
}