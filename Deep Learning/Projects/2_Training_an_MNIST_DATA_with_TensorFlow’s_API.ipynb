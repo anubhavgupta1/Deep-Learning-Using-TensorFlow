{
  "nbformat": 4,
  "nbformat_minor": 0,
  "metadata": {
    "colab": {
      "name": "2_Training_an_MNIST_DATA_with_TensorFlow’s_API.ipynb",
      "provenance": [],
      "authorship_tag": "ABX9TyPt5sGxyu0KcH0og8laTR6J",
      "include_colab_link": true
    },
    "kernelspec": {
      "name": "python3",
      "display_name": "Python 3"
    }
  },
  "cells": [
    {
      "cell_type": "markdown",
      "metadata": {
        "id": "view-in-github",
        "colab_type": "text"
      },
      "source": [
        "<a href=\"https://colab.research.google.com/github/anubhavgupta1/Deep-Learning-Using-TensorFlow/blob/master/2_Training_an_MNIST_DATA_with_TensorFlow%E2%80%99s_API.ipynb\" target=\"_parent\"><img src=\"https://colab.research.google.com/assets/colab-badge.svg\" alt=\"Open In Colab\"/></a>"
      ]
    },
    {
      "cell_type": "code",
      "metadata": {
        "colab": {
          "base_uri": "https://localhost:8080/"
        },
        "id": "VPblYsARL8E6",
        "outputId": "93d09cc8-0b67-450b-c4bc-ca561329a766"
      },
      "source": [
        "!ls\n",
        "!apt-get install -y -qq software-properties-common python-software-properties module-init-tools\n",
        "!add-apt-repository -y ppa:alessandro-strada/ppa 2>&1 > /dev/null\n",
        "!apt-get update -qq 2>&1 > /dev/null\n",
        "!apt-get -y install -qq google-drive-ocamlfuse fuse\n",
        "from google.colab import auth\n",
        "auth.authenticate_user()\n",
        "from oauth2client.client import GoogleCredentials\n",
        "creds = GoogleCredentials.get_application_default()\n",
        "import getpass\n",
        "!google-drive-ocamlfuse -headless -id={creds.client_id} -secret={creds.client_secret} < /dev/null 2>&1 | grep URL\n",
        "vcode = getpass.getpass()\n",
        "!echo {vcode} | google-drive-ocamlfuse -headless -id={creds.client_id} -secret={creds.client_secret}\n",
        "\n",
        "\n",
        "!mkdir -p drive\n",
        "!google-drive-ocamlfuse drive\n",
        "\n",
        "import os\n",
        "os.chdir(\"drive/\")\n",
        "!ls"
      ],
      "execution_count": 1,
      "outputs": [
        {
          "output_type": "stream",
          "text": [
            "sample_data\n",
            "E: Package 'python-software-properties' has no installation candidate\n",
            "Selecting previously unselected package google-drive-ocamlfuse.\n",
            "(Reading database ... 144793 files and directories currently installed.)\n",
            "Preparing to unpack .../google-drive-ocamlfuse_0.7.23-0ubuntu1~ubuntu18.04.1_amd64.deb ...\n",
            "Unpacking google-drive-ocamlfuse (0.7.23-0ubuntu1~ubuntu18.04.1) ...\n",
            "Setting up google-drive-ocamlfuse (0.7.23-0ubuntu1~ubuntu18.04.1) ...\n",
            "Processing triggers for man-db (2.8.3-2ubuntu0.1) ...\n",
            "Please, open the following URL in a web browser: https://accounts.google.com/o/oauth2/auth?client_id=32555940559.apps.googleusercontent.com&redirect_uri=urn%3Aietf%3Awg%3Aoauth%3A2.0%3Aoob&scope=https%3A%2F%2Fwww.googleapis.com%2Fauth%2Fdrive&response_type=code&access_type=offline&approval_prompt=force\n",
            "··········\n",
            "Please, open the following URL in a web browser: https://accounts.google.com/o/oauth2/auth?client_id=32555940559.apps.googleusercontent.com&redirect_uri=urn%3Aietf%3Awg%3Aoauth%3A2.0%3Aoob&scope=https%3A%2F%2Fwww.googleapis.com%2Fauth%2Fdrive&response_type=code&access_type=offline&approval_prompt=force\n",
            "Please enter the verification code: Access token retrieved correctly.\n",
            "'Capstone Project Submission .desktop'\t\t     data\t        images\n",
            "'Capstone Project Submission  (Responses).desktop'   Dataset\t        import\n",
            "'Colab Notebooks'\t\t\t\t    'Getting started'\n"
          ],
          "name": "stdout"
        }
      ]
    },
    {
      "cell_type": "code",
      "metadata": {
        "colab": {
          "base_uri": "https://localhost:8080/",
          "height": 1000
        },
        "id": "NGp9k_-EHjsJ",
        "outputId": "2ccd834a-fd3c-43e8-e1f5-1ce15b0c9e40"
      },
      "source": [
        "!pip install tensorflow==1.10.0"
      ],
      "execution_count": 2,
      "outputs": [
        {
          "output_type": "stream",
          "text": [
            "Collecting tensorflow==1.10.0\n",
            "\u001b[?25l  Downloading https://files.pythonhosted.org/packages/ee/e6/a6d371306c23c2b01cd2cb38909673d17ddd388d9e4b3c0f6602bfd972c8/tensorflow-1.10.0-cp36-cp36m-manylinux1_x86_64.whl (58.4MB)\n",
            "\u001b[K     |████████████████████████████████| 58.4MB 76kB/s \n",
            "\u001b[?25hRequirement already satisfied: grpcio>=1.8.6 in /usr/local/lib/python3.6/dist-packages (from tensorflow==1.10.0) (1.33.2)\n",
            "Collecting numpy<=1.14.5,>=1.13.3\n",
            "\u001b[?25l  Downloading https://files.pythonhosted.org/packages/68/1e/116ad560de97694e2d0c1843a7a0075cc9f49e922454d32f49a80eb6f1f2/numpy-1.14.5-cp36-cp36m-manylinux1_x86_64.whl (12.2MB)\n",
            "\u001b[K     |████████████████████████████████| 12.2MB 26.8MB/s \n",
            "\u001b[?25hRequirement already satisfied: absl-py>=0.1.6 in /usr/local/lib/python3.6/dist-packages (from tensorflow==1.10.0) (0.10.0)\n",
            "Requirement already satisfied: protobuf>=3.6.0 in /usr/local/lib/python3.6/dist-packages (from tensorflow==1.10.0) (3.12.4)\n",
            "Requirement already satisfied: gast>=0.2.0 in /usr/local/lib/python3.6/dist-packages (from tensorflow==1.10.0) (0.3.3)\n",
            "Requirement already satisfied: termcolor>=1.1.0 in /usr/local/lib/python3.6/dist-packages (from tensorflow==1.10.0) (1.1.0)\n",
            "Requirement already satisfied: astor>=0.6.0 in /usr/local/lib/python3.6/dist-packages (from tensorflow==1.10.0) (0.8.1)\n",
            "Requirement already satisfied: six>=1.10.0 in /usr/local/lib/python3.6/dist-packages (from tensorflow==1.10.0) (1.15.0)\n",
            "Collecting tensorboard<1.11.0,>=1.10.0\n",
            "\u001b[?25l  Downloading https://files.pythonhosted.org/packages/c6/17/ecd918a004f297955c30b4fffbea100b1606c225dbf0443264012773c3ff/tensorboard-1.10.0-py3-none-any.whl (3.3MB)\n",
            "\u001b[K     |████████████████████████████████| 3.3MB 25.9MB/s \n",
            "\u001b[?25hCollecting setuptools<=39.1.0\n",
            "\u001b[?25l  Downloading https://files.pythonhosted.org/packages/8c/10/79282747f9169f21c053c562a0baa21815a8c7879be97abd930dbcf862e8/setuptools-39.1.0-py2.py3-none-any.whl (566kB)\n",
            "\u001b[K     |████████████████████████████████| 573kB 37.4MB/s \n",
            "\u001b[?25hRequirement already satisfied: wheel>=0.26 in /usr/local/lib/python3.6/dist-packages (from tensorflow==1.10.0) (0.35.1)\n",
            "Requirement already satisfied: markdown>=2.6.8 in /usr/local/lib/python3.6/dist-packages (from tensorboard<1.11.0,>=1.10.0->tensorflow==1.10.0) (3.3.3)\n",
            "Requirement already satisfied: werkzeug>=0.11.10 in /usr/local/lib/python3.6/dist-packages (from tensorboard<1.11.0,>=1.10.0->tensorflow==1.10.0) (1.0.1)\n",
            "Requirement already satisfied: importlib-metadata; python_version < \"3.8\" in /usr/local/lib/python3.6/dist-packages (from markdown>=2.6.8->tensorboard<1.11.0,>=1.10.0->tensorflow==1.10.0) (2.0.0)\n",
            "Requirement already satisfied: zipp>=0.5 in /usr/local/lib/python3.6/dist-packages (from importlib-metadata; python_version < \"3.8\"->markdown>=2.6.8->tensorboard<1.11.0,>=1.10.0->tensorflow==1.10.0) (3.4.0)\n",
            "\u001b[31mERROR: xarray 0.15.1 has requirement numpy>=1.15, but you'll have numpy 1.14.5 which is incompatible.\u001b[0m\n",
            "\u001b[31mERROR: xarray 0.15.1 has requirement setuptools>=41.2, but you'll have setuptools 39.1.0 which is incompatible.\u001b[0m\n",
            "\u001b[31mERROR: umap-learn 0.4.6 has requirement numpy>=1.17, but you'll have numpy 1.14.5 which is incompatible.\u001b[0m\n",
            "\u001b[31mERROR: tifffile 2020.9.3 has requirement numpy>=1.15.1, but you'll have numpy 1.14.5 which is incompatible.\u001b[0m\n",
            "\u001b[31mERROR: spacy 2.2.4 has requirement numpy>=1.15.0, but you'll have numpy 1.14.5 which is incompatible.\u001b[0m\n",
            "\u001b[31mERROR: seaborn 0.11.0 has requirement numpy>=1.15, but you'll have numpy 1.14.5 which is incompatible.\u001b[0m\n",
            "\u001b[31mERROR: plotnine 0.6.0 has requirement numpy>=1.16.0, but you'll have numpy 1.14.5 which is incompatible.\u001b[0m\n",
            "\u001b[31mERROR: pandas 1.1.4 has requirement numpy>=1.15.4, but you'll have numpy 1.14.5 which is incompatible.\u001b[0m\n",
            "\u001b[31mERROR: numba 0.48.0 has requirement numpy>=1.15, but you'll have numpy 1.14.5 which is incompatible.\u001b[0m\n",
            "\u001b[31mERROR: imgaug 0.2.9 has requirement numpy>=1.15.0, but you'll have numpy 1.14.5 which is incompatible.\u001b[0m\n",
            "\u001b[31mERROR: google-auth 1.17.2 has requirement setuptools>=40.3.0, but you'll have setuptools 39.1.0 which is incompatible.\u001b[0m\n",
            "\u001b[31mERROR: fbprophet 0.7.1 has requirement numpy>=1.15.4, but you'll have numpy 1.14.5 which is incompatible.\u001b[0m\n",
            "\u001b[31mERROR: fastai 1.0.61 has requirement numpy>=1.15, but you'll have numpy 1.14.5 which is incompatible.\u001b[0m\n",
            "\u001b[31mERROR: datascience 0.10.6 has requirement folium==0.2.1, but you'll have folium 0.8.3 which is incompatible.\u001b[0m\n",
            "\u001b[31mERROR: cvxpy 1.0.31 has requirement numpy>=1.15, but you'll have numpy 1.14.5 which is incompatible.\u001b[0m\n",
            "\u001b[31mERROR: blis 0.4.1 has requirement numpy>=1.15.0, but you'll have numpy 1.14.5 which is incompatible.\u001b[0m\n",
            "\u001b[31mERROR: astropy 4.1 has requirement numpy>=1.16, but you'll have numpy 1.14.5 which is incompatible.\u001b[0m\n",
            "\u001b[31mERROR: albumentations 0.1.12 has requirement imgaug<0.2.7,>=0.2.5, but you'll have imgaug 0.2.9 which is incompatible.\u001b[0m\n",
            "Installing collected packages: numpy, tensorboard, setuptools, tensorflow\n",
            "  Found existing installation: numpy 1.18.5\n",
            "    Uninstalling numpy-1.18.5:\n",
            "      Successfully uninstalled numpy-1.18.5\n",
            "  Found existing installation: tensorboard 2.3.0\n",
            "    Uninstalling tensorboard-2.3.0:\n",
            "      Successfully uninstalled tensorboard-2.3.0\n",
            "  Found existing installation: setuptools 50.3.2\n",
            "    Uninstalling setuptools-50.3.2:\n",
            "      Successfully uninstalled setuptools-50.3.2\n",
            "  Found existing installation: tensorflow 2.3.0\n",
            "    Uninstalling tensorflow-2.3.0:\n",
            "      Successfully uninstalled tensorflow-2.3.0\n",
            "Successfully installed numpy-1.14.5 setuptools-39.1.0 tensorboard-1.10.0 tensorflow-1.10.0\n"
          ],
          "name": "stdout"
        },
        {
          "output_type": "display_data",
          "data": {
            "application/vnd.colab-display-data+json": {
              "pip_warning": {
                "packages": [
                  "numpy",
                  "pkg_resources"
                ]
              }
            }
          },
          "metadata": {
            "tags": []
          }
        }
      ]
    },
    {
      "cell_type": "code",
      "metadata": {
        "colab": {
          "base_uri": "https://localhost:8080/"
        },
        "id": "zf_23B1kF5Ob",
        "outputId": "2a4146c3-8e88-4626-de1c-f0816ce42aa9"
      },
      "source": [
        "# To support both python 2 and python 3\n",
        "from __future__ import division, print_function, unicode_literals\n",
        "\n",
        "# Common imports\n",
        "import numpy as np\n",
        "import os\n",
        "\n",
        "import matplotlib\n",
        "import matplotlib.pyplot as plt\n",
        "\n",
        "from sklearn.datasets import load_iris\n",
        "from sklearn.linear_model import Perceptron\n",
        "from sklearn.metrics import accuracy_score\n",
        "from sklearn.metrics import log_loss\n",
        "\n",
        "from matplotlib.colors import ListedColormap\n",
        "import tensorflow as tf\n",
        "from tensorflow.examples.tutorials.mnist import input_data\n"
      ],
      "execution_count": 3,
      "outputs": [
        {
          "output_type": "stream",
          "text": [
            "/usr/local/lib/python3.6/dist-packages/tensorflow/python/framework/dtypes.py:523: FutureWarning: Passing (type, 1) or '1type' as a synonym of type is deprecated; in a future version of numpy, it will be understood as (type, (1,)) / '(1,)type'.\n",
            "  _np_qint8 = np.dtype([(\"qint8\", np.int8, 1)])\n",
            "/usr/local/lib/python3.6/dist-packages/tensorflow/python/framework/dtypes.py:524: FutureWarning: Passing (type, 1) or '1type' as a synonym of type is deprecated; in a future version of numpy, it will be understood as (type, (1,)) / '(1,)type'.\n",
            "  _np_quint8 = np.dtype([(\"quint8\", np.uint8, 1)])\n",
            "/usr/local/lib/python3.6/dist-packages/tensorflow/python/framework/dtypes.py:525: FutureWarning: Passing (type, 1) or '1type' as a synonym of type is deprecated; in a future version of numpy, it will be understood as (type, (1,)) / '(1,)type'.\n",
            "  _np_qint16 = np.dtype([(\"qint16\", np.int16, 1)])\n",
            "/usr/local/lib/python3.6/dist-packages/tensorflow/python/framework/dtypes.py:526: FutureWarning: Passing (type, 1) or '1type' as a synonym of type is deprecated; in a future version of numpy, it will be understood as (type, (1,)) / '(1,)type'.\n",
            "  _np_quint16 = np.dtype([(\"quint16\", np.uint16, 1)])\n",
            "/usr/local/lib/python3.6/dist-packages/tensorflow/python/framework/dtypes.py:527: FutureWarning: Passing (type, 1) or '1type' as a synonym of type is deprecated; in a future version of numpy, it will be understood as (type, (1,)) / '(1,)type'.\n",
            "  _np_qint32 = np.dtype([(\"qint32\", np.int32, 1)])\n",
            "/usr/local/lib/python3.6/dist-packages/tensorflow/python/framework/dtypes.py:532: FutureWarning: Passing (type, 1) or '1type' as a synonym of type is deprecated; in a future version of numpy, it will be understood as (type, (1,)) / '(1,)type'.\n",
            "  np_resource = np.dtype([(\"resource\", np.ubyte, 1)])\n"
          ],
          "name": "stderr"
        }
      ]
    },
    {
      "cell_type": "code",
      "metadata": {
        "id": "57gIAWYjGx35"
      },
      "source": [
        "# to make this notebook's output stable across runs\n",
        "def reset_graph(seed=42):\n",
        "    tf.reset_default_graph()\n",
        "    tf.set_random_seed(seed)\n",
        "    np.random.seed(seed)\n",
        "\n",
        "# To plot pretty figures\n",
        "\n",
        "plt.rcParams['axes.labelsize'] = 14\n",
        "plt.rcParams['xtick.labelsize'] = 12\n",
        "plt.rcParams['ytick.labelsize'] = 12\n",
        "\n",
        "# Where to save the figures\n",
        "PROJECT_ROOT_DIR = \".\"\n",
        "CHAPTER_ID = \"ann\"\n",
        "\n",
        "def save_fig(fig_id, tight_layout=True):\n",
        "    path = os.path.join(PROJECT_ROOT_DIR, \"images\", CHAPTER_ID, fig_id + \".png\")\n",
        "    print(\"Saving figure\", fig_id)\n",
        "    if tight_layout:\n",
        "        plt.tight_layout()\n",
        "    plt.savefig(path, format='png', dpi=300)"
      ],
      "execution_count": 4,
      "outputs": []
    },
    {
      "cell_type": "markdown",
      "metadata": {
        "id": "0yQB0s8iHBYc"
      },
      "source": [
        "#**FNN for MNIST**"
      ]
    },
    {
      "cell_type": "markdown",
      "metadata": {
        "id": "dKbMpMkVsV_e"
      },
      "source": [
        "##**using tf.learn**"
      ]
    },
    {
      "cell_type": "code",
      "metadata": {
        "id": "4ByzOubxsvPm",
        "colab": {
          "base_uri": "https://localhost:8080/"
        },
        "outputId": "b66e739a-edce-4113-e9a4-596663596b5d"
      },
      "source": [
        "mnist = input_data.read_data_sets(\"data/\")"
      ],
      "execution_count": 5,
      "outputs": [
        {
          "output_type": "stream",
          "text": [
            "WARNING:tensorflow:From <ipython-input-5-74890a4cdde7>:1: read_data_sets (from tensorflow.contrib.learn.python.learn.datasets.mnist) is deprecated and will be removed in a future version.\n",
            "Instructions for updating:\n",
            "Please use alternatives such as official/mnist/dataset.py from tensorflow/models.\n",
            "WARNING:tensorflow:From /usr/local/lib/python3.6/dist-packages/tensorflow/contrib/learn/python/learn/datasets/mnist.py:260: maybe_download (from tensorflow.contrib.learn.python.learn.datasets.base) is deprecated and will be removed in a future version.\n",
            "Instructions for updating:\n",
            "Please write your own downloading logic.\n",
            "WARNING:tensorflow:From /usr/local/lib/python3.6/dist-packages/tensorflow/contrib/learn/python/learn/datasets/mnist.py:262: extract_images (from tensorflow.contrib.learn.python.learn.datasets.mnist) is deprecated and will be removed in a future version.\n",
            "Instructions for updating:\n",
            "Please use tf.data to implement this functionality.\n",
            "Extracting data/train-images-idx3-ubyte.gz\n",
            "WARNING:tensorflow:From /usr/local/lib/python3.6/dist-packages/tensorflow/contrib/learn/python/learn/datasets/mnist.py:267: extract_labels (from tensorflow.contrib.learn.python.learn.datasets.mnist) is deprecated and will be removed in a future version.\n",
            "Instructions for updating:\n",
            "Please use tf.data to implement this functionality.\n",
            "Extracting data/train-labels-idx1-ubyte.gz\n",
            "Extracting data/t10k-images-idx3-ubyte.gz\n",
            "Extracting data/t10k-labels-idx1-ubyte.gz\n",
            "WARNING:tensorflow:From /usr/local/lib/python3.6/dist-packages/tensorflow/contrib/learn/python/learn/datasets/mnist.py:290: DataSet.__init__ (from tensorflow.contrib.learn.python.learn.datasets.mnist) is deprecated and will be removed in a future version.\n",
            "Instructions for updating:\n",
            "Please use alternatives such as official/mnist/dataset.py from tensorflow/models.\n"
          ],
          "name": "stdout"
        }
      ]
    },
    {
      "cell_type": "code",
      "metadata": {
        "colab": {
          "base_uri": "https://localhost:8080/"
        },
        "id": "udDpQb9CvKjm",
        "outputId": "beeb81e1-1bca-4ca5-ba91-8e9216b597e9"
      },
      "source": [
        "mnist"
      ],
      "execution_count": 6,
      "outputs": [
        {
          "output_type": "execute_result",
          "data": {
            "text/plain": [
              "Datasets(train=<tensorflow.contrib.learn.python.learn.datasets.mnist.DataSet object at 0x7faf2cdec6d8>, validation=<tensorflow.contrib.learn.python.learn.datasets.mnist.DataSet object at 0x7faf2da2fcf8>, test=<tensorflow.contrib.learn.python.learn.datasets.mnist.DataSet object at 0x7faf3c74f358>)"
            ]
          },
          "metadata": {
            "tags": []
          },
          "execution_count": 6
        }
      ]
    },
    {
      "cell_type": "code",
      "metadata": {
        "id": "Sewn4HRVsVV1",
        "colab": {
          "base_uri": "https://localhost:8080/"
        },
        "outputId": "ff0df221-3873-42b7-dbfb-95b9e74ce713"
      },
      "source": [
        "type(mnist)"
      ],
      "execution_count": 7,
      "outputs": [
        {
          "output_type": "execute_result",
          "data": {
            "text/plain": [
              "tensorflow.contrib.learn.python.learn.datasets.base.Datasets"
            ]
          },
          "metadata": {
            "tags": []
          },
          "execution_count": 7
        }
      ]
    },
    {
      "cell_type": "code",
      "metadata": {
        "id": "-gbazBuKsUJG",
        "colab": {
          "base_uri": "https://localhost:8080/"
        },
        "outputId": "63debb3c-76e1-4259-80c7-0a23fb353057"
      },
      "source": [
        "type(tf)\n"
      ],
      "execution_count": 8,
      "outputs": [
        {
          "output_type": "execute_result",
          "data": {
            "text/plain": [
              "module"
            ]
          },
          "metadata": {
            "tags": []
          },
          "execution_count": 8
        }
      ]
    },
    {
      "cell_type": "code",
      "metadata": {
        "id": "Q1ilpLF-u0A3"
      },
      "source": [
        "X_train = mnist.train.images\n",
        "X_test = mnist.test.images\n",
        "y_train = mnist.train.labels.astype(\"int\")\n",
        "y_test = mnist.test.labels.astype(\"int\")"
      ],
      "execution_count": 9,
      "outputs": []
    },
    {
      "cell_type": "code",
      "metadata": {
        "colab": {
          "base_uri": "https://localhost:8080/"
        },
        "id": "FzZBG0GpxBt_",
        "outputId": "df9e9651-b3a2-4ff0-c25a-899f8a784157"
      },
      "source": [
        "print(X_train[1].shape)\n",
        "print(X_train.shape)\n",
        "print(X_test.shape)\n",
        "print(X_train[1].reshape(28, -1).shape)\n",
        "print(y_train.shape)\n",
        "print(y_test.shape)\n",
        "print(y_train[1])"
      ],
      "execution_count": 10,
      "outputs": [
        {
          "output_type": "stream",
          "text": [
            "(784,)\n",
            "(55000, 784)\n",
            "(10000, 784)\n",
            "(28, 28)\n",
            "(55000,)\n",
            "(10000,)\n",
            "3\n"
          ],
          "name": "stdout"
        }
      ]
    },
    {
      "cell_type": "code",
      "metadata": {
        "colab": {
          "base_uri": "https://localhost:8080/",
          "height": 286
        },
        "id": "V_7VNvoS23Te",
        "outputId": "99e323d4-d268-41c3-eeba-0c50cef1e53c"
      },
      "source": [
        "plt.imshow(X_train[1].reshape(28, -1))"
      ],
      "execution_count": 11,
      "outputs": [
        {
          "output_type": "execute_result",
          "data": {
            "text/plain": [
              "<matplotlib.image.AxesImage at 0x7faf2c233748>"
            ]
          },
          "metadata": {
            "tags": []
          },
          "execution_count": 11
        },
        {
          "output_type": "display_data",
          "data": {
            "image/png": "[encoded data removed]",
            "text/plain": [
              "<Figure size 432x288 with 1 Axes>"
            ]
          },
          "metadata": {
            "tags": [],
            "needs_background": "light"
          }
        }
      ]
    },
    {
      "cell_type": "code",
      "metadata": {
        "colab": {
          "base_uri": "https://localhost:8080/"
        },
        "id": "B_0rgNJ8u3qa",
        "outputId": "73d2ca08-2c36-4934-bd04-e80d787daae0"
      },
      "source": [
        "#The following sample code trains a DNN for classification with two hidden\n",
        "#layers, one with 200 neurons, second with 200 neurons, and the third with 200 neurons, and a softmax\n",
        "#output layer with 10 neurons:\n",
        "config = tf.contrib.learn.RunConfig(tf_random_seed=42) # not shown in the config\n",
        "\n",
        "feature_cols = tf.contrib.learn.infer_real_valued_columns_from_input(X_train)\n",
        "dnn_clf = tf.contrib.learn.DNNClassifier(hidden_units=[200, 200, 200], n_classes=10,\n",
        "                                         feature_columns=feature_cols, config=config)\n",
        "dnn_clf = tf.contrib.learn.SKCompat(dnn_clf) # if TensorFlow >= 1.1\n",
        "dnn_clf.fit(X_train, y_train, batch_size=50, steps=30000)"
      ],
      "execution_count": 12,
      "outputs": [
        {
          "output_type": "stream",
          "text": [
            "WARNING:tensorflow:From <ipython-input-12-603995bc358e>:4: RunConfig.__init__ (from tensorflow.contrib.learn.python.learn.estimators.run_config) is deprecated and will be removed in a future version.\n",
            "Instructions for updating:\n",
            "When switching to tf.estimator.Estimator, use tf.estimator.RunConfig instead.\n",
            "WARNING:tensorflow:From <ipython-input-12-603995bc358e>:6: infer_real_valued_columns_from_input (from tensorflow.contrib.learn.python.learn.estimators.estimator) is deprecated and will be removed in a future version.\n",
            "Instructions for updating:\n",
            "Please specify feature columns explicitly.\n",
            "WARNING:tensorflow:From /usr/local/lib/python3.6/dist-packages/tensorflow/contrib/learn/python/learn/estimators/estimator.py:142: setup_train_data_feeder (from tensorflow.contrib.learn.python.learn.learn_io.data_feeder) is deprecated and will be removed in a future version.\n",
            "Instructions for updating:\n",
            "Please use tensorflow/transform or tf.data.\n",
            "WARNING:tensorflow:From /usr/local/lib/python3.6/dist-packages/tensorflow/contrib/learn/python/learn/learn_io/data_feeder.py:100: extract_pandas_data (from tensorflow.contrib.learn.python.learn.learn_io.pandas_io) is deprecated and will be removed in a future version.\n",
            "Instructions for updating:\n",
            "Please access pandas data directly.\n",
            "WARNING:tensorflow:From /usr/local/lib/python3.6/dist-packages/tensorflow/contrib/learn/python/learn/learn_io/data_feeder.py:159: DataFeeder.__init__ (from tensorflow.contrib.learn.python.learn.learn_io.data_feeder) is deprecated and will be removed in a future version.\n",
            "Instructions for updating:\n",
            "Please use tensorflow/transform or tf.data.\n",
            "WARNING:tensorflow:From /usr/local/lib/python3.6/dist-packages/tensorflow/contrib/learn/python/learn/learn_io/data_feeder.py:340: check_array (from tensorflow.contrib.learn.python.learn.learn_io.data_feeder) is deprecated and will be removed in a future version.\n",
            "Instructions for updating:\n",
            "Please convert numpy dtypes explicitly.\n",
            "WARNING:tensorflow:From /usr/local/lib/python3.6/dist-packages/tensorflow/contrib/learn/python/learn/estimators/estimator.py:182: infer_real_valued_columns_from_input_fn (from tensorflow.contrib.learn.python.learn.estimators.estimator) is deprecated and will be removed in a future version.\n",
            "Instructions for updating:\n",
            "Please specify feature columns explicitly.\n",
            "WARNING:tensorflow:From /usr/local/lib/python3.6/dist-packages/tensorflow/contrib/learn/python/learn/estimators/dnn.py:378: multi_class_head (from tensorflow.contrib.learn.python.learn.estimators.head) is deprecated and will be removed in a future version.\n",
            "Instructions for updating:\n",
            "Please switch to tf.contrib.estimator.*_head.\n",
            "WARNING:tensorflow:From /usr/local/lib/python3.6/dist-packages/tensorflow/contrib/learn/python/learn/estimators/estimator.py:1179: BaseEstimator.__init__ (from tensorflow.contrib.learn.python.learn.estimators.estimator) is deprecated and will be removed in a future version.\n",
            "Instructions for updating:\n",
            "Please replace uses of any Estimator from tf.contrib.learn with an Estimator from tf.estimator.*\n",
            "WARNING:tensorflow:Using temporary folder as model directory: /tmp/tmp2h89bmxn\n",
            "INFO:tensorflow:Using config: {'_task_type': None, '_task_id': 0, '_cluster_spec': <tensorflow.python.training.server_lib.ClusterSpec object at 0x7faf2c198a20>, '_master': '', '_num_ps_replicas': 0, '_num_worker_replicas': 0, '_environment': 'local', '_is_chief': True, '_evaluation_master': '', '_train_distribute': None, '_device_fn': None, '_tf_config': gpu_options {\n",
            "  per_process_gpu_memory_fraction: 1.0\n",
            "}\n",
            ", '_tf_random_seed': 42, '_save_summary_steps': 100, '_save_checkpoints_secs': 600, '_log_step_count_steps': 100, '_session_config': None, '_save_checkpoints_steps': None, '_keep_checkpoint_max': 5, '_keep_checkpoint_every_n_hours': 10000, '_model_dir': '/tmp/tmp2h89bmxn'}\n",
            "WARNING:tensorflow:From <ipython-input-12-603995bc358e>:9: SKCompat.__init__ (from tensorflow.contrib.learn.python.learn.estimators.estimator) is deprecated and will be removed in a future version.\n",
            "Instructions for updating:\n",
            "Please switch to the Estimator interface.\n",
            "WARNING:tensorflow:From /usr/local/lib/python3.6/dist-packages/tensorflow/contrib/learn/python/learn/learn_io/data_feeder.py:102: extract_pandas_labels (from tensorflow.contrib.learn.python.learn.learn_io.pandas_io) is deprecated and will be removed in a future version.\n",
            "Instructions for updating:\n",
            "Please access pandas data directly.\n",
            "WARNING:tensorflow:From /usr/local/lib/python3.6/dist-packages/tensorflow/contrib/learn/python/learn/estimators/head.py:678: ModelFnOps.__new__ (from tensorflow.contrib.learn.python.learn.estimators.model_fn) is deprecated and will be removed in a future version.\n",
            "Instructions for updating:\n",
            "When switching to tf.estimator.Estimator, use tf.estimator.EstimatorSpec. You can use the `estimator_spec` method to create an equivalent one.\n",
            "INFO:tensorflow:Create CheckpointSaverHook.\n",
            "INFO:tensorflow:Graph was finalized.\n",
            "INFO:tensorflow:Running local_init_op.\n",
            "INFO:tensorflow:Done running local_init_op.\n",
            "INFO:tensorflow:Saving checkpoints for 0 into /tmp/tmp2h89bmxn/model.ckpt.\n",
            "INFO:tensorflow:loss = 2.3569734, step = 1\n",
            "INFO:tensorflow:global_step/sec: 200.555\n",
            "INFO:tensorflow:loss = 0.3046919, step = 101 (0.503 sec)\n",
            "INFO:tensorflow:global_step/sec: 213.123\n",
            "INFO:tensorflow:loss = 0.30714193, step = 201 (0.467 sec)\n",
            "INFO:tensorflow:global_step/sec: 218.494\n",
            "INFO:tensorflow:loss = 0.48640096, step = 301 (0.458 sec)\n",
            "INFO:tensorflow:global_step/sec: 218.318\n",
            "INFO:tensorflow:loss = 0.21257913, step = 401 (0.459 sec)\n",
            "INFO:tensorflow:global_step/sec: 212.751\n",
            "INFO:tensorflow:loss = 0.20363916, step = 501 (0.470 sec)\n",
            "INFO:tensorflow:global_step/sec: 215.711\n",
            "INFO:tensorflow:loss = 0.047898833, step = 601 (0.461 sec)\n",
            "INFO:tensorflow:global_step/sec: 214.416\n",
            "INFO:tensorflow:loss = 0.10185817, step = 701 (0.470 sec)\n",
            "INFO:tensorflow:global_step/sec: 204.95\n",
            "INFO:tensorflow:loss = 0.12561479, step = 801 (0.486 sec)\n",
            "INFO:tensorflow:global_step/sec: 205.711\n",
            "INFO:tensorflow:loss = 0.08239875, step = 901 (0.487 sec)\n",
            "INFO:tensorflow:global_step/sec: 212.625\n",
            "INFO:tensorflow:loss = 0.15523301, step = 1001 (0.469 sec)\n",
            "INFO:tensorflow:global_step/sec: 212.919\n",
            "INFO:tensorflow:loss = 0.24760763, step = 1101 (0.474 sec)\n",
            "INFO:tensorflow:global_step/sec: 203.148\n",
            "INFO:tensorflow:loss = 0.14333533, step = 1201 (0.491 sec)\n",
            "INFO:tensorflow:global_step/sec: 213.69\n",
            "INFO:tensorflow:loss = 0.1731661, step = 1301 (0.464 sec)\n",
            "INFO:tensorflow:global_step/sec: 224.311\n",
            "INFO:tensorflow:loss = 0.09594304, step = 1401 (0.447 sec)\n",
            "INFO:tensorflow:global_step/sec: 221.445\n",
            "INFO:tensorflow:loss = 0.12520161, step = 1501 (0.451 sec)\n",
            "INFO:tensorflow:global_step/sec: 209.242\n",
            "INFO:tensorflow:loss = 0.12941025, step = 1601 (0.479 sec)\n",
            "INFO:tensorflow:global_step/sec: 210.365\n",
            "INFO:tensorflow:loss = 0.04894856, step = 1701 (0.477 sec)\n",
            "INFO:tensorflow:global_step/sec: 216.757\n",
            "INFO:tensorflow:loss = 0.12693165, step = 1801 (0.461 sec)\n",
            "INFO:tensorflow:global_step/sec: 217.609\n",
            "INFO:tensorflow:loss = 0.104231745, step = 1901 (0.457 sec)\n",
            "INFO:tensorflow:global_step/sec: 212.31\n",
            "INFO:tensorflow:loss = 0.10031908, step = 2001 (0.471 sec)\n",
            "INFO:tensorflow:global_step/sec: 215.037\n",
            "INFO:tensorflow:loss = 0.031422682, step = 2101 (0.467 sec)\n",
            "INFO:tensorflow:global_step/sec: 210.774\n",
            "INFO:tensorflow:loss = 0.023622673, step = 2201 (0.475 sec)\n",
            "INFO:tensorflow:global_step/sec: 210.009\n",
            "INFO:tensorflow:loss = 0.012932981, step = 2301 (0.475 sec)\n",
            "INFO:tensorflow:global_step/sec: 211.246\n",
            "INFO:tensorflow:loss = 0.03630017, step = 2401 (0.473 sec)\n",
            "INFO:tensorflow:global_step/sec: 208.933\n",
            "INFO:tensorflow:loss = 0.0848957, step = 2501 (0.478 sec)\n",
            "INFO:tensorflow:global_step/sec: 204.759\n",
            "INFO:tensorflow:loss = 0.036796864, step = 2601 (0.490 sec)\n",
            "INFO:tensorflow:global_step/sec: 214.578\n",
            "INFO:tensorflow:loss = 0.009280659, step = 2701 (0.464 sec)\n",
            "INFO:tensorflow:global_step/sec: 218.581\n",
            "INFO:tensorflow:loss = 0.03261456, step = 2801 (0.460 sec)\n",
            "INFO:tensorflow:global_step/sec: 224.969\n",
            "INFO:tensorflow:loss = 0.20247863, step = 2901 (0.444 sec)\n",
            "INFO:tensorflow:global_step/sec: 216.116\n",
            "INFO:tensorflow:loss = 0.021748874, step = 3001 (0.461 sec)\n",
            "INFO:tensorflow:global_step/sec: 214.952\n",
            "INFO:tensorflow:loss = 0.03193849, step = 3101 (0.465 sec)\n",
            "INFO:tensorflow:global_step/sec: 218.062\n",
            "INFO:tensorflow:loss = 0.0063290833, step = 3201 (0.461 sec)\n",
            "INFO:tensorflow:global_step/sec: 212.47\n",
            "INFO:tensorflow:loss = 0.020714281, step = 3301 (0.468 sec)\n",
            "INFO:tensorflow:global_step/sec: 218.946\n",
            "INFO:tensorflow:loss = 0.19875288, step = 3401 (0.457 sec)\n",
            "INFO:tensorflow:global_step/sec: 203.63\n",
            "INFO:tensorflow:loss = 0.112821124, step = 3501 (0.491 sec)\n",
            "INFO:tensorflow:global_step/sec: 218.797\n",
            "INFO:tensorflow:loss = 0.15067624, step = 3601 (0.460 sec)\n",
            "INFO:tensorflow:global_step/sec: 205.372\n",
            "INFO:tensorflow:loss = 0.018257841, step = 3701 (0.484 sec)\n",
            "INFO:tensorflow:global_step/sec: 218.738\n",
            "INFO:tensorflow:loss = 0.009310209, step = 3801 (0.458 sec)\n",
            "INFO:tensorflow:global_step/sec: 211.859\n",
            "INFO:tensorflow:loss = 0.09161613, step = 3901 (0.472 sec)\n",
            "INFO:tensorflow:global_step/sec: 224.278\n",
            "INFO:tensorflow:loss = 0.064288065, step = 4001 (0.447 sec)\n",
            "INFO:tensorflow:global_step/sec: 216.592\n",
            "INFO:tensorflow:loss = 0.037545197, step = 4101 (0.460 sec)\n",
            "INFO:tensorflow:global_step/sec: 219.058\n",
            "INFO:tensorflow:loss = 0.076848246, step = 4201 (0.457 sec)\n",
            "INFO:tensorflow:global_step/sec: 216.998\n",
            "INFO:tensorflow:loss = 0.1843868, step = 4301 (0.462 sec)\n",
            "INFO:tensorflow:global_step/sec: 217.013\n",
            "INFO:tensorflow:loss = 0.07558039, step = 4401 (0.460 sec)\n",
            "INFO:tensorflow:global_step/sec: 218.19\n",
            "INFO:tensorflow:loss = 0.036339533, step = 4501 (0.457 sec)\n",
            "INFO:tensorflow:global_step/sec: 211.943\n",
            "INFO:tensorflow:loss = 0.021802897, step = 4601 (0.474 sec)\n",
            "INFO:tensorflow:global_step/sec: 217.736\n",
            "INFO:tensorflow:loss = 0.014300152, step = 4701 (0.457 sec)\n",
            "INFO:tensorflow:global_step/sec: 210.624\n",
            "INFO:tensorflow:loss = 0.019147737, step = 4801 (0.477 sec)\n",
            "INFO:tensorflow:global_step/sec: 213.964\n",
            "INFO:tensorflow:loss = 0.083315894, step = 4901 (0.467 sec)\n",
            "INFO:tensorflow:global_step/sec: 212.86\n",
            "INFO:tensorflow:loss = 0.033687, step = 5001 (0.469 sec)\n",
            "INFO:tensorflow:global_step/sec: 222.847\n",
            "INFO:tensorflow:loss = 0.0035875302, step = 5101 (0.449 sec)\n",
            "INFO:tensorflow:global_step/sec: 209.318\n",
            "INFO:tensorflow:loss = 0.013218658, step = 5201 (0.479 sec)\n",
            "INFO:tensorflow:global_step/sec: 215.337\n",
            "INFO:tensorflow:loss = 0.04296931, step = 5301 (0.465 sec)\n",
            "INFO:tensorflow:global_step/sec: 209.941\n",
            "INFO:tensorflow:loss = 0.041615006, step = 5401 (0.473 sec)\n",
            "INFO:tensorflow:global_step/sec: 221.879\n",
            "INFO:tensorflow:loss = 0.038405612, step = 5501 (0.451 sec)\n",
            "INFO:tensorflow:global_step/sec: 217.137\n",
            "INFO:tensorflow:loss = 0.038653802, step = 5601 (0.463 sec)\n",
            "INFO:tensorflow:global_step/sec: 203.133\n",
            "INFO:tensorflow:loss = 0.0072766156, step = 5701 (0.493 sec)\n",
            "INFO:tensorflow:global_step/sec: 189.931\n",
            "INFO:tensorflow:loss = 0.0028093213, step = 5801 (0.535 sec)\n",
            "INFO:tensorflow:global_step/sec: 184.013\n",
            "INFO:tensorflow:loss = 0.07599629, step = 5901 (0.531 sec)\n",
            "INFO:tensorflow:global_step/sec: 187.234\n",
            "INFO:tensorflow:loss = 0.10081031, step = 6001 (0.534 sec)\n",
            "INFO:tensorflow:global_step/sec: 209.207\n",
            "INFO:tensorflow:loss = 0.006814212, step = 6101 (0.478 sec)\n",
            "INFO:tensorflow:global_step/sec: 185.933\n",
            "INFO:tensorflow:loss = 0.0033487063, step = 6201 (0.541 sec)\n",
            "INFO:tensorflow:global_step/sec: 186.079\n",
            "INFO:tensorflow:loss = 0.054454535, step = 6301 (0.534 sec)\n",
            "INFO:tensorflow:global_step/sec: 188.386\n",
            "INFO:tensorflow:loss = 0.023759827, step = 6401 (0.533 sec)\n",
            "INFO:tensorflow:global_step/sec: 196.147\n",
            "INFO:tensorflow:loss = 0.011167628, step = 6501 (0.508 sec)\n",
            "INFO:tensorflow:global_step/sec: 174.733\n",
            "INFO:tensorflow:loss = 0.008336396, step = 6601 (0.572 sec)\n",
            "INFO:tensorflow:global_step/sec: 195.182\n",
            "INFO:tensorflow:loss = 0.04009165, step = 6701 (0.514 sec)\n",
            "INFO:tensorflow:global_step/sec: 197.032\n",
            "INFO:tensorflow:loss = 0.005857955, step = 6801 (0.511 sec)\n",
            "INFO:tensorflow:global_step/sec: 210.928\n",
            "INFO:tensorflow:loss = 0.007266358, step = 6901 (0.469 sec)\n",
            "INFO:tensorflow:global_step/sec: 210.642\n",
            "INFO:tensorflow:loss = 0.007470442, step = 7001 (0.476 sec)\n",
            "INFO:tensorflow:global_step/sec: 219.6\n",
            "INFO:tensorflow:loss = 0.0011980252, step = 7101 (0.455 sec)\n",
            "INFO:tensorflow:global_step/sec: 219.847\n",
            "INFO:tensorflow:loss = 0.01544161, step = 7201 (0.457 sec)\n",
            "INFO:tensorflow:global_step/sec: 212.086\n",
            "INFO:tensorflow:loss = 0.0028884583, step = 7301 (0.468 sec)\n",
            "INFO:tensorflow:global_step/sec: 219.872\n",
            "INFO:tensorflow:loss = 0.021610381, step = 7401 (0.455 sec)\n",
            "INFO:tensorflow:global_step/sec: 220.889\n",
            "INFO:tensorflow:loss = 0.0008646797, step = 7501 (0.454 sec)\n",
            "INFO:tensorflow:global_step/sec: 218.072\n",
            "INFO:tensorflow:loss = 0.015031554, step = 7601 (0.457 sec)\n",
            "INFO:tensorflow:global_step/sec: 214.854\n",
            "INFO:tensorflow:loss = 0.005372233, step = 7701 (0.467 sec)\n",
            "INFO:tensorflow:global_step/sec: 219.747\n",
            "INFO:tensorflow:loss = 0.0037187987, step = 7801 (0.454 sec)\n",
            "INFO:tensorflow:global_step/sec: 206.661\n",
            "INFO:tensorflow:loss = 0.0033993302, step = 7901 (0.483 sec)\n",
            "INFO:tensorflow:global_step/sec: 222.852\n",
            "INFO:tensorflow:loss = 0.00051796867, step = 8001 (0.448 sec)\n",
            "INFO:tensorflow:global_step/sec: 220.242\n",
            "INFO:tensorflow:loss = 0.012682129, step = 8101 (0.454 sec)\n",
            "INFO:tensorflow:global_step/sec: 224.053\n",
            "INFO:tensorflow:loss = 0.014048865, step = 8201 (0.447 sec)\n",
            "INFO:tensorflow:global_step/sec: 222.611\n",
            "INFO:tensorflow:loss = 0.02548436, step = 8301 (0.448 sec)\n",
            "INFO:tensorflow:global_step/sec: 216.96\n",
            "INFO:tensorflow:loss = 0.00083631335, step = 8401 (0.462 sec)\n",
            "INFO:tensorflow:global_step/sec: 217.049\n",
            "INFO:tensorflow:loss = 0.0029192197, step = 8501 (0.462 sec)\n",
            "INFO:tensorflow:global_step/sec: 211.117\n",
            "INFO:tensorflow:loss = 0.004157582, step = 8601 (0.474 sec)\n",
            "INFO:tensorflow:global_step/sec: 208.437\n",
            "INFO:tensorflow:loss = 0.0021119455, step = 8701 (0.477 sec)\n",
            "INFO:tensorflow:global_step/sec: 212.294\n",
            "INFO:tensorflow:loss = 0.019798864, step = 8801 (0.474 sec)\n",
            "INFO:tensorflow:global_step/sec: 221.306\n",
            "INFO:tensorflow:loss = 0.0040398263, step = 8901 (0.450 sec)\n",
            "INFO:tensorflow:global_step/sec: 215.103\n",
            "INFO:tensorflow:loss = 0.0021660859, step = 9001 (0.465 sec)\n",
            "INFO:tensorflow:global_step/sec: 227.967\n",
            "INFO:tensorflow:loss = 0.0048682555, step = 9101 (0.441 sec)\n",
            "INFO:tensorflow:global_step/sec: 212.574\n",
            "INFO:tensorflow:loss = 0.00039045166, step = 9201 (0.470 sec)\n",
            "INFO:tensorflow:global_step/sec: 224.094\n",
            "INFO:tensorflow:loss = 0.012066427, step = 9301 (0.444 sec)\n",
            "INFO:tensorflow:global_step/sec: 218.378\n",
            "INFO:tensorflow:loss = 0.01929309, step = 9401 (0.460 sec)\n",
            "INFO:tensorflow:global_step/sec: 216.595\n",
            "INFO:tensorflow:loss = 0.002874909, step = 9501 (0.461 sec)\n",
            "INFO:tensorflow:global_step/sec: 214.936\n",
            "INFO:tensorflow:loss = 0.005831557, step = 9601 (0.466 sec)\n",
            "INFO:tensorflow:global_step/sec: 219.004\n",
            "INFO:tensorflow:loss = 0.0027498358, step = 9701 (0.455 sec)\n",
            "INFO:tensorflow:global_step/sec: 222.802\n",
            "INFO:tensorflow:loss = 0.0018266748, step = 9801 (0.450 sec)\n",
            "INFO:tensorflow:global_step/sec: 219.245\n",
            "INFO:tensorflow:loss = 0.0077287783, step = 9901 (0.457 sec)\n",
            "INFO:tensorflow:global_step/sec: 226.644\n",
            "INFO:tensorflow:loss = 0.0024272245, step = 10001 (0.441 sec)\n",
            "INFO:tensorflow:global_step/sec: 210.004\n",
            "INFO:tensorflow:loss = 0.0029135454, step = 10101 (0.474 sec)\n",
            "INFO:tensorflow:global_step/sec: 224.882\n",
            "INFO:tensorflow:loss = 0.001420012, step = 10201 (0.446 sec)\n",
            "INFO:tensorflow:global_step/sec: 219.773\n",
            "INFO:tensorflow:loss = 0.00040913458, step = 10301 (0.454 sec)\n",
            "INFO:tensorflow:global_step/sec: 217.432\n",
            "INFO:tensorflow:loss = 0.06464649, step = 10401 (0.462 sec)\n",
            "INFO:tensorflow:global_step/sec: 215.99\n",
            "INFO:tensorflow:loss = 0.00024500408, step = 10501 (0.462 sec)\n",
            "INFO:tensorflow:global_step/sec: 212.056\n",
            "INFO:tensorflow:loss = 0.020683508, step = 10601 (0.472 sec)\n",
            "INFO:tensorflow:global_step/sec: 216.774\n",
            "INFO:tensorflow:loss = 0.0105657885, step = 10701 (0.460 sec)\n",
            "INFO:tensorflow:global_step/sec: 216.831\n",
            "INFO:tensorflow:loss = 0.0015934381, step = 10801 (0.460 sec)\n",
            "INFO:tensorflow:global_step/sec: 221.291\n",
            "INFO:tensorflow:loss = 0.0027285367, step = 10901 (0.452 sec)\n",
            "INFO:tensorflow:global_step/sec: 215.593\n",
            "INFO:tensorflow:loss = 0.0020168512, step = 11001 (0.466 sec)\n",
            "INFO:tensorflow:global_step/sec: 210.374\n",
            "INFO:tensorflow:loss = 0.0009153793, step = 11101 (0.474 sec)\n",
            "INFO:tensorflow:global_step/sec: 211.77\n",
            "INFO:tensorflow:loss = 9.039107e-05, step = 11201 (0.474 sec)\n",
            "INFO:tensorflow:global_step/sec: 212.184\n",
            "INFO:tensorflow:loss = 0.006075425, step = 11301 (0.469 sec)\n",
            "INFO:tensorflow:global_step/sec: 211.818\n",
            "INFO:tensorflow:loss = 0.0013318127, step = 11401 (0.472 sec)\n",
            "INFO:tensorflow:global_step/sec: 217.5\n",
            "INFO:tensorflow:loss = 0.0043128226, step = 11501 (0.459 sec)\n",
            "INFO:tensorflow:global_step/sec: 209.548\n",
            "INFO:tensorflow:loss = 0.00010232411, step = 11601 (0.480 sec)\n",
            "INFO:tensorflow:global_step/sec: 211.61\n",
            "INFO:tensorflow:loss = 0.0003644243, step = 11701 (0.470 sec)\n",
            "INFO:tensorflow:global_step/sec: 208.067\n",
            "INFO:tensorflow:loss = 3.6081496e-05, step = 11801 (0.482 sec)\n",
            "INFO:tensorflow:global_step/sec: 214.898\n",
            "INFO:tensorflow:loss = 0.006290876, step = 11901 (0.464 sec)\n",
            "INFO:tensorflow:global_step/sec: 205.331\n",
            "INFO:tensorflow:loss = 0.00014607067, step = 12001 (0.488 sec)\n",
            "INFO:tensorflow:global_step/sec: 218.7\n",
            "INFO:tensorflow:loss = 0.0012830085, step = 12101 (0.456 sec)\n",
            "INFO:tensorflow:global_step/sec: 219.541\n",
            "INFO:tensorflow:loss = 0.007983905, step = 12201 (0.456 sec)\n",
            "INFO:tensorflow:global_step/sec: 212.4\n",
            "INFO:tensorflow:loss = 0.0016733218, step = 12301 (0.471 sec)\n",
            "INFO:tensorflow:global_step/sec: 227.049\n",
            "INFO:tensorflow:loss = 3.92168e-05, step = 12401 (0.440 sec)\n",
            "INFO:tensorflow:global_step/sec: 221.334\n",
            "INFO:tensorflow:loss = 0.002105221, step = 12501 (0.452 sec)\n",
            "INFO:tensorflow:global_step/sec: 212.525\n",
            "INFO:tensorflow:loss = 0.0010230694, step = 12601 (0.470 sec)\n",
            "INFO:tensorflow:global_step/sec: 220.455\n",
            "INFO:tensorflow:loss = 0.008546539, step = 12701 (0.454 sec)\n",
            "INFO:tensorflow:global_step/sec: 207.585\n",
            "INFO:tensorflow:loss = 0.0013537018, step = 12801 (0.483 sec)\n",
            "INFO:tensorflow:global_step/sec: 221.605\n",
            "INFO:tensorflow:loss = 0.0014362065, step = 12901 (0.449 sec)\n",
            "INFO:tensorflow:global_step/sec: 213.543\n",
            "INFO:tensorflow:loss = 0.00043354073, step = 13001 (0.471 sec)\n",
            "INFO:tensorflow:global_step/sec: 219.851\n",
            "INFO:tensorflow:loss = 0.00078332715, step = 13101 (0.454 sec)\n",
            "INFO:tensorflow:global_step/sec: 217.614\n",
            "INFO:tensorflow:loss = 0.00017911415, step = 13201 (0.459 sec)\n",
            "INFO:tensorflow:global_step/sec: 209.548\n",
            "INFO:tensorflow:loss = 0.00024915906, step = 13301 (0.479 sec)\n",
            "INFO:tensorflow:global_step/sec: 211.962\n",
            "INFO:tensorflow:loss = 0.001201291, step = 13401 (0.468 sec)\n",
            "INFO:tensorflow:global_step/sec: 213.713\n",
            "INFO:tensorflow:loss = 0.00075817737, step = 13501 (0.470 sec)\n",
            "INFO:tensorflow:global_step/sec: 211.353\n",
            "INFO:tensorflow:loss = 0.0017791677, step = 13601 (0.471 sec)\n",
            "INFO:tensorflow:global_step/sec: 217.362\n",
            "INFO:tensorflow:loss = 0.0010800542, step = 13701 (0.462 sec)\n",
            "INFO:tensorflow:global_step/sec: 215.35\n",
            "INFO:tensorflow:loss = 0.0017853822, step = 13801 (0.469 sec)\n",
            "INFO:tensorflow:global_step/sec: 215.98\n",
            "INFO:tensorflow:loss = 0.00041597738, step = 13901 (0.456 sec)\n",
            "INFO:tensorflow:global_step/sec: 220.498\n",
            "INFO:tensorflow:loss = 0.0010857877, step = 14001 (0.455 sec)\n",
            "INFO:tensorflow:global_step/sec: 216.251\n",
            "INFO:tensorflow:loss = 0.0010503622, step = 14101 (0.467 sec)\n",
            "INFO:tensorflow:global_step/sec: 219.563\n",
            "INFO:tensorflow:loss = 0.002150138, step = 14201 (0.452 sec)\n",
            "INFO:tensorflow:global_step/sec: 209.151\n",
            "INFO:tensorflow:loss = 0.00072978577, step = 14301 (0.480 sec)\n",
            "INFO:tensorflow:global_step/sec: 212.719\n",
            "INFO:tensorflow:loss = 0.00049967744, step = 14401 (0.467 sec)\n",
            "INFO:tensorflow:global_step/sec: 211.505\n",
            "INFO:tensorflow:loss = 0.00021842093, step = 14501 (0.475 sec)\n",
            "INFO:tensorflow:global_step/sec: 210.92\n",
            "INFO:tensorflow:loss = 0.0013346137, step = 14601 (0.472 sec)\n",
            "INFO:tensorflow:global_step/sec: 217.171\n",
            "INFO:tensorflow:loss = 0.00017112441, step = 14701 (0.461 sec)\n",
            "INFO:tensorflow:global_step/sec: 212.44\n",
            "INFO:tensorflow:loss = 0.00021790696, step = 14801 (0.473 sec)\n",
            "INFO:tensorflow:global_step/sec: 210.473\n",
            "INFO:tensorflow:loss = 0.00066794903, step = 14901 (0.473 sec)\n",
            "INFO:tensorflow:global_step/sec: 208.168\n",
            "INFO:tensorflow:loss = 9.145674e-05, step = 15001 (0.482 sec)\n",
            "INFO:tensorflow:global_step/sec: 205.083\n",
            "INFO:tensorflow:loss = 0.00040166583, step = 15101 (0.490 sec)\n",
            "INFO:tensorflow:global_step/sec: 204.096\n",
            "INFO:tensorflow:loss = 0.00037345997, step = 15201 (0.486 sec)\n",
            "INFO:tensorflow:global_step/sec: 217.538\n",
            "INFO:tensorflow:loss = 0.0007421737, step = 15301 (0.462 sec)\n",
            "INFO:tensorflow:global_step/sec: 206.06\n",
            "INFO:tensorflow:loss = 0.00025955122, step = 15401 (0.483 sec)\n",
            "INFO:tensorflow:global_step/sec: 214.612\n",
            "INFO:tensorflow:loss = 0.0010004676, step = 15501 (0.468 sec)\n",
            "INFO:tensorflow:global_step/sec: 217.433\n",
            "INFO:tensorflow:loss = 0.0017878258, step = 15601 (0.457 sec)\n",
            "INFO:tensorflow:global_step/sec: 226.771\n",
            "INFO:tensorflow:loss = 0.001841239, step = 15701 (0.444 sec)\n",
            "INFO:tensorflow:global_step/sec: 207.04\n",
            "INFO:tensorflow:loss = 0.00010782646, step = 15801 (0.484 sec)\n",
            "INFO:tensorflow:global_step/sec: 219.102\n",
            "INFO:tensorflow:loss = 2.5814319e-05, step = 15901 (0.453 sec)\n",
            "INFO:tensorflow:global_step/sec: 214.557\n",
            "INFO:tensorflow:loss = 0.0016433793, step = 16001 (0.466 sec)\n",
            "INFO:tensorflow:global_step/sec: 211.134\n",
            "INFO:tensorflow:loss = 0.00045139698, step = 16101 (0.473 sec)\n",
            "INFO:tensorflow:global_step/sec: 217.556\n",
            "INFO:tensorflow:loss = 6.3697735e-05, step = 16201 (0.460 sec)\n",
            "INFO:tensorflow:global_step/sec: 221.083\n",
            "INFO:tensorflow:loss = 0.00046211353, step = 16301 (0.453 sec)\n",
            "INFO:tensorflow:global_step/sec: 227.409\n",
            "INFO:tensorflow:loss = 0.00027179084, step = 16401 (0.439 sec)\n",
            "INFO:tensorflow:global_step/sec: 217.711\n",
            "INFO:tensorflow:loss = 0.0006662903, step = 16501 (0.465 sec)\n",
            "INFO:tensorflow:global_step/sec: 217.654\n",
            "INFO:tensorflow:loss = 0.0009737506, step = 16601 (0.456 sec)\n",
            "INFO:tensorflow:global_step/sec: 206.369\n",
            "INFO:tensorflow:loss = 0.00042109162, step = 16701 (0.486 sec)\n",
            "INFO:tensorflow:global_step/sec: 215.859\n",
            "INFO:tensorflow:loss = 0.00048063684, step = 16801 (0.461 sec)\n",
            "INFO:tensorflow:global_step/sec: 208.585\n",
            "INFO:tensorflow:loss = 0.00049175095, step = 16901 (0.480 sec)\n",
            "INFO:tensorflow:global_step/sec: 219.985\n",
            "INFO:tensorflow:loss = 0.0016468854, step = 17001 (0.453 sec)\n",
            "INFO:tensorflow:global_step/sec: 220.323\n",
            "INFO:tensorflow:loss = 0.00011011239, step = 17101 (0.454 sec)\n",
            "INFO:tensorflow:global_step/sec: 218.784\n",
            "INFO:tensorflow:loss = 0.0005353168, step = 17201 (0.458 sec)\n",
            "INFO:tensorflow:global_step/sec: 211.042\n",
            "INFO:tensorflow:loss = 0.0003483041, step = 17301 (0.473 sec)\n",
            "INFO:tensorflow:global_step/sec: 221.043\n",
            "INFO:tensorflow:loss = 0.00014925207, step = 17401 (0.453 sec)\n",
            "INFO:tensorflow:global_step/sec: 216.488\n",
            "INFO:tensorflow:loss = 0.0001322099, step = 17501 (0.466 sec)\n",
            "INFO:tensorflow:global_step/sec: 201.641\n",
            "INFO:tensorflow:loss = 5.4971166e-05, step = 17601 (0.491 sec)\n",
            "INFO:tensorflow:global_step/sec: 216.803\n",
            "INFO:tensorflow:loss = 0.00018557, step = 17701 (0.461 sec)\n",
            "INFO:tensorflow:global_step/sec: 213.236\n",
            "INFO:tensorflow:loss = 2.0629848e-05, step = 17801 (0.471 sec)\n",
            "INFO:tensorflow:global_step/sec: 222.444\n",
            "INFO:tensorflow:loss = 0.0007730153, step = 17901 (0.450 sec)\n",
            "INFO:tensorflow:global_step/sec: 206.099\n",
            "INFO:tensorflow:loss = 8.191926e-05, step = 18001 (0.484 sec)\n",
            "INFO:tensorflow:global_step/sec: 213.481\n",
            "INFO:tensorflow:loss = 0.00015290389, step = 18101 (0.472 sec)\n",
            "INFO:tensorflow:global_step/sec: 203.895\n",
            "INFO:tensorflow:loss = 0.0011444832, step = 18201 (0.487 sec)\n",
            "INFO:tensorflow:global_step/sec: 210.168\n",
            "INFO:tensorflow:loss = 0.0014175054, step = 18301 (0.478 sec)\n",
            "INFO:tensorflow:global_step/sec: 200.323\n",
            "INFO:tensorflow:loss = 0.0003791175, step = 18401 (0.499 sec)\n",
            "INFO:tensorflow:global_step/sec: 211.041\n",
            "INFO:tensorflow:loss = 0.00010545079, step = 18501 (0.471 sec)\n",
            "INFO:tensorflow:global_step/sec: 211.601\n",
            "INFO:tensorflow:loss = 0.0007541863, step = 18601 (0.475 sec)\n",
            "INFO:tensorflow:global_step/sec: 221.266\n",
            "INFO:tensorflow:loss = 0.0002906426, step = 18701 (0.449 sec)\n",
            "INFO:tensorflow:global_step/sec: 222.611\n",
            "INFO:tensorflow:loss = 0.00054680783, step = 18801 (0.450 sec)\n",
            "INFO:tensorflow:global_step/sec: 219.688\n",
            "INFO:tensorflow:loss = 0.0008232162, step = 18901 (0.455 sec)\n",
            "INFO:tensorflow:global_step/sec: 214.915\n",
            "INFO:tensorflow:loss = 0.00023967726, step = 19001 (0.465 sec)\n",
            "INFO:tensorflow:global_step/sec: 215.363\n",
            "INFO:tensorflow:loss = 0.00017742474, step = 19101 (0.465 sec)\n",
            "INFO:tensorflow:global_step/sec: 221.824\n",
            "INFO:tensorflow:loss = 0.00020316083, step = 19201 (0.454 sec)\n",
            "INFO:tensorflow:global_step/sec: 208.451\n",
            "INFO:tensorflow:loss = 0.002239416, step = 19301 (0.475 sec)\n",
            "INFO:tensorflow:global_step/sec: 221.877\n",
            "INFO:tensorflow:loss = 0.00014959957, step = 19401 (0.453 sec)\n",
            "INFO:tensorflow:global_step/sec: 218.071\n",
            "INFO:tensorflow:loss = 0.00043638886, step = 19501 (0.456 sec)\n",
            "INFO:tensorflow:global_step/sec: 217.092\n",
            "INFO:tensorflow:loss = 0.00019367493, step = 19601 (0.463 sec)\n",
            "INFO:tensorflow:global_step/sec: 213.409\n",
            "INFO:tensorflow:loss = 6.3319585e-06, step = 19701 (0.466 sec)\n",
            "INFO:tensorflow:global_step/sec: 222.159\n",
            "INFO:tensorflow:loss = 2.8886278e-05, step = 19801 (0.450 sec)\n",
            "INFO:tensorflow:global_step/sec: 202.441\n",
            "INFO:tensorflow:loss = 0.00041003124, step = 19901 (0.495 sec)\n",
            "INFO:tensorflow:global_step/sec: 213.546\n",
            "INFO:tensorflow:loss = 0.00052775495, step = 20001 (0.469 sec)\n",
            "INFO:tensorflow:global_step/sec: 223.133\n",
            "INFO:tensorflow:loss = 0.00013494564, step = 20101 (0.449 sec)\n",
            "INFO:tensorflow:global_step/sec: 221.382\n",
            "INFO:tensorflow:loss = 0.00059198245, step = 20201 (0.449 sec)\n",
            "INFO:tensorflow:global_step/sec: 220.79\n",
            "INFO:tensorflow:loss = 0.00021250418, step = 20301 (0.456 sec)\n",
            "INFO:tensorflow:global_step/sec: 214.389\n",
            "INFO:tensorflow:loss = 6.142927e-05, step = 20401 (0.467 sec)\n",
            "INFO:tensorflow:global_step/sec: 214.905\n",
            "INFO:tensorflow:loss = 0.00025002946, step = 20501 (0.462 sec)\n",
            "INFO:tensorflow:global_step/sec: 219.893\n",
            "INFO:tensorflow:loss = 0.0002572252, step = 20601 (0.457 sec)\n",
            "INFO:tensorflow:global_step/sec: 217.006\n",
            "INFO:tensorflow:loss = 0.00011087225, step = 20701 (0.462 sec)\n",
            "INFO:tensorflow:global_step/sec: 201.722\n",
            "INFO:tensorflow:loss = 0.00038780112, step = 20801 (0.493 sec)\n",
            "INFO:tensorflow:global_step/sec: 220.161\n",
            "INFO:tensorflow:loss = 0.00017464496, step = 20901 (0.453 sec)\n",
            "INFO:tensorflow:global_step/sec: 211.851\n",
            "INFO:tensorflow:loss = 0.00022574973, step = 21001 (0.474 sec)\n",
            "INFO:tensorflow:global_step/sec: 213.078\n",
            "INFO:tensorflow:loss = 0.00030966045, step = 21101 (0.468 sec)\n",
            "INFO:tensorflow:global_step/sec: 219.915\n",
            "INFO:tensorflow:loss = 0.0012796137, step = 21201 (0.455 sec)\n",
            "INFO:tensorflow:global_step/sec: 206.009\n",
            "INFO:tensorflow:loss = 0.00012739454, step = 21301 (0.485 sec)\n",
            "INFO:tensorflow:global_step/sec: 207.605\n",
            "INFO:tensorflow:loss = 0.00026992068, step = 21401 (0.482 sec)\n",
            "INFO:tensorflow:global_step/sec: 203.506\n",
            "INFO:tensorflow:loss = 1.7575398e-05, step = 21501 (0.491 sec)\n",
            "INFO:tensorflow:global_step/sec: 205.496\n",
            "INFO:tensorflow:loss = 0.00014168092, step = 21601 (0.487 sec)\n",
            "INFO:tensorflow:global_step/sec: 210.606\n",
            "INFO:tensorflow:loss = 0.00020099273, step = 21701 (0.475 sec)\n",
            "INFO:tensorflow:global_step/sec: 215.507\n",
            "INFO:tensorflow:loss = 0.00014043768, step = 21801 (0.464 sec)\n",
            "INFO:tensorflow:global_step/sec: 219.321\n",
            "INFO:tensorflow:loss = 0.0001245542, step = 21901 (0.456 sec)\n",
            "INFO:tensorflow:global_step/sec: 216.353\n",
            "INFO:tensorflow:loss = 8.669665e-06, step = 22001 (0.462 sec)\n",
            "INFO:tensorflow:global_step/sec: 219.612\n",
            "INFO:tensorflow:loss = 7.5884254e-06, step = 22101 (0.456 sec)\n",
            "INFO:tensorflow:global_step/sec: 223.441\n",
            "INFO:tensorflow:loss = 0.00023637095, step = 22201 (0.449 sec)\n",
            "INFO:tensorflow:global_step/sec: 205\n",
            "INFO:tensorflow:loss = 0.00027291567, step = 22301 (0.488 sec)\n",
            "INFO:tensorflow:global_step/sec: 215.75\n",
            "INFO:tensorflow:loss = 0.00058955414, step = 22401 (0.461 sec)\n",
            "INFO:tensorflow:global_step/sec: 218.289\n",
            "INFO:tensorflow:loss = 0.00016475382, step = 22501 (0.458 sec)\n",
            "INFO:tensorflow:global_step/sec: 213.281\n",
            "INFO:tensorflow:loss = 0.00062503235, step = 22601 (0.469 sec)\n",
            "INFO:tensorflow:global_step/sec: 224.792\n",
            "INFO:tensorflow:loss = 0.00030464187, step = 22701 (0.445 sec)\n",
            "INFO:tensorflow:global_step/sec: 217.97\n",
            "INFO:tensorflow:loss = 0.00012642292, step = 22801 (0.460 sec)\n",
            "INFO:tensorflow:global_step/sec: 209.876\n",
            "INFO:tensorflow:loss = 0.0005320961, step = 22901 (0.477 sec)\n",
            "INFO:tensorflow:global_step/sec: 215.51\n",
            "INFO:tensorflow:loss = 0.00022371652, step = 23001 (0.464 sec)\n",
            "INFO:tensorflow:global_step/sec: 215.888\n",
            "INFO:tensorflow:loss = 0.001092775, step = 23101 (0.461 sec)\n",
            "INFO:tensorflow:global_step/sec: 208.528\n",
            "INFO:tensorflow:loss = 0.0004880672, step = 23201 (0.480 sec)\n",
            "INFO:tensorflow:global_step/sec: 223.952\n",
            "INFO:tensorflow:loss = 0.0009486109, step = 23301 (0.446 sec)\n",
            "INFO:tensorflow:global_step/sec: 211.845\n",
            "INFO:tensorflow:loss = 8.288599e-05, step = 23401 (0.472 sec)\n",
            "INFO:tensorflow:global_step/sec: 222.288\n",
            "INFO:tensorflow:loss = 0.00024173959, step = 23501 (0.450 sec)\n",
            "INFO:tensorflow:global_step/sec: 208.244\n",
            "INFO:tensorflow:loss = 7.3973526e-05, step = 23601 (0.482 sec)\n",
            "INFO:tensorflow:global_step/sec: 210.355\n",
            "INFO:tensorflow:loss = 6.966255e-06, step = 23701 (0.474 sec)\n",
            "INFO:tensorflow:global_step/sec: 216.779\n",
            "INFO:tensorflow:loss = 0.00045157195, step = 23801 (0.461 sec)\n",
            "INFO:tensorflow:global_step/sec: 217.024\n",
            "INFO:tensorflow:loss = 0.00034177824, step = 23901 (0.461 sec)\n",
            "INFO:tensorflow:global_step/sec: 209.42\n",
            "INFO:tensorflow:loss = 6.347324e-05, step = 24001 (0.477 sec)\n",
            "INFO:tensorflow:global_step/sec: 202.479\n",
            "INFO:tensorflow:loss = 0.00018455263, step = 24101 (0.495 sec)\n",
            "INFO:tensorflow:global_step/sec: 211.316\n",
            "INFO:tensorflow:loss = 0.00030605186, step = 24201 (0.474 sec)\n",
            "INFO:tensorflow:global_step/sec: 216.212\n",
            "INFO:tensorflow:loss = 6.8563954e-06, step = 24301 (0.462 sec)\n",
            "INFO:tensorflow:global_step/sec: 211.829\n",
            "INFO:tensorflow:loss = 0.0004623589, step = 24401 (0.474 sec)\n",
            "INFO:tensorflow:global_step/sec: 207.706\n",
            "INFO:tensorflow:loss = 0.000120918754, step = 24501 (0.480 sec)\n",
            "INFO:tensorflow:global_step/sec: 208.658\n",
            "INFO:tensorflow:loss = 4.879492e-05, step = 24601 (0.478 sec)\n",
            "INFO:tensorflow:global_step/sec: 211.84\n",
            "INFO:tensorflow:loss = 0.00014549492, step = 24701 (0.474 sec)\n",
            "INFO:tensorflow:global_step/sec: 202.291\n",
            "INFO:tensorflow:loss = 0.00060773466, step = 24801 (0.494 sec)\n",
            "INFO:tensorflow:global_step/sec: 208.981\n",
            "INFO:tensorflow:loss = 0.00023374842, step = 24901 (0.479 sec)\n",
            "INFO:tensorflow:global_step/sec: 221.538\n",
            "INFO:tensorflow:loss = 0.00012112086, step = 25001 (0.452 sec)\n",
            "INFO:tensorflow:global_step/sec: 217.24\n",
            "INFO:tensorflow:loss = 0.0001719174, step = 25101 (0.461 sec)\n",
            "INFO:tensorflow:global_step/sec: 219.245\n",
            "INFO:tensorflow:loss = 0.00054533413, step = 25201 (0.456 sec)\n",
            "INFO:tensorflow:global_step/sec: 219.777\n",
            "INFO:tensorflow:loss = 4.1774852e-05, step = 25301 (0.455 sec)\n",
            "INFO:tensorflow:global_step/sec: 215.95\n",
            "INFO:tensorflow:loss = 0.00011915026, step = 25401 (0.463 sec)\n",
            "INFO:tensorflow:global_step/sec: 213.799\n",
            "INFO:tensorflow:loss = 0.00028106236, step = 25501 (0.466 sec)\n",
            "INFO:tensorflow:global_step/sec: 218.543\n",
            "INFO:tensorflow:loss = 0.00016417922, step = 25601 (0.458 sec)\n",
            "INFO:tensorflow:global_step/sec: 210.377\n",
            "INFO:tensorflow:loss = 0.00023023653, step = 25701 (0.476 sec)\n",
            "INFO:tensorflow:global_step/sec: 215.057\n",
            "INFO:tensorflow:loss = 0.00018534772, step = 25801 (0.466 sec)\n",
            "INFO:tensorflow:global_step/sec: 215.418\n",
            "INFO:tensorflow:loss = 0.00053145626, step = 25901 (0.462 sec)\n",
            "INFO:tensorflow:global_step/sec: 216.185\n",
            "INFO:tensorflow:loss = 9.925587e-06, step = 26001 (0.463 sec)\n",
            "INFO:tensorflow:global_step/sec: 212.902\n",
            "INFO:tensorflow:loss = 0.00015274645, step = 26101 (0.470 sec)\n",
            "INFO:tensorflow:global_step/sec: 215.094\n",
            "INFO:tensorflow:loss = 0.0002115229, step = 26201 (0.467 sec)\n",
            "INFO:tensorflow:global_step/sec: 212.234\n",
            "INFO:tensorflow:loss = 0.00017967596, step = 26301 (0.470 sec)\n",
            "INFO:tensorflow:global_step/sec: 214.612\n",
            "INFO:tensorflow:loss = 0.0008135747, step = 26401 (0.466 sec)\n",
            "INFO:tensorflow:global_step/sec: 209.59\n",
            "INFO:tensorflow:loss = 0.00015351432, step = 26501 (0.477 sec)\n",
            "INFO:tensorflow:global_step/sec: 205.848\n",
            "INFO:tensorflow:loss = 4.9202714e-05, step = 26601 (0.488 sec)\n",
            "INFO:tensorflow:global_step/sec: 218.995\n",
            "INFO:tensorflow:loss = 1.8498517e-05, step = 26701 (0.454 sec)\n",
            "INFO:tensorflow:global_step/sec: 214.987\n",
            "INFO:tensorflow:loss = 0.00013594014, step = 26801 (0.466 sec)\n",
            "INFO:tensorflow:global_step/sec: 210.347\n",
            "INFO:tensorflow:loss = 0.00013981335, step = 26901 (0.475 sec)\n",
            "INFO:tensorflow:global_step/sec: 222.665\n",
            "INFO:tensorflow:loss = 0.0001514749, step = 27001 (0.449 sec)\n",
            "INFO:tensorflow:global_step/sec: 209.859\n",
            "INFO:tensorflow:loss = 8.636729e-05, step = 27101 (0.478 sec)\n",
            "INFO:tensorflow:global_step/sec: 197.061\n",
            "INFO:tensorflow:loss = 0.00022378721, step = 27201 (0.505 sec)\n",
            "INFO:tensorflow:global_step/sec: 215.669\n",
            "INFO:tensorflow:loss = 0.00044620153, step = 27301 (0.466 sec)\n",
            "INFO:tensorflow:global_step/sec: 208.725\n",
            "INFO:tensorflow:loss = 6.417995e-06, step = 27401 (0.476 sec)\n",
            "INFO:tensorflow:global_step/sec: 212.955\n",
            "INFO:tensorflow:loss = 0.00014260014, step = 27501 (0.470 sec)\n",
            "INFO:tensorflow:global_step/sec: 210.441\n",
            "INFO:tensorflow:loss = 0.00023465003, step = 27601 (0.476 sec)\n",
            "INFO:tensorflow:global_step/sec: 214.144\n",
            "INFO:tensorflow:loss = 0.00010823079, step = 27701 (0.468 sec)\n",
            "INFO:tensorflow:global_step/sec: 208.609\n",
            "INFO:tensorflow:loss = 5.0766594e-05, step = 27801 (0.479 sec)\n",
            "INFO:tensorflow:global_step/sec: 208.373\n",
            "INFO:tensorflow:loss = 4.901242e-05, step = 27901 (0.481 sec)\n",
            "INFO:tensorflow:global_step/sec: 213.173\n",
            "INFO:tensorflow:loss = 0.00026654918, step = 28001 (0.467 sec)\n",
            "INFO:tensorflow:global_step/sec: 210.775\n",
            "INFO:tensorflow:loss = 0.0001715718, step = 28101 (0.474 sec)\n",
            "INFO:tensorflow:global_step/sec: 220.727\n",
            "INFO:tensorflow:loss = 0.0004092291, step = 28201 (0.454 sec)\n",
            "INFO:tensorflow:global_step/sec: 216.692\n",
            "INFO:tensorflow:loss = 0.0001966366, step = 28301 (0.461 sec)\n",
            "INFO:tensorflow:global_step/sec: 213.728\n",
            "INFO:tensorflow:loss = 0.00016482447, step = 28401 (0.471 sec)\n",
            "INFO:tensorflow:global_step/sec: 216.315\n",
            "INFO:tensorflow:loss = 5.3532767e-05, step = 28501 (0.459 sec)\n",
            "INFO:tensorflow:global_step/sec: 215.836\n",
            "INFO:tensorflow:loss = 2.7323906e-05, step = 28601 (0.463 sec)\n",
            "INFO:tensorflow:global_step/sec: 211.757\n",
            "INFO:tensorflow:loss = 0.00022929494, step = 28701 (0.473 sec)\n",
            "INFO:tensorflow:global_step/sec: 217.839\n",
            "INFO:tensorflow:loss = 0.00024595874, step = 28801 (0.459 sec)\n",
            "INFO:tensorflow:global_step/sec: 211.061\n",
            "INFO:tensorflow:loss = 6.8481284e-05, step = 28901 (0.475 sec)\n",
            "INFO:tensorflow:global_step/sec: 221.475\n",
            "INFO:tensorflow:loss = 0.00034424747, step = 29001 (0.451 sec)\n",
            "INFO:tensorflow:global_step/sec: 217.327\n",
            "INFO:tensorflow:loss = 0.0004061858, step = 29101 (0.462 sec)\n",
            "INFO:tensorflow:global_step/sec: 219.692\n",
            "INFO:tensorflow:loss = 0.0005526059, step = 29201 (0.453 sec)\n",
            "INFO:tensorflow:global_step/sec: 211.894\n",
            "INFO:tensorflow:loss = 0.00029415783, step = 29301 (0.472 sec)\n",
            "INFO:tensorflow:global_step/sec: 218.587\n",
            "INFO:tensorflow:loss = 0.00031436584, step = 29401 (0.460 sec)\n",
            "INFO:tensorflow:global_step/sec: 214.075\n",
            "INFO:tensorflow:loss = 0.00015951785, step = 29501 (0.464 sec)\n",
            "INFO:tensorflow:global_step/sec: 220.411\n",
            "INFO:tensorflow:loss = 2.1755402e-05, step = 29601 (0.455 sec)\n",
            "INFO:tensorflow:global_step/sec: 225.178\n",
            "INFO:tensorflow:loss = 4.9417275e-05, step = 29701 (0.445 sec)\n",
            "INFO:tensorflow:global_step/sec: 214.649\n",
            "INFO:tensorflow:loss = 0.00017539207, step = 29801 (0.464 sec)\n",
            "INFO:tensorflow:global_step/sec: 221.011\n",
            "INFO:tensorflow:loss = 0.0003621138, step = 29901 (0.452 sec)\n",
            "INFO:tensorflow:Saving checkpoints for 30000 into /tmp/tmp2h89bmxn/model.ckpt.\n",
            "INFO:tensorflow:Loss for final step: 0.00043477595.\n"
          ],
          "name": "stdout"
        },
        {
          "output_type": "execute_result",
          "data": {
            "text/plain": [
              "SKCompat()"
            ]
          },
          "metadata": {
            "tags": []
          },
          "execution_count": 12
        }
      ]
    },
    {
      "cell_type": "code",
      "metadata": {
        "colab": {
          "base_uri": "https://localhost:8080/"
        },
        "id": "OusN12G_xSDg",
        "outputId": "e3002eec-cee4-4900-85be-8f2dfc8ed070"
      },
      "source": [
        "feature_cols\n",
        "\n"
      ],
      "execution_count": 13,
      "outputs": [
        {
          "output_type": "execute_result",
          "data": {
            "text/plain": [
              "[_RealValuedColumn(column_name='', dimension=784, default_value=None, dtype=tf.float32, normalizer=None)]"
            ]
          },
          "metadata": {
            "tags": []
          },
          "execution_count": 13
        }
      ]
    },
    {
      "cell_type": "code",
      "metadata": {
        "colab": {
          "base_uri": "https://localhost:8080/"
        },
        "id": "dEI7hNk34e4z",
        "outputId": "8c082f03-635b-4fad-8ee7-be4a139edf6b"
      },
      "source": [
        "y_pred = dnn_clf.predict(X_test)\n",
        "accuracy_score(y_test, y_pred['classes'])"
      ],
      "execution_count": 14,
      "outputs": [
        {
          "output_type": "stream",
          "text": [
            "INFO:tensorflow:Graph was finalized.\n",
            "INFO:tensorflow:Restoring parameters from /tmp/tmp2h89bmxn/model.ckpt-30000\n",
            "INFO:tensorflow:Running local_init_op.\n",
            "INFO:tensorflow:Done running local_init_op.\n"
          ],
          "name": "stdout"
        },
        {
          "output_type": "execute_result",
          "data": {
            "text/plain": [
              "0.983"
            ]
          },
          "metadata": {
            "tags": []
          },
          "execution_count": 14
        }
      ]
    },
    {
      "cell_type": "code",
      "metadata": {
        "colab": {
          "base_uri": "https://localhost:8080/"
        },
        "id": "_wuMTpxE5nb-",
        "outputId": "d5a2fef4-c4a8-4c16-8768-a1f2559513a0"
      },
      "source": [
        "a = y_test == y_pred['classes']\n",
        "i = 0;\n",
        "for j in a:\n",
        "    if j == 0:\n",
        "        print(i)\n",
        "        print(\"Predicted:\")\n",
        "        print(y_pred['classes'][i])\n",
        "        print(\"Actual:\")\n",
        "        print(y_test[i])\n",
        "        print(\"-----\")\n",
        "        if i > 1000:\n",
        "            break\n",
        "    i += 1"
      ],
      "execution_count": 15,
      "outputs": [
        {
          "output_type": "stream",
          "text": [
            "115\n",
            "Predicted:\n",
            "9\n",
            "Actual:\n",
            "4\n",
            "-----\n",
            "149\n",
            "Predicted:\n",
            "4\n",
            "Actual:\n",
            "2\n",
            "-----\n",
            "247\n",
            "Predicted:\n",
            "2\n",
            "Actual:\n",
            "4\n",
            "-----\n",
            "259\n",
            "Predicted:\n",
            "0\n",
            "Actual:\n",
            "6\n",
            "-----\n",
            "321\n",
            "Predicted:\n",
            "7\n",
            "Actual:\n",
            "2\n",
            "-----\n",
            "340\n",
            "Predicted:\n",
            "3\n",
            "Actual:\n",
            "5\n",
            "-----\n",
            "432\n",
            "Predicted:\n",
            "5\n",
            "Actual:\n",
            "4\n",
            "-----\n",
            "445\n",
            "Predicted:\n",
            "0\n",
            "Actual:\n",
            "6\n",
            "-----\n",
            "447\n",
            "Predicted:\n",
            "9\n",
            "Actual:\n",
            "4\n",
            "-----\n",
            "448\n",
            "Predicted:\n",
            "8\n",
            "Actual:\n",
            "9\n",
            "-----\n",
            "449\n",
            "Predicted:\n",
            "5\n",
            "Actual:\n",
            "3\n",
            "-----\n",
            "495\n",
            "Predicted:\n",
            "2\n",
            "Actual:\n",
            "8\n",
            "-----\n",
            "582\n",
            "Predicted:\n",
            "2\n",
            "Actual:\n",
            "8\n",
            "-----\n",
            "619\n",
            "Predicted:\n",
            "8\n",
            "Actual:\n",
            "1\n",
            "-----\n",
            "659\n",
            "Predicted:\n",
            "1\n",
            "Actual:\n",
            "2\n",
            "-----\n",
            "674\n",
            "Predicted:\n",
            "3\n",
            "Actual:\n",
            "5\n",
            "-----\n",
            "720\n",
            "Predicted:\n",
            "8\n",
            "Actual:\n",
            "5\n",
            "-----\n",
            "813\n",
            "Predicted:\n",
            "8\n",
            "Actual:\n",
            "9\n",
            "-----\n",
            "938\n",
            "Predicted:\n",
            "5\n",
            "Actual:\n",
            "3\n",
            "-----\n",
            "947\n",
            "Predicted:\n",
            "9\n",
            "Actual:\n",
            "8\n",
            "-----\n",
            "951\n",
            "Predicted:\n",
            "4\n",
            "Actual:\n",
            "5\n",
            "-----\n",
            "956\n",
            "Predicted:\n",
            "2\n",
            "Actual:\n",
            "1\n",
            "-----\n",
            "1014\n",
            "Predicted:\n",
            "5\n",
            "Actual:\n",
            "6\n",
            "-----\n"
          ],
          "name": "stdout"
        }
      ]
    },
    {
      "cell_type": "code",
      "metadata": {
        "colab": {
          "base_uri": "https://localhost:8080/",
          "height": 286
        },
        "id": "-Gz87I496HMr",
        "outputId": "77357680-b7c2-44b8-cbb6-6fcbd127e7e6"
      },
      "source": [
        "plt.imshow(X_test[247].reshape(28, 28))\n"
      ],
      "execution_count": 16,
      "outputs": [
        {
          "output_type": "execute_result",
          "data": {
            "text/plain": [
              "<matplotlib.image.AxesImage at 0x7faf2860d400>"
            ]
          },
          "metadata": {
            "tags": []
          },
          "execution_count": 16
        },
        {
          "output_type": "display_data",
          "data": {
            "image/png": "[encoded data removed]",
            "text/plain": [
              "<Figure size 432x288 with 1 Axes>"
            ]
          },
          "metadata": {
            "tags": [],
            "needs_background": "light"
          }
        }
      ]
    },
    {
      "cell_type": "code",
      "metadata": {
        "colab": {
          "base_uri": "https://localhost:8080/",
          "height": 248
        },
        "id": "f0LcwVZ96R1K",
        "outputId": "1a6e40ca-9af8-4441-c99b-e3c9c4abfa63"
      },
      "source": [
        "some_digit = X_test[321]   # Selecting the 36,000th image.\n",
        "some_digit_image = some_digit.reshape(28, 28) # Reshaping it to get the 28x28 pixels\n",
        "plt.imshow(some_digit_image, cmap = matplotlib.cm.binary, interpolation=\"nearest\")\n",
        "plt.axis(\"off\")\n",
        "plt.show()"
      ],
      "execution_count": 17,
      "outputs": [
        {
          "output_type": "display_data",
          "data": {
            "image/png": "[encoded data removed]",
            "text/plain": [
              "<Figure size 432x288 with 1 Axes>"
            ]
          },
          "metadata": {
            "tags": [],
            "needs_background": "light"
          }
        }
      ]
    },
    {
      "cell_type": "code",
      "metadata": {
        "colab": {
          "base_uri": "https://localhost:8080/"
        },
        "id": "IHv1AdLH6eBG",
        "outputId": "eaa8d281-1c6c-4c39-9d6e-3f62a75aa611"
      },
      "source": [
        "y_pred_proba = y_pred['probabilities']\n",
        "log_loss(y_test, y_pred_proba)"
      ],
      "execution_count": 18,
      "outputs": [
        {
          "output_type": "execute_result",
          "data": {
            "text/plain": [
              "0.08586672009988675"
            ]
          },
          "metadata": {
            "tags": []
          },
          "execution_count": 18
        }
      ]
    }
  ]
}
