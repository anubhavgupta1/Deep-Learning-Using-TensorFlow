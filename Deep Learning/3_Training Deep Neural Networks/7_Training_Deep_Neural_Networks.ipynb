{
  "nbformat": 4,
  "nbformat_minor": 0,
  "metadata": {
    "colab": {
      "name": "7_Training_Deep_Neural_Networks.ipynb",
      "provenance": [],
      "authorship_tag": "ABX9TyN+TrskxGLKaAg1UkNYDElU",
      "include_colab_link": true
    },
    "kernelspec": {
      "name": "python3",
      "display_name": "Python 3"
    }
  },
  "cells": [
    {
      "cell_type": "markdown",
      "metadata": {
        "id": "view-in-github",
        "colab_type": "text"
      },
      "source": [
        "<a href=\"https://colab.research.google.com/github/anubhavgupta1/Deep-Learning-Using-TensorFlow/blob/master/7_Training_Deep_Neural_Networks.ipynb\" target=\"_parent\"><img src=\"https://colab.research.google.com/assets/colab-badge.svg\" alt=\"Open In Colab\"/></a>"
      ]
    },
    {
      "cell_type": "markdown",
      "metadata": {
        "id": "yC6jCBi0eBOG"
      },
      "source": [
        "#**Preprocessing**"
      ]
    },
    {
      "cell_type": "code",
      "metadata": {
        "colab": {
          "base_uri": "https://localhost:8080/"
        },
        "id": "wLAs1yE64kZh",
        "outputId": "c026a94f-4d56-40cd-8c83-1e61bd0dedc1"
      },
      "source": [
        "!ls\n",
        "!apt-get install -y -qq software-properties-common python-software-properties module-init-tools\n",
        "!add-apt-repository -y ppa:alessandro-strada/ppa 2>&1 > /dev/null\n",
        "!apt-get update -qq 2>&1 > /dev/null\n",
        "!apt-get -y install -qq google-drive-ocamlfuse fuse\n",
        "from google.colab import auth\n",
        "auth.authenticate_user()\n",
        "from oauth2client.client import GoogleCredentials\n",
        "creds = GoogleCredentials.get_application_default()\n",
        "import getpass\n",
        "!google-drive-ocamlfuse -headless -id={creds.client_id} -secret={creds.client_secret} < /dev/null 2>&1 | grep URL\n",
        "vcode = getpass.getpass()\n",
        "!echo {vcode} | google-drive-ocamlfuse -headless -id={creds.client_id} -secret={creds.client_secret}\n",
        "\n",
        "\n",
        "!mkdir -p drive\n",
        "!google-drive-ocamlfuse drive\n",
        "\n",
        "import os\n",
        "os.chdir(\"drive/\")\n",
        "!ls"
      ],
      "execution_count": 1,
      "outputs": [
        {
          "output_type": "stream",
          "text": [
            "sample_data\n",
            "E: Package 'python-software-properties' has no installation candidate\n",
            "Selecting previously unselected package google-drive-ocamlfuse.\n",
            "(Reading database ... 144865 files and directories currently installed.)\n",
            "Preparing to unpack .../google-drive-ocamlfuse_0.7.23-0ubuntu1~ubuntu18.04.1_amd64.deb ...\n",
            "Unpacking google-drive-ocamlfuse (0.7.23-0ubuntu1~ubuntu18.04.1) ...\n",
            "Setting up google-drive-ocamlfuse (0.7.23-0ubuntu1~ubuntu18.04.1) ...\n",
            "Processing triggers for man-db (2.8.3-2ubuntu0.1) ...\n",
            "Please, open the following URL in a web browser: https://accounts.google.com/o/oauth2/auth?client_id=32555940559.apps.googleusercontent.com&redirect_uri=urn%3Aietf%3Awg%3Aoauth%3A2.0%3Aoob&scope=https%3A%2F%2Fwww.googleapis.com%2Fauth%2Fdrive&response_type=code&access_type=offline&approval_prompt=force\n",
            "··········\n",
            "Please, open the following URL in a web browser: https://accounts.google.com/o/oauth2/auth?client_id=32555940559.apps.googleusercontent.com&redirect_uri=urn%3Aietf%3Awg%3Aoauth%3A2.0%3Aoob&scope=https%3A%2F%2Fwww.googleapis.com%2Fauth%2Fdrive&response_type=code&access_type=offline&approval_prompt=force\n",
            "Please enter the verification code: Access token retrieved correctly.\n",
            "'Capstone Project Submission .desktop'\n",
            "'Capstone Project Submission  (Responses).desktop'\n",
            "'Colab Notebooks'\n",
            " data\n",
            " Dataset\n",
            " drive\n",
            "'Getting started'\n",
            " images\n",
            " import\n",
            " model_ckps\n",
            " model_ckps1\n",
            " model_ckps10\n",
            " model_ckps2\n",
            " model_ckps3\n",
            " model_ckps4\n",
            " model_ckps5\n",
            " model_ckps6\n",
            " model_ckps7\n",
            " model_ckps8\n",
            " model_ckps9\n",
            " model_ckps_adagrad\n",
            " model_ckps_adam\n",
            " model_ckps_Learning_rate_scheduling\n",
            " model_ckps_momentum\n",
            " model_ckps_nestrov\n",
            " model_ckps_normal_gd\n",
            " model_ckps_reg_1\n",
            " model_ckps_reg_2\n",
            " model_ckps_rms_prop\n"
          ],
          "name": "stdout"
        }
      ]
    },
    {
      "cell_type": "code",
      "metadata": {
        "id": "NGp9k_-EHjsJ",
        "colab": {
          "base_uri": "https://localhost:8080/",
          "height": 1000
        },
        "outputId": "554d726d-fc8e-4ec6-d076-88f6027ad866"
      },
      "source": [
        "!pip install tensorflow==1.10.0"
      ],
      "execution_count": 2,
      "outputs": [
        {
          "output_type": "stream",
          "text": [
            "Collecting tensorflow==1.10.0\n",
            "\u001b[?25l  Downloading https://files.pythonhosted.org/packages/ee/e6/a6d371306c23c2b01cd2cb38909673d17ddd388d9e4b3c0f6602bfd972c8/tensorflow-1.10.0-cp36-cp36m-manylinux1_x86_64.whl (58.4MB)\n",
            "\u001b[K     |████████████████████████████████| 58.4MB 76kB/s \n",
            "\u001b[?25hRequirement already satisfied: six>=1.10.0 in /usr/local/lib/python3.6/dist-packages (from tensorflow==1.10.0) (1.15.0)\n",
            "Requirement already satisfied: termcolor>=1.1.0 in /usr/local/lib/python3.6/dist-packages (from tensorflow==1.10.0) (1.1.0)\n",
            "Collecting setuptools<=39.1.0\n",
            "\u001b[?25l  Downloading https://files.pythonhosted.org/packages/8c/10/79282747f9169f21c053c562a0baa21815a8c7879be97abd930dbcf862e8/setuptools-39.1.0-py2.py3-none-any.whl (566kB)\n",
            "\u001b[K     |████████████████████████████████| 573kB 40.2MB/s \n",
            "\u001b[?25hRequirement already satisfied: absl-py>=0.1.6 in /usr/local/lib/python3.6/dist-packages (from tensorflow==1.10.0) (0.10.0)\n",
            "Requirement already satisfied: grpcio>=1.8.6 in /usr/local/lib/python3.6/dist-packages (from tensorflow==1.10.0) (1.33.2)\n",
            "Requirement already satisfied: gast>=0.2.0 in /usr/local/lib/python3.6/dist-packages (from tensorflow==1.10.0) (0.3.3)\n",
            "Collecting tensorboard<1.11.0,>=1.10.0\n",
            "\u001b[?25l  Downloading https://files.pythonhosted.org/packages/c6/17/ecd918a004f297955c30b4fffbea100b1606c225dbf0443264012773c3ff/tensorboard-1.10.0-py3-none-any.whl (3.3MB)\n",
            "\u001b[K     |████████████████████████████████| 3.3MB 39.1MB/s \n",
            "\u001b[?25hRequirement already satisfied: wheel>=0.26 in /usr/local/lib/python3.6/dist-packages (from tensorflow==1.10.0) (0.35.1)\n",
            "Requirement already satisfied: astor>=0.6.0 in /usr/local/lib/python3.6/dist-packages (from tensorflow==1.10.0) (0.8.1)\n",
            "Requirement already satisfied: protobuf>=3.6.0 in /usr/local/lib/python3.6/dist-packages (from tensorflow==1.10.0) (3.12.4)\n",
            "Collecting numpy<=1.14.5,>=1.13.3\n",
            "\u001b[?25l  Downloading https://files.pythonhosted.org/packages/68/1e/116ad560de97694e2d0c1843a7a0075cc9f49e922454d32f49a80eb6f1f2/numpy-1.14.5-cp36-cp36m-manylinux1_x86_64.whl (12.2MB)\n",
            "\u001b[K     |████████████████████████████████| 12.2MB 34.9MB/s \n",
            "\u001b[?25hRequirement already satisfied: werkzeug>=0.11.10 in /usr/local/lib/python3.6/dist-packages (from tensorboard<1.11.0,>=1.10.0->tensorflow==1.10.0) (1.0.1)\n",
            "Requirement already satisfied: markdown>=2.6.8 in /usr/local/lib/python3.6/dist-packages (from tensorboard<1.11.0,>=1.10.0->tensorflow==1.10.0) (3.3.3)\n",
            "Requirement already satisfied: importlib-metadata; python_version < \"3.8\" in /usr/local/lib/python3.6/dist-packages (from markdown>=2.6.8->tensorboard<1.11.0,>=1.10.0->tensorflow==1.10.0) (2.0.0)\n",
            "Requirement already satisfied: zipp>=0.5 in /usr/local/lib/python3.6/dist-packages (from importlib-metadata; python_version < \"3.8\"->markdown>=2.6.8->tensorboard<1.11.0,>=1.10.0->tensorflow==1.10.0) (3.4.0)\n",
            "\u001b[31mERROR: xarray 0.15.1 has requirement numpy>=1.15, but you'll have numpy 1.14.5 which is incompatible.\u001b[0m\n",
            "\u001b[31mERROR: xarray 0.15.1 has requirement setuptools>=41.2, but you'll have setuptools 39.1.0 which is incompatible.\u001b[0m\n",
            "\u001b[31mERROR: umap-learn 0.4.6 has requirement numpy>=1.17, but you'll have numpy 1.14.5 which is incompatible.\u001b[0m\n",
            "\u001b[31mERROR: tifffile 2020.9.3 has requirement numpy>=1.15.1, but you'll have numpy 1.14.5 which is incompatible.\u001b[0m\n",
            "\u001b[31mERROR: spacy 2.2.4 has requirement numpy>=1.15.0, but you'll have numpy 1.14.5 which is incompatible.\u001b[0m\n",
            "\u001b[31mERROR: seaborn 0.11.0 has requirement numpy>=1.15, but you'll have numpy 1.14.5 which is incompatible.\u001b[0m\n",
            "\u001b[31mERROR: plotnine 0.6.0 has requirement numpy>=1.16.0, but you'll have numpy 1.14.5 which is incompatible.\u001b[0m\n",
            "\u001b[31mERROR: pandas 1.1.4 has requirement numpy>=1.15.4, but you'll have numpy 1.14.5 which is incompatible.\u001b[0m\n",
            "\u001b[31mERROR: numba 0.48.0 has requirement numpy>=1.15, but you'll have numpy 1.14.5 which is incompatible.\u001b[0m\n",
            "\u001b[31mERROR: imgaug 0.2.9 has requirement numpy>=1.15.0, but you'll have numpy 1.14.5 which is incompatible.\u001b[0m\n",
            "\u001b[31mERROR: google-auth 1.17.2 has requirement setuptools>=40.3.0, but you'll have setuptools 39.1.0 which is incompatible.\u001b[0m\n",
            "\u001b[31mERROR: fbprophet 0.7.1 has requirement numpy>=1.15.4, but you'll have numpy 1.14.5 which is incompatible.\u001b[0m\n",
            "\u001b[31mERROR: fastai 1.0.61 has requirement numpy>=1.15, but you'll have numpy 1.14.5 which is incompatible.\u001b[0m\n",
            "\u001b[31mERROR: datascience 0.10.6 has requirement folium==0.2.1, but you'll have folium 0.8.3 which is incompatible.\u001b[0m\n",
            "\u001b[31mERROR: cvxpy 1.0.31 has requirement numpy>=1.15, but you'll have numpy 1.14.5 which is incompatible.\u001b[0m\n",
            "\u001b[31mERROR: blis 0.4.1 has requirement numpy>=1.15.0, but you'll have numpy 1.14.5 which is incompatible.\u001b[0m\n",
            "\u001b[31mERROR: astropy 4.1 has requirement numpy>=1.16, but you'll have numpy 1.14.5 which is incompatible.\u001b[0m\n",
            "\u001b[31mERROR: albumentations 0.1.12 has requirement imgaug<0.2.7,>=0.2.5, but you'll have imgaug 0.2.9 which is incompatible.\u001b[0m\n",
            "Installing collected packages: setuptools, numpy, tensorboard, tensorflow\n",
            "  Found existing installation: setuptools 50.3.2\n",
            "    Uninstalling setuptools-50.3.2:\n",
            "      Successfully uninstalled setuptools-50.3.2\n",
            "  Found existing installation: numpy 1.18.5\n",
            "    Uninstalling numpy-1.18.5:\n",
            "      Successfully uninstalled numpy-1.18.5\n",
            "  Found existing installation: tensorboard 2.3.0\n",
            "    Uninstalling tensorboard-2.3.0:\n",
            "      Successfully uninstalled tensorboard-2.3.0\n",
            "  Found existing installation: tensorflow 2.3.0\n",
            "    Uninstalling tensorflow-2.3.0:\n",
            "      Successfully uninstalled tensorflow-2.3.0\n",
            "Successfully installed numpy-1.14.5 setuptools-39.1.0 tensorboard-1.10.0 tensorflow-1.10.0\n"
          ],
          "name": "stdout"
        },
        {
          "output_type": "display_data",
          "data": {
            "application/vnd.colab-display-data+json": {
              "pip_warning": {
                "packages": [
                  "numpy",
                  "pkg_resources"
                ]
              }
            }
          },
          "metadata": {
            "tags": []
          }
        }
      ]
    },
    {
      "cell_type": "code",
      "metadata": {
        "id": "KqLgCrtT4qOX",
        "colab": {
          "base_uri": "https://localhost:8080/"
        },
        "outputId": "c0d5be1a-f80e-4f5b-9520-e2e4a7e46948"
      },
      "source": [
        "# To support both python 2 and python 3\n",
        "from __future__ import division, print_function, unicode_literals\n",
        "\n",
        "# Common imports\n",
        "import numpy as np\n",
        "import os\n",
        "\n",
        "# To plot pretty figures\n",
        "import matplotlib\n",
        "import matplotlib.pyplot as plt\n",
        "\n",
        "import tensorflow as tf\n",
        "from tensorflow.examples.tutorials.mnist import input_data\n",
        "\n",
        "from functools import partial\n",
        "\n",
        "from sklearn.metrics import accuracy_score\n",
        "from sklearn.metrics import log_loss\n",
        "from matplotlib.colors import ListedColormap\n"
      ],
      "execution_count": 3,
      "outputs": [
        {
          "output_type": "stream",
          "text": [
            "/usr/local/lib/python3.6/dist-packages/tensorflow/python/framework/dtypes.py:523: FutureWarning: Passing (type, 1) or '1type' as a synonym of type is deprecated; in a future version of numpy, it will be understood as (type, (1,)) / '(1,)type'.\n",
            "  _np_qint8 = np.dtype([(\"qint8\", np.int8, 1)])\n",
            "/usr/local/lib/python3.6/dist-packages/tensorflow/python/framework/dtypes.py:524: FutureWarning: Passing (type, 1) or '1type' as a synonym of type is deprecated; in a future version of numpy, it will be understood as (type, (1,)) / '(1,)type'.\n",
            "  _np_quint8 = np.dtype([(\"quint8\", np.uint8, 1)])\n",
            "/usr/local/lib/python3.6/dist-packages/tensorflow/python/framework/dtypes.py:525: FutureWarning: Passing (type, 1) or '1type' as a synonym of type is deprecated; in a future version of numpy, it will be understood as (type, (1,)) / '(1,)type'.\n",
            "  _np_qint16 = np.dtype([(\"qint16\", np.int16, 1)])\n",
            "/usr/local/lib/python3.6/dist-packages/tensorflow/python/framework/dtypes.py:526: FutureWarning: Passing (type, 1) or '1type' as a synonym of type is deprecated; in a future version of numpy, it will be understood as (type, (1,)) / '(1,)type'.\n",
            "  _np_quint16 = np.dtype([(\"quint16\", np.uint16, 1)])\n",
            "/usr/local/lib/python3.6/dist-packages/tensorflow/python/framework/dtypes.py:527: FutureWarning: Passing (type, 1) or '1type' as a synonym of type is deprecated; in a future version of numpy, it will be understood as (type, (1,)) / '(1,)type'.\n",
            "  _np_qint32 = np.dtype([(\"qint32\", np.int32, 1)])\n",
            "/usr/local/lib/python3.6/dist-packages/tensorflow/python/framework/dtypes.py:532: FutureWarning: Passing (type, 1) or '1type' as a synonym of type is deprecated; in a future version of numpy, it will be understood as (type, (1,)) / '(1,)type'.\n",
            "  np_resource = np.dtype([(\"resource\", np.ubyte, 1)])\n"
          ],
          "name": "stderr"
        }
      ]
    },
    {
      "cell_type": "code",
      "metadata": {
        "id": "O8T4M6N94xpT"
      },
      "source": [
        "# to make this notebook's output stable across runs\n",
        "def reset_graph(seed=42):\n",
        "    tf.reset_default_graph()\n",
        "    tf.set_random_seed(seed)\n",
        "    np.random.seed(seed)\n",
        "\n",
        "# To plot pretty figures\n",
        "plt.rcParams['axes.labelsize'] = 14\n",
        "plt.rcParams['xtick.labelsize'] = 12\n",
        "plt.rcParams['ytick.labelsize'] = 12\n",
        "\n",
        "# Where to save the figures\n",
        "PROJECT_ROOT_DIR = \".\"\n",
        "CHAPTER_ID = \"deep\"\n",
        "\n",
        "def save_fig(fig_id, tight_layout=True):\n",
        "    path = os.path.join(PROJECT_ROOT_DIR, \"images\", CHAPTER_ID, fig_id + \".png\")\n",
        "    print(\"Saving figure\", fig_id)\n",
        "    if tight_layout:\n",
        "        plt.tight_layout()\n",
        "    plt.savefig(path, format='png', dpi=300)"
      ],
      "execution_count": 4,
      "outputs": []
    },
    {
      "cell_type": "code",
      "metadata": {
        "id": "qQfDEFLkXs_d",
        "colab": {
          "base_uri": "https://localhost:8080/"
        },
        "outputId": "89bd7c5e-54d7-4dd5-a9bd-2a11aa39fdb1"
      },
      "source": [
        "mnist = input_data.read_data_sets(\"data/\")\n",
        "X_train = mnist.train.images\n",
        "X_test = mnist.test.images\n",
        "y_train = mnist.train.labels.astype(\"int\")\n",
        "y_test = mnist.test.labels.astype(\"int\")"
      ],
      "execution_count": 5,
      "outputs": [
        {
          "output_type": "stream",
          "text": [
            "WARNING:tensorflow:From <ipython-input-5-36e6f08442f0>:1: read_data_sets (from tensorflow.contrib.learn.python.learn.datasets.mnist) is deprecated and will be removed in a future version.\n",
            "Instructions for updating:\n",
            "Please use alternatives such as official/mnist/dataset.py from tensorflow/models.\n",
            "WARNING:tensorflow:From /usr/local/lib/python3.6/dist-packages/tensorflow/contrib/learn/python/learn/datasets/mnist.py:260: maybe_download (from tensorflow.contrib.learn.python.learn.datasets.base) is deprecated and will be removed in a future version.\n",
            "Instructions for updating:\n",
            "Please write your own downloading logic.\n",
            "WARNING:tensorflow:From /usr/local/lib/python3.6/dist-packages/tensorflow/contrib/learn/python/learn/datasets/mnist.py:262: extract_images (from tensorflow.contrib.learn.python.learn.datasets.mnist) is deprecated and will be removed in a future version.\n",
            "Instructions for updating:\n",
            "Please use tf.data to implement this functionality.\n",
            "Extracting data/train-images-idx3-ubyte.gz\n",
            "WARNING:tensorflow:From /usr/local/lib/python3.6/dist-packages/tensorflow/contrib/learn/python/learn/datasets/mnist.py:267: extract_labels (from tensorflow.contrib.learn.python.learn.datasets.mnist) is deprecated and will be removed in a future version.\n",
            "Instructions for updating:\n",
            "Please use tf.data to implement this functionality.\n",
            "Extracting data/train-labels-idx1-ubyte.gz\n",
            "Extracting data/t10k-images-idx3-ubyte.gz\n",
            "Extracting data/t10k-labels-idx1-ubyte.gz\n",
            "WARNING:tensorflow:From /usr/local/lib/python3.6/dist-packages/tensorflow/contrib/learn/python/learn/datasets/mnist.py:290: DataSet.__init__ (from tensorflow.contrib.learn.python.learn.datasets.mnist) is deprecated and will be removed in a future version.\n",
            "Instructions for updating:\n",
            "Please use alternatives such as official/mnist/dataset.py from tensorflow/models.\n"
          ],
          "name": "stdout"
        }
      ]
    },
    {
      "cell_type": "code",
      "metadata": {
        "id": "JQffUr1p959R"
      },
      "source": [
        "n_inputs = 28 * 28  # MNIST\n",
        "n_hidden1 = 300\n",
        "n_hidden2 = 300\n",
        "n_outputs = 10"
      ],
      "execution_count": 6,
      "outputs": []
    },
    {
      "cell_type": "code",
      "metadata": {
        "id": "KNlQXMuZY2du"
      },
      "source": [
        "n_epochs = 200\n",
        "batch_size = 50"
      ],
      "execution_count": 7,
      "outputs": []
    },
    {
      "cell_type": "code",
      "metadata": {
        "id": "2wrffgfufM03"
      },
      "source": [
        "learning_rate = 0.01\r\n",
        "dropout_rate = 0.5"
      ],
      "execution_count": 8,
      "outputs": []
    },
    {
      "cell_type": "markdown",
      "metadata": {
        "id": "0GmPGONwWLQ9"
      },
      "source": [
        "#**Dropout**"
      ]
    },
    {
      "cell_type": "code",
      "metadata": {
        "id": "47rz9fOQdMLF"
      },
      "source": [
        "# Apply dropout regularization to three-layer neural network\r\n",
        "\r\n",
        "reset_graph()\r\n",
        "\r\n",
        "training = tf.placeholder_with_default(False, shape=(), name='training')\r\n",
        "\r\n",
        "X = tf.placeholder(tf.float32, shape=(None, n_inputs), name=\"X\")\r\n",
        "# Apply dropout to input layer \r\n",
        "X_drop = tf.layers.dropout(X, dropout_rate, training=training)\r\n",
        "\r\n",
        "y = tf.placeholder(tf.int64, shape=(None), name=\"y\")"
      ],
      "execution_count": 9,
      "outputs": []
    },
    {
      "cell_type": "code",
      "metadata": {
        "id": "Y3w8YlZtdWfB"
      },
      "source": [
        "training = tf.placeholder_with_default(False, shape=(), name='training')"
      ],
      "execution_count": 10,
      "outputs": []
    },
    {
      "cell_type": "code",
      "metadata": {
        "id": "Uh4Yv2gbdT9c"
      },
      "source": [
        "with tf.name_scope(\"dnn\"):\r\n",
        "    hidden1 = tf.layers.dense(X_drop, n_hidden1, activation=tf.nn.relu,name=\"hidden1\")\r\n",
        "    # Apply dropout to the first hidden layer\r\n",
        "    hidden1_drop = tf.layers.dropout(hidden1, dropout_rate, training=training)\r\n",
        "\r\n",
        "    hidden2 = tf.layers.dense(hidden1_drop, n_hidden2, activation=tf.nn.relu,name=\"hidden2\")\r\n",
        "    # Apply dropout to the second hidden layer\r\n",
        "    hidden2_drop = tf.layers.dropout(hidden2, dropout_rate, training=training)\r\n",
        "    \r\n",
        "    logits = tf.layers.dense(hidden2_drop, n_outputs, name=\"outputs\")"
      ],
      "execution_count": 11,
      "outputs": []
    },
    {
      "cell_type": "code",
      "metadata": {
        "id": "TKJdLA-7dwBW"
      },
      "source": [
        "with tf.name_scope(\"loss\"):\r\n",
        "    xentropy = tf.nn.sparse_softmax_cross_entropy_with_logits(labels=y, logits=logits)\r\n",
        "    loss = tf.reduce_mean(xentropy, name=\"loss\")"
      ],
      "execution_count": 12,
      "outputs": []
    },
    {
      "cell_type": "code",
      "metadata": {
        "id": "Q_oL0sytdyKA"
      },
      "source": [
        "with tf.name_scope(\"train\"):\r\n",
        "    optimizer = tf.train.MomentumOptimizer(learning_rate, momentum=0.9)\r\n",
        "    training_op = optimizer.minimize(loss)  "
      ],
      "execution_count": 13,
      "outputs": []
    },
    {
      "cell_type": "code",
      "metadata": {
        "id": "LJ4Lzqksd0cW"
      },
      "source": [
        "with tf.name_scope(\"eval\"):\r\n",
        "    correct = tf.nn.in_top_k(logits, y, 1)\r\n",
        "    accuracy = tf.reduce_mean(tf.cast(correct, tf.float32))"
      ],
      "execution_count": 14,
      "outputs": []
    },
    {
      "cell_type": "code",
      "metadata": {
        "id": "0sFEwkEgdt0P"
      },
      "source": [
        "init = tf.global_variables_initializer()\r\n",
        "saver = tf.train.Saver()"
      ],
      "execution_count": 15,
      "outputs": []
    },
    {
      "cell_type": "code",
      "metadata": {
        "id": "Pk9_b0Vzd81Y",
        "colab": {
          "base_uri": "https://localhost:8080/"
        },
        "outputId": "b1923fdf-8501-4ce1-9b0d-5883fbcbb8ff"
      },
      "source": [
        "with tf.Session() as sess:\r\n",
        "    init.run()\r\n",
        "    for epoch in range(n_epochs):\r\n",
        "        for iteration in range(mnist.train.num_examples // batch_size):\r\n",
        "            X_batch, y_batch = mnist.train.next_batch(batch_size)\r\n",
        "            sess.run(training_op, feed_dict={training: True, X: X_batch, y: y_batch})\r\n",
        "        acc_test = accuracy.eval(feed_dict={X: mnist.test.images, y: mnist.test.labels})\r\n",
        "        print(epoch, \"Test accuracy:\", acc_test)\r\n",
        "\r\n",
        "    save_path = saver.save(sess, \"model_ckps_dropout/my_model_final.ckpt\")"
      ],
      "execution_count": 16,
      "outputs": [
        {
          "output_type": "stream",
          "text": [
            "0 Test accuracy: 0.9472\n",
            "1 Test accuracy: 0.9596\n",
            "2 Test accuracy: 0.9674\n",
            "3 Test accuracy: 0.968\n",
            "4 Test accuracy: 0.9727\n",
            "5 Test accuracy: 0.9742\n",
            "6 Test accuracy: 0.9747\n",
            "7 Test accuracy: 0.9755\n",
            "8 Test accuracy: 0.9765\n",
            "9 Test accuracy: 0.9793\n",
            "10 Test accuracy: 0.9773\n",
            "11 Test accuracy: 0.9778\n",
            "12 Test accuracy: 0.9794\n",
            "13 Test accuracy: 0.9777\n",
            "14 Test accuracy: 0.9793\n",
            "15 Test accuracy: 0.9817\n",
            "16 Test accuracy: 0.9802\n",
            "17 Test accuracy: 0.9797\n",
            "18 Test accuracy: 0.9804\n",
            "19 Test accuracy: 0.9813\n",
            "20 Test accuracy: 0.9822\n",
            "21 Test accuracy: 0.9805\n",
            "22 Test accuracy: 0.98\n",
            "23 Test accuracy: 0.9821\n",
            "24 Test accuracy: 0.9819\n",
            "25 Test accuracy: 0.9809\n",
            "26 Test accuracy: 0.9813\n",
            "27 Test accuracy: 0.982\n",
            "28 Test accuracy: 0.9825\n",
            "29 Test accuracy: 0.9802\n",
            "30 Test accuracy: 0.9806\n",
            "31 Test accuracy: 0.9825\n",
            "32 Test accuracy: 0.9826\n",
            "33 Test accuracy: 0.9802\n",
            "34 Test accuracy: 0.983\n",
            "35 Test accuracy: 0.9831\n",
            "36 Test accuracy: 0.9817\n",
            "37 Test accuracy: 0.9823\n",
            "38 Test accuracy: 0.9828\n",
            "39 Test accuracy: 0.9828\n",
            "40 Test accuracy: 0.9833\n",
            "41 Test accuracy: 0.9829\n",
            "42 Test accuracy: 0.983\n",
            "43 Test accuracy: 0.9815\n",
            "44 Test accuracy: 0.9829\n",
            "45 Test accuracy: 0.9842\n",
            "46 Test accuracy: 0.9836\n",
            "47 Test accuracy: 0.9833\n",
            "48 Test accuracy: 0.9841\n",
            "49 Test accuracy: 0.9823\n",
            "50 Test accuracy: 0.9839\n",
            "51 Test accuracy: 0.9835\n",
            "52 Test accuracy: 0.9835\n",
            "53 Test accuracy: 0.9836\n",
            "54 Test accuracy: 0.9836\n",
            "55 Test accuracy: 0.9842\n",
            "56 Test accuracy: 0.9828\n",
            "57 Test accuracy: 0.9825\n",
            "58 Test accuracy: 0.9833\n",
            "59 Test accuracy: 0.9835\n",
            "60 Test accuracy: 0.9822\n",
            "61 Test accuracy: 0.9834\n",
            "62 Test accuracy: 0.9835\n",
            "63 Test accuracy: 0.9845\n",
            "64 Test accuracy: 0.984\n",
            "65 Test accuracy: 0.9836\n",
            "66 Test accuracy: 0.9823\n",
            "67 Test accuracy: 0.9836\n",
            "68 Test accuracy: 0.9836\n",
            "69 Test accuracy: 0.9842\n",
            "70 Test accuracy: 0.9831\n",
            "71 Test accuracy: 0.9843\n",
            "72 Test accuracy: 0.9836\n",
            "73 Test accuracy: 0.9833\n",
            "74 Test accuracy: 0.9833\n",
            "75 Test accuracy: 0.983\n",
            "76 Test accuracy: 0.9843\n",
            "77 Test accuracy: 0.9835\n",
            "78 Test accuracy: 0.9827\n",
            "79 Test accuracy: 0.9844\n",
            "80 Test accuracy: 0.9836\n",
            "81 Test accuracy: 0.9839\n",
            "82 Test accuracy: 0.9836\n",
            "83 Test accuracy: 0.9838\n",
            "84 Test accuracy: 0.9838\n",
            "85 Test accuracy: 0.9838\n",
            "86 Test accuracy: 0.9835\n",
            "87 Test accuracy: 0.9837\n",
            "88 Test accuracy: 0.9831\n",
            "89 Test accuracy: 0.9839\n",
            "90 Test accuracy: 0.9844\n",
            "91 Test accuracy: 0.9845\n",
            "92 Test accuracy: 0.984\n",
            "93 Test accuracy: 0.9852\n",
            "94 Test accuracy: 0.9835\n",
            "95 Test accuracy: 0.9835\n",
            "96 Test accuracy: 0.983\n",
            "97 Test accuracy: 0.9839\n",
            "98 Test accuracy: 0.9838\n",
            "99 Test accuracy: 0.9833\n",
            "100 Test accuracy: 0.9841\n",
            "101 Test accuracy: 0.9831\n",
            "102 Test accuracy: 0.9842\n",
            "103 Test accuracy: 0.9835\n",
            "104 Test accuracy: 0.9844\n",
            "105 Test accuracy: 0.9833\n",
            "106 Test accuracy: 0.982\n",
            "107 Test accuracy: 0.9839\n",
            "108 Test accuracy: 0.9832\n",
            "109 Test accuracy: 0.9834\n",
            "110 Test accuracy: 0.9843\n",
            "111 Test accuracy: 0.983\n",
            "112 Test accuracy: 0.985\n",
            "113 Test accuracy: 0.9845\n",
            "114 Test accuracy: 0.9837\n",
            "115 Test accuracy: 0.9834\n",
            "116 Test accuracy: 0.985\n",
            "117 Test accuracy: 0.9836\n",
            "118 Test accuracy: 0.9826\n",
            "119 Test accuracy: 0.9835\n",
            "120 Test accuracy: 0.9835\n",
            "121 Test accuracy: 0.9835\n",
            "122 Test accuracy: 0.9834\n",
            "123 Test accuracy: 0.9843\n",
            "124 Test accuracy: 0.9847\n",
            "125 Test accuracy: 0.9838\n",
            "126 Test accuracy: 0.9828\n",
            "127 Test accuracy: 0.9838\n",
            "128 Test accuracy: 0.9842\n",
            "129 Test accuracy: 0.9835\n",
            "130 Test accuracy: 0.9842\n",
            "131 Test accuracy: 0.9838\n",
            "132 Test accuracy: 0.9846\n",
            "133 Test accuracy: 0.9834\n",
            "134 Test accuracy: 0.985\n",
            "135 Test accuracy: 0.9831\n",
            "136 Test accuracy: 0.9843\n",
            "137 Test accuracy: 0.9836\n",
            "138 Test accuracy: 0.9834\n",
            "139 Test accuracy: 0.9846\n",
            "140 Test accuracy: 0.9852\n",
            "141 Test accuracy: 0.9847\n",
            "142 Test accuracy: 0.9851\n",
            "143 Test accuracy: 0.9842\n",
            "144 Test accuracy: 0.9834\n",
            "145 Test accuracy: 0.9848\n",
            "146 Test accuracy: 0.9845\n",
            "147 Test accuracy: 0.9841\n",
            "148 Test accuracy: 0.985\n",
            "149 Test accuracy: 0.9848\n",
            "150 Test accuracy: 0.9831\n",
            "151 Test accuracy: 0.9841\n",
            "152 Test accuracy: 0.9848\n",
            "153 Test accuracy: 0.984\n",
            "154 Test accuracy: 0.9841\n",
            "155 Test accuracy: 0.9843\n",
            "156 Test accuracy: 0.9838\n",
            "157 Test accuracy: 0.9836\n",
            "158 Test accuracy: 0.9846\n",
            "159 Test accuracy: 0.9833\n",
            "160 Test accuracy: 0.9844\n",
            "161 Test accuracy: 0.985\n",
            "162 Test accuracy: 0.9841\n",
            "163 Test accuracy: 0.984\n",
            "164 Test accuracy: 0.9845\n",
            "165 Test accuracy: 0.9847\n",
            "166 Test accuracy: 0.9844\n",
            "167 Test accuracy: 0.9838\n",
            "168 Test accuracy: 0.9848\n",
            "169 Test accuracy: 0.9848\n",
            "170 Test accuracy: 0.9843\n",
            "171 Test accuracy: 0.9843\n",
            "172 Test accuracy: 0.9849\n",
            "173 Test accuracy: 0.985\n",
            "174 Test accuracy: 0.984\n",
            "175 Test accuracy: 0.9842\n",
            "176 Test accuracy: 0.985\n",
            "177 Test accuracy: 0.9845\n",
            "178 Test accuracy: 0.983\n",
            "179 Test accuracy: 0.9836\n",
            "180 Test accuracy: 0.9828\n",
            "181 Test accuracy: 0.9829\n",
            "182 Test accuracy: 0.9846\n",
            "183 Test accuracy: 0.9845\n",
            "184 Test accuracy: 0.9855\n",
            "185 Test accuracy: 0.9842\n",
            "186 Test accuracy: 0.9849\n",
            "187 Test accuracy: 0.9853\n",
            "188 Test accuracy: 0.9842\n",
            "189 Test accuracy: 0.9844\n",
            "190 Test accuracy: 0.9849\n",
            "191 Test accuracy: 0.9844\n",
            "192 Test accuracy: 0.9831\n",
            "193 Test accuracy: 0.9848\n",
            "194 Test accuracy: 0.985\n",
            "195 Test accuracy: 0.985\n",
            "196 Test accuracy: 0.9843\n",
            "197 Test accuracy: 0.9848\n",
            "198 Test accuracy: 0.9852\n",
            "199 Test accuracy: 0.9849\n"
          ],
          "name": "stdout"
        }
      ]
    }
  ]
}
