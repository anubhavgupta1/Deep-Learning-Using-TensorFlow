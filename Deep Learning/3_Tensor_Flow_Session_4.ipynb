{
  "nbformat": 4,
  "nbformat_minor": 0,
  "metadata": {
    "colab": {
      "name": "3_Tensor_Flow_Session_4.ipynb",
      "provenance": [],
      "authorship_tag": "ABX9TyOAETA4JMy93wJQ/oHNSQzB",
      "include_colab_link": true
    },
    "kernelspec": {
      "name": "python3",
      "display_name": "Python 3"
    }
  },
  "cells": [
    {
      "cell_type": "markdown",
      "metadata": {
        "id": "view-in-github",
        "colab_type": "text"
      },
      "source": [
        "<a href=\"https://colab.research.google.com/github/anubhavgupta1/Deep-Learning-Using-TensorFlow/blob/master/3_Tensor_Flow_Session_4.ipynb\" target=\"_parent\"><img src=\"https://colab.research.google.com/assets/colab-badge.svg\" alt=\"Open In Colab\"/></a>"
      ]
    },
    {
      "cell_type": "code",
      "metadata": {
        "id": "-CPnf6SFdxcY"
      },
      "source": [
        "# import the necessary packages\n",
        "from skimage.segmentation import slic\n",
        "from skimage.segmentation import mark_boundaries\n",
        "from skimage.util import img_as_float\n",
        "from skimage import io\n",
        "import matplotlib.pyplot as plt\n",
        "import matplotlib.image as mpimg\n",
        "import argparse\n"
      ],
      "execution_count": 1,
      "outputs": []
    },
    {
      "cell_type": "code",
      "metadata": {
        "id": "zXiKAK2BvNMp"
      },
      "source": [
        "# load the image and convert it to a floating point data type\n",
        "image = img_as_float(mpimg.imread('california.png'))\n",
        "# loop over the number of segments\n",
        "for numSegments in (100, 200, 300):\n",
        "\t# apply SLIC and extract (approximately) the supplied number\n",
        "\t# of segments\n",
        "\tsegments = slic(image, n_segments = numSegments, sigma = 5)\n",
        "\t# show the output of SLIC\n",
        "\tfig = plt.figure(\"Superpixels -- %d segments\" % (numSegments))\n",
        "\tax = fig.add_subplot(1, 1, 1)\n",
        "\tax.imshow(mark_boundaries(image, segments))\n",
        "\tplt.axis(\"off\")\n",
        "# show the plots\n",
        "plt.show()"
      ],
      "execution_count": null,
      "outputs": []
    }
  ]
}
