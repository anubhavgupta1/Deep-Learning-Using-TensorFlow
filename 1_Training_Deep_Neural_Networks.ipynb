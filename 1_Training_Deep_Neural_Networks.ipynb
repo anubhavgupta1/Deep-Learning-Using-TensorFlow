{
  "nbformat": 4,
  "nbformat_minor": 0,
  "metadata": {
    "colab": {
      "name": "1_Training_Deep_Neural_Networks.ipynb",
      "provenance": [],
      "authorship_tag": "ABX9TyPp/sUiiTwHrVji2z92wjMq",
      "include_colab_link": true
    },
    "kernelspec": {
      "name": "python3",
      "display_name": "Python 3"
    }
  },
  "cells": [
    {
      "cell_type": "markdown",
      "metadata": {
        "id": "view-in-github",
        "colab_type": "text"
      },
      "source": [
        "<a href=\"https://colab.research.google.com/github/anubhavgupta1/Deep-Learning-Using-TensorFlow/blob/master/1_Training_Deep_Neural_Networks.ipynb\" target=\"_parent\"><img src=\"https://colab.research.google.com/assets/colab-badge.svg\" alt=\"Open In Colab\"/></a>"
      ]
    },
    {
      "cell_type": "markdown",
      "metadata": {
        "id": "yC6jCBi0eBOG"
      },
      "source": [
        "#**Preprocessing**"
      ]
    },
    {
      "cell_type": "code",
      "metadata": {
        "colab": {
          "base_uri": "https://localhost:8080/"
        },
        "id": "wLAs1yE64kZh",
        "outputId": "b5e27905-60d0-4bc9-ad5a-80cf0745f244"
      },
      "source": [
        "!ls\n",
        "!apt-get install -y -qq software-properties-common python-software-properties module-init-tools\n",
        "!add-apt-repository -y ppa:alessandro-strada/ppa 2>&1 > /dev/null\n",
        "!apt-get update -qq 2>&1 > /dev/null\n",
        "!apt-get -y install -qq google-drive-ocamlfuse fuse\n",
        "from google.colab import auth\n",
        "auth.authenticate_user()\n",
        "from oauth2client.client import GoogleCredentials\n",
        "creds = GoogleCredentials.get_application_default()\n",
        "import getpass\n",
        "!google-drive-ocamlfuse -headless -id={creds.client_id} -secret={creds.client_secret} < /dev/null 2>&1 | grep URL\n",
        "vcode = getpass.getpass()\n",
        "!echo {vcode} | google-drive-ocamlfuse -headless -id={creds.client_id} -secret={creds.client_secret}\n",
        "\n",
        "\n",
        "!mkdir -p drive\n",
        "!google-drive-ocamlfuse drive\n",
        "\n",
        "import os\n",
        "os.chdir(\"drive/\")\n",
        "!ls"
      ],
      "execution_count": 1,
      "outputs": [
        {
          "output_type": "stream",
          "text": [
            "sample_data\n",
            "E: Package 'python-software-properties' has no installation candidate\n",
            "Selecting previously unselected package google-drive-ocamlfuse.\n",
            "(Reading database ... 144865 files and directories currently installed.)\n",
            "Preparing to unpack .../google-drive-ocamlfuse_0.7.23-0ubuntu1~ubuntu18.04.1_amd64.deb ...\n",
            "Unpacking google-drive-ocamlfuse (0.7.23-0ubuntu1~ubuntu18.04.1) ...\n",
            "Setting up google-drive-ocamlfuse (0.7.23-0ubuntu1~ubuntu18.04.1) ...\n",
            "Processing triggers for man-db (2.8.3-2ubuntu0.1) ...\n",
            "Please, open the following URL in a web browser: https://accounts.google.com/o/oauth2/auth?client_id=32555940559.apps.googleusercontent.com&redirect_uri=urn%3Aietf%3Awg%3Aoauth%3A2.0%3Aoob&scope=https%3A%2F%2Fwww.googleapis.com%2Fauth%2Fdrive&response_type=code&access_type=offline&approval_prompt=force\n",
            "··········\n",
            "Please, open the following URL in a web browser: https://accounts.google.com/o/oauth2/auth?client_id=32555940559.apps.googleusercontent.com&redirect_uri=urn%3Aietf%3Awg%3Aoauth%3A2.0%3Aoob&scope=https%3A%2F%2Fwww.googleapis.com%2Fauth%2Fdrive&response_type=code&access_type=offline&approval_prompt=force\n",
            "Please enter the verification code: Access token retrieved correctly.\n",
            "'Capstone Project Submission .desktop'\t\t     model_ckps\n",
            "'Capstone Project Submission  (Responses).desktop'   model_ckps1\n",
            "'Colab Notebooks'\t\t\t\t     model_ckps2\n",
            " data\t\t\t\t\t\t     model_ckps3\n",
            " Dataset\t\t\t\t\t     model_ckps4\n",
            "'Getting started'\t\t\t\t     model_ckps5\n",
            " images\t\t\t\t\t\t     model_ckps6\n",
            " import\n"
          ],
          "name": "stdout"
        }
      ]
    },
    {
      "cell_type": "code",
      "metadata": {
        "colab": {
          "base_uri": "https://localhost:8080/",
          "height": 1000
        },
        "id": "NGp9k_-EHjsJ",
        "outputId": "3b163ea0-48bd-46a4-8431-00cbe9430a77"
      },
      "source": [
        "!pip install tensorflow==1.10.0"
      ],
      "execution_count": 2,
      "outputs": [
        {
          "output_type": "stream",
          "text": [
            "Collecting tensorflow==1.10.0\n",
            "\u001b[?25l  Downloading https://files.pythonhosted.org/packages/ee/e6/a6d371306c23c2b01cd2cb38909673d17ddd388d9e4b3c0f6602bfd972c8/tensorflow-1.10.0-cp36-cp36m-manylinux1_x86_64.whl (58.4MB)\n",
            "\u001b[K     |████████████████████████████████| 58.4MB 81kB/s \n",
            "\u001b[?25hRequirement already satisfied: wheel>=0.26 in /usr/local/lib/python3.6/dist-packages (from tensorflow==1.10.0) (0.35.1)\n",
            "Requirement already satisfied: protobuf>=3.6.0 in /usr/local/lib/python3.6/dist-packages (from tensorflow==1.10.0) (3.12.4)\n",
            "Requirement already satisfied: six>=1.10.0 in /usr/local/lib/python3.6/dist-packages (from tensorflow==1.10.0) (1.15.0)\n",
            "Collecting numpy<=1.14.5,>=1.13.3\n",
            "\u001b[?25l  Downloading https://files.pythonhosted.org/packages/68/1e/116ad560de97694e2d0c1843a7a0075cc9f49e922454d32f49a80eb6f1f2/numpy-1.14.5-cp36-cp36m-manylinux1_x86_64.whl (12.2MB)\n",
            "\u001b[K     |████████████████████████████████| 12.2MB 16.1MB/s \n",
            "\u001b[?25hRequirement already satisfied: astor>=0.6.0 in /usr/local/lib/python3.6/dist-packages (from tensorflow==1.10.0) (0.8.1)\n",
            "Collecting tensorboard<1.11.0,>=1.10.0\n",
            "\u001b[?25l  Downloading https://files.pythonhosted.org/packages/c6/17/ecd918a004f297955c30b4fffbea100b1606c225dbf0443264012773c3ff/tensorboard-1.10.0-py3-none-any.whl (3.3MB)\n",
            "\u001b[K     |████████████████████████████████| 3.3MB 46.4MB/s \n",
            "\u001b[?25hRequirement already satisfied: gast>=0.2.0 in /usr/local/lib/python3.6/dist-packages (from tensorflow==1.10.0) (0.3.3)\n",
            "Requirement already satisfied: termcolor>=1.1.0 in /usr/local/lib/python3.6/dist-packages (from tensorflow==1.10.0) (1.1.0)\n",
            "Collecting setuptools<=39.1.0\n",
            "\u001b[?25l  Downloading https://files.pythonhosted.org/packages/8c/10/79282747f9169f21c053c562a0baa21815a8c7879be97abd930dbcf862e8/setuptools-39.1.0-py2.py3-none-any.whl (566kB)\n",
            "\u001b[K     |████████████████████████████████| 573kB 46.2MB/s \n",
            "\u001b[?25hRequirement already satisfied: grpcio>=1.8.6 in /usr/local/lib/python3.6/dist-packages (from tensorflow==1.10.0) (1.33.2)\n",
            "Requirement already satisfied: absl-py>=0.1.6 in /usr/local/lib/python3.6/dist-packages (from tensorflow==1.10.0) (0.10.0)\n",
            "Requirement already satisfied: werkzeug>=0.11.10 in /usr/local/lib/python3.6/dist-packages (from tensorboard<1.11.0,>=1.10.0->tensorflow==1.10.0) (1.0.1)\n",
            "Requirement already satisfied: markdown>=2.6.8 in /usr/local/lib/python3.6/dist-packages (from tensorboard<1.11.0,>=1.10.0->tensorflow==1.10.0) (3.3.3)\n",
            "Requirement already satisfied: importlib-metadata; python_version < \"3.8\" in /usr/local/lib/python3.6/dist-packages (from markdown>=2.6.8->tensorboard<1.11.0,>=1.10.0->tensorflow==1.10.0) (2.0.0)\n",
            "Requirement already satisfied: zipp>=0.5 in /usr/local/lib/python3.6/dist-packages (from importlib-metadata; python_version < \"3.8\"->markdown>=2.6.8->tensorboard<1.11.0,>=1.10.0->tensorflow==1.10.0) (3.4.0)\n",
            "\u001b[31mERROR: xarray 0.15.1 has requirement numpy>=1.15, but you'll have numpy 1.14.5 which is incompatible.\u001b[0m\n",
            "\u001b[31mERROR: xarray 0.15.1 has requirement setuptools>=41.2, but you'll have setuptools 39.1.0 which is incompatible.\u001b[0m\n",
            "\u001b[31mERROR: umap-learn 0.4.6 has requirement numpy>=1.17, but you'll have numpy 1.14.5 which is incompatible.\u001b[0m\n",
            "\u001b[31mERROR: tifffile 2020.9.3 has requirement numpy>=1.15.1, but you'll have numpy 1.14.5 which is incompatible.\u001b[0m\n",
            "\u001b[31mERROR: spacy 2.2.4 has requirement numpy>=1.15.0, but you'll have numpy 1.14.5 which is incompatible.\u001b[0m\n",
            "\u001b[31mERROR: seaborn 0.11.0 has requirement numpy>=1.15, but you'll have numpy 1.14.5 which is incompatible.\u001b[0m\n",
            "\u001b[31mERROR: plotnine 0.6.0 has requirement numpy>=1.16.0, but you'll have numpy 1.14.5 which is incompatible.\u001b[0m\n",
            "\u001b[31mERROR: pandas 1.1.4 has requirement numpy>=1.15.4, but you'll have numpy 1.14.5 which is incompatible.\u001b[0m\n",
            "\u001b[31mERROR: numba 0.48.0 has requirement numpy>=1.15, but you'll have numpy 1.14.5 which is incompatible.\u001b[0m\n",
            "\u001b[31mERROR: imgaug 0.2.9 has requirement numpy>=1.15.0, but you'll have numpy 1.14.5 which is incompatible.\u001b[0m\n",
            "\u001b[31mERROR: google-auth 1.17.2 has requirement setuptools>=40.3.0, but you'll have setuptools 39.1.0 which is incompatible.\u001b[0m\n",
            "\u001b[31mERROR: fbprophet 0.7.1 has requirement numpy>=1.15.4, but you'll have numpy 1.14.5 which is incompatible.\u001b[0m\n",
            "\u001b[31mERROR: fastai 1.0.61 has requirement numpy>=1.15, but you'll have numpy 1.14.5 which is incompatible.\u001b[0m\n",
            "\u001b[31mERROR: datascience 0.10.6 has requirement folium==0.2.1, but you'll have folium 0.8.3 which is incompatible.\u001b[0m\n",
            "\u001b[31mERROR: cvxpy 1.0.31 has requirement numpy>=1.15, but you'll have numpy 1.14.5 which is incompatible.\u001b[0m\n",
            "\u001b[31mERROR: blis 0.4.1 has requirement numpy>=1.15.0, but you'll have numpy 1.14.5 which is incompatible.\u001b[0m\n",
            "\u001b[31mERROR: astropy 4.1 has requirement numpy>=1.16, but you'll have numpy 1.14.5 which is incompatible.\u001b[0m\n",
            "\u001b[31mERROR: albumentations 0.1.12 has requirement imgaug<0.2.7,>=0.2.5, but you'll have imgaug 0.2.9 which is incompatible.\u001b[0m\n",
            "Installing collected packages: numpy, tensorboard, setuptools, tensorflow\n",
            "  Found existing installation: numpy 1.18.5\n",
            "    Uninstalling numpy-1.18.5:\n",
            "      Successfully uninstalled numpy-1.18.5\n",
            "  Found existing installation: tensorboard 2.3.0\n",
            "    Uninstalling tensorboard-2.3.0:\n",
            "      Successfully uninstalled tensorboard-2.3.0\n",
            "  Found existing installation: setuptools 50.3.2\n",
            "    Uninstalling setuptools-50.3.2:\n",
            "      Successfully uninstalled setuptools-50.3.2\n",
            "  Found existing installation: tensorflow 2.3.0\n",
            "    Uninstalling tensorflow-2.3.0:\n",
            "      Successfully uninstalled tensorflow-2.3.0\n",
            "Successfully installed numpy-1.14.5 setuptools-39.1.0 tensorboard-1.10.0 tensorflow-1.10.0\n"
          ],
          "name": "stdout"
        },
        {
          "output_type": "display_data",
          "data": {
            "application/vnd.colab-display-data+json": {
              "pip_warning": {
                "packages": [
                  "numpy",
                  "pkg_resources"
                ]
              }
            }
          },
          "metadata": {
            "tags": []
          }
        }
      ]
    },
    {
      "cell_type": "code",
      "metadata": {
        "colab": {
          "base_uri": "https://localhost:8080/"
        },
        "id": "KqLgCrtT4qOX",
        "outputId": "6c88a042-9a71-4afe-ccdc-42ec26ac05ed"
      },
      "source": [
        "# To support both python 2 and python 3\n",
        "from __future__ import division, print_function, unicode_literals\n",
        "\n",
        "# Common imports\n",
        "import numpy as np\n",
        "import os\n",
        "\n",
        "# To plot pretty figures\n",
        "import matplotlib\n",
        "import matplotlib.pyplot as plt\n",
        "\n",
        "import tensorflow as tf\n",
        "from tensorflow.examples.tutorials.mnist import input_data\n",
        "\n",
        "from functools import partial\n",
        "\n",
        "from sklearn.metrics import accuracy_score\n",
        "from sklearn.metrics import log_loss\n",
        "from matplotlib.colors import ListedColormap\n"
      ],
      "execution_count": 3,
      "outputs": [
        {
          "output_type": "stream",
          "text": [
            "/usr/local/lib/python3.6/dist-packages/tensorflow/python/framework/dtypes.py:523: FutureWarning: Passing (type, 1) or '1type' as a synonym of type is deprecated; in a future version of numpy, it will be understood as (type, (1,)) / '(1,)type'.\n",
            "  _np_qint8 = np.dtype([(\"qint8\", np.int8, 1)])\n",
            "/usr/local/lib/python3.6/dist-packages/tensorflow/python/framework/dtypes.py:524: FutureWarning: Passing (type, 1) or '1type' as a synonym of type is deprecated; in a future version of numpy, it will be understood as (type, (1,)) / '(1,)type'.\n",
            "  _np_quint8 = np.dtype([(\"quint8\", np.uint8, 1)])\n",
            "/usr/local/lib/python3.6/dist-packages/tensorflow/python/framework/dtypes.py:525: FutureWarning: Passing (type, 1) or '1type' as a synonym of type is deprecated; in a future version of numpy, it will be understood as (type, (1,)) / '(1,)type'.\n",
            "  _np_qint16 = np.dtype([(\"qint16\", np.int16, 1)])\n",
            "/usr/local/lib/python3.6/dist-packages/tensorflow/python/framework/dtypes.py:526: FutureWarning: Passing (type, 1) or '1type' as a synonym of type is deprecated; in a future version of numpy, it will be understood as (type, (1,)) / '(1,)type'.\n",
            "  _np_quint16 = np.dtype([(\"quint16\", np.uint16, 1)])\n",
            "/usr/local/lib/python3.6/dist-packages/tensorflow/python/framework/dtypes.py:527: FutureWarning: Passing (type, 1) or '1type' as a synonym of type is deprecated; in a future version of numpy, it will be understood as (type, (1,)) / '(1,)type'.\n",
            "  _np_qint32 = np.dtype([(\"qint32\", np.int32, 1)])\n",
            "/usr/local/lib/python3.6/dist-packages/tensorflow/python/framework/dtypes.py:532: FutureWarning: Passing (type, 1) or '1type' as a synonym of type is deprecated; in a future version of numpy, it will be understood as (type, (1,)) / '(1,)type'.\n",
            "  np_resource = np.dtype([(\"resource\", np.ubyte, 1)])\n"
          ],
          "name": "stderr"
        }
      ]
    },
    {
      "cell_type": "code",
      "metadata": {
        "id": "O8T4M6N94xpT"
      },
      "source": [
        "# to make this notebook's output stable across runs\n",
        "def reset_graph(seed=42):\n",
        "    tf.reset_default_graph()\n",
        "    tf.set_random_seed(seed)\n",
        "    np.random.seed(seed)\n",
        "\n",
        "# To plot pretty figures\n",
        "plt.rcParams['axes.labelsize'] = 14\n",
        "plt.rcParams['xtick.labelsize'] = 12\n",
        "plt.rcParams['ytick.labelsize'] = 12\n",
        "\n",
        "# Where to save the figures\n",
        "PROJECT_ROOT_DIR = \".\"\n",
        "CHAPTER_ID = \"deep\"\n",
        "\n",
        "def save_fig(fig_id, tight_layout=True):\n",
        "    path = os.path.join(PROJECT_ROOT_DIR, \"images\", CHAPTER_ID, fig_id + \".png\")\n",
        "    print(\"Saving figure\", fig_id)\n",
        "    if tight_layout:\n",
        "        plt.tight_layout()\n",
        "    plt.savefig(path, format='png', dpi=300)"
      ],
      "execution_count": 4,
      "outputs": []
    },
    {
      "cell_type": "markdown",
      "metadata": {
        "id": "0yQB0s8iHBYc"
      },
      "source": [
        "#**Vanishing/Exploding Gradients Problem**"
      ]
    },
    {
      "cell_type": "code",
      "metadata": {
        "id": "H-dCRkrTwLTQ"
      },
      "source": [
        "def logit(z):\n",
        "    return 1 / (1 + np.exp(-z))"
      ],
      "execution_count": 5,
      "outputs": []
    },
    {
      "cell_type": "code",
      "metadata": {
        "id": "kIgSHEh6DsrF"
      },
      "source": [
        "def derivative_logit(z):\n",
        "  return logit(z) * (1-logit(z))"
      ],
      "execution_count": 6,
      "outputs": []
    },
    {
      "cell_type": "code",
      "metadata": {
        "id": "Grzy1a_V5cpF"
      },
      "source": [
        "def relu(z):\n",
        "    return np.maximum(0, z)"
      ],
      "execution_count": 7,
      "outputs": []
    },
    {
      "cell_type": "code",
      "metadata": {
        "id": "O7yzaHsZxXLL",
        "colab": {
          "base_uri": "https://localhost:8080/"
        },
        "outputId": "243fd874-a4e1-4128-a37d-37ba17d05de1"
      },
      "source": [
        "z = np.linspace(-5, 5, 200)\n",
        "z.shape"
      ],
      "execution_count": 8,
      "outputs": [
        {
          "output_type": "execute_result",
          "data": {
            "text/plain": [
              "(200,)"
            ]
          },
          "metadata": {
            "tags": []
          },
          "execution_count": 8
        }
      ]
    },
    {
      "cell_type": "code",
      "metadata": {
        "id": "HwfaRQeVxvYi",
        "colab": {
          "base_uri": "https://localhost:8080/",
          "height": 285
        },
        "outputId": "93eb11fa-3ce0-4f90-f99b-9dfec309ba29"
      },
      "source": [
        "plt.plot([-5, 5], [0, 0], 'k-')\n",
        "plt.plot([-5, 5], [1, 1], 'k--')\n",
        "plt.plot([0, 0], [-0.2, 1.2], 'k-')\n",
        "plt.plot([-5, 5], [-3/4, 7/4], 'g--')\n",
        "plt.plot(z, logit(z), \"b-\", linewidth=2)\n",
        "props = dict(facecolor='black', shrink=0.1)\n",
        "plt.annotate('Saturating', xytext=(3.5, 0.7), xy=(5, 1), arrowprops=props, fontsize=14, ha=\"center\")\n",
        "plt.annotate('Saturating', xytext=(-3.5, 0.3), xy=(-5, 0), arrowprops=props, fontsize=14, ha=\"center\")\n",
        "plt.annotate('Linear', xytext=(2, 0.2), xy=(0, 0.5), arrowprops=props, fontsize=14, ha=\"center\")\n",
        "plt.grid(True)\n",
        "plt.title(\"Sigmoid Activation Function\", fontsize=14)\n",
        "plt.axis([-5, 5, -0.2, 1.2])\n",
        "plt.show()"
      ],
      "execution_count": 9,
      "outputs": [
        {
          "output_type": "display_data",
          "data": {
            "image/png": "[encoded data removed]",
            "text/plain": [
              "<Figure size 432x288 with 1 Axes>"
            ]
          },
          "metadata": {
            "tags": [],
            "needs_background": "light"
          }
        }
      ]
    },
    {
      "cell_type": "code",
      "metadata": {
        "id": "n6Y6oAjXEq1d",
        "colab": {
          "base_uri": "https://localhost:8080/",
          "height": 285
        },
        "outputId": "54e7ffe6-c79e-40a3-9977-76d8d780262d"
      },
      "source": [
        "plt.plot(z, derivative_logit(z))"
      ],
      "execution_count": 10,
      "outputs": [
        {
          "output_type": "execute_result",
          "data": {
            "text/plain": [
              "[<matplotlib.lines.Line2D at 0x7f998f046fd0>]"
            ]
          },
          "metadata": {
            "tags": []
          },
          "execution_count": 10
        },
        {
          "output_type": "display_data",
          "data": {
            "image/png": "[encoded data removed]",
            "text/plain": [
              "<Figure size 432x288 with 1 Axes>"
            ]
          },
          "metadata": {
            "tags": [],
            "needs_background": "light"
          }
        }
      ]
    },
    {
      "cell_type": "code",
      "metadata": {
        "id": "gsSEdR_m8N_7"
      },
      "source": [
        "# Leaky ReLU plot\n",
        "\n",
        "def leaky_relu(z, alpha=0.01):\n",
        "  return np.maximum(alpha*z, z)"
      ],
      "execution_count": 11,
      "outputs": []
    },
    {
      "cell_type": "code",
      "metadata": {
        "id": "bpEftSIK8TGt",
        "colab": {
          "base_uri": "https://localhost:8080/",
          "height": 285
        },
        "outputId": "87870a96-4622-49bc-f708-77af2e6d93b3"
      },
      "source": [
        "plt.plot(z, leaky_relu(z, 0.05), \"b-\", linewidth=2)\n",
        "plt.plot([-5, 5], [0, 0], 'k-')\n",
        "plt.plot([0, 0], [-0.5, 4.2], 'k-')\n",
        "plt.grid(True)\n",
        "props = dict(facecolor='black', shrink=0.1)\n",
        "plt.annotate('Leak', xytext=(-3.5, 0.5), xy=(-5, -0.2),\n",
        "arrowprops=props, fontsize=14, ha=\"center\")\n",
        "plt.title(\"Leaky ReLU activation function\", fontsize=14)\n",
        "plt.axis([-5, 5, -0.5, 4.2])\n",
        "plt.show()"
      ],
      "execution_count": 12,
      "outputs": [
        {
          "output_type": "display_data",
          "data": {
            "image/png": "[encoded data removed]",
            "text/plain": [
              "<Figure size 432x288 with 1 Axes>"
            ]
          },
          "metadata": {
            "tags": [],
            "needs_background": "light"
          }
        }
      ]
    },
    {
      "cell_type": "code",
      "metadata": {
        "id": "iKk0z1xLEJ8P"
      },
      "source": [
        "def elu(z, alpha=1):\n",
        "  return np.where(z < 0, alpha * (np.exp(z) - 1), z)"
      ],
      "execution_count": 13,
      "outputs": []
    },
    {
      "cell_type": "code",
      "metadata": {
        "id": "qf6THpUtENxD",
        "colab": {
          "base_uri": "https://localhost:8080/",
          "height": 287
        },
        "outputId": "2ea9d03d-7dc6-4169-acab-5b788d44229f"
      },
      "source": [
        "plt.plot(z, elu(z), \"b-\", linewidth=2)\n",
        "plt.plot([-5, 5], [0, 0], 'k-')\n",
        "plt.plot([-5, 5], [-1, -1], 'k--')\n",
        "plt.plot([0, 0], [-2.2, 3.2], 'k-')\n",
        "plt.grid(True)\n",
        "plt.title(r\"ELU activation function ($\\alpha=1$)\", fontsize=14)\n",
        "plt.axis([-5, 5, -2.2, 3.2])\n",
        "plt.show()"
      ],
      "execution_count": 14,
      "outputs": [
        {
          "output_type": "display_data",
          "data": {
            "image/png": "[encoded data removed]",
            "text/plain": [
              "<Figure size 432x288 with 1 Axes>"
            ]
          },
          "metadata": {
            "tags": [],
            "needs_background": "light"
          }
        }
      ]
    },
    {
      "cell_type": "code",
      "metadata": {
        "id": "sJmucASOF7bb"
      },
      "source": [
        "def selu(z,scale=1.0507009873554804934193349852946,alpha=1.6732632423543772848170429916717):\n",
        "  return scale * elu(z, alpha)"
      ],
      "execution_count": 15,
      "outputs": []
    },
    {
      "cell_type": "code",
      "metadata": {
        "id": "ihDzRo6aGCb_",
        "colab": {
          "base_uri": "https://localhost:8080/",
          "height": 285
        },
        "outputId": "9e86310b-a70c-4598-f06d-b2b5149d3596"
      },
      "source": [
        "plt.plot(z, selu(z), \"b-\", linewidth=2)\n",
        "plt.plot([-5, 5], [0, 0], 'k-')\n",
        "plt.plot([-5, 5], [-1.758, -1.758], 'k--')\n",
        "plt.plot([0, 0], [-2.2, 3.2], 'k-')\n",
        "plt.grid(True)\n",
        "plt.title(r\"SELU activation function\", fontsize=14)\n",
        "plt.axis([-5, 5, -2.2, 3.2])\n",
        "plt.show()"
      ],
      "execution_count": 16,
      "outputs": [
        {
          "output_type": "display_data",
          "data": {
            "image/png": "[encoded data removed]",
            "text/plain": [
              "<Figure size 432x288 with 1 Axes>"
            ]
          },
          "metadata": {
            "tags": [],
            "needs_background": "light"
          }
        }
      ]
    },
    {
      "cell_type": "code",
      "metadata": {
        "id": "GGGDWOQT8viq",
        "colab": {
          "base_uri": "https://localhost:8080/"
        },
        "outputId": "17852209-5d61-4f94-c9fd-ee5fcd23dba7"
      },
      "source": [
        "np.random.seed(42)\n",
        "Z = np.random.normal(size=(500, 100))\n",
        "for layer in range(100):\n",
        "  W = np.random.normal(size=(100, 100), scale=np.sqrt(1/100))\n",
        "  Z = selu(np.dot(Z, W))\n",
        "  means = np.mean(Z, axis=1)\n",
        "  stds = np.std(Z, axis=1)\n",
        "  if layer % 10 == 0:\n",
        "    print(\"Layer {}: {:.2f} < mean < {:.2f}, {:.2f} < std deviation < {:.2f}\".format(layer, means.min(), means.max(), stds.min(), stds.max()))"
      ],
      "execution_count": 17,
      "outputs": [
        {
          "output_type": "stream",
          "text": [
            "Layer 0: -0.26 < mean < 0.27, 0.74 < std deviation < 1.27\n",
            "Layer 10: -0.24 < mean < 0.27, 0.74 < std deviation < 1.27\n",
            "Layer 20: -0.17 < mean < 0.18, 0.74 < std deviation < 1.24\n",
            "Layer 30: -0.27 < mean < 0.24, 0.78 < std deviation < 1.20\n",
            "Layer 40: -0.38 < mean < 0.39, 0.74 < std deviation < 1.25\n",
            "Layer 50: -0.27 < mean < 0.31, 0.73 < std deviation < 1.27\n",
            "Layer 60: -0.26 < mean < 0.43, 0.74 < std deviation < 1.35\n",
            "Layer 70: -0.19 < mean < 0.21, 0.75 < std deviation < 1.21\n",
            "Layer 80: -0.18 < mean < 0.16, 0.72 < std deviation < 1.19\n",
            "Layer 90: -0.19 < mean < 0.16, 0.75 < std deviation < 1.20\n"
          ],
          "name": "stdout"
        }
      ]
    },
    {
      "cell_type": "code",
      "metadata": {
        "id": "qQfDEFLkXs_d",
        "colab": {
          "base_uri": "https://localhost:8080/"
        },
        "outputId": "3cf4991c-b5f3-40eb-c578-02f0788c4db2"
      },
      "source": [
        "mnist = input_data.read_data_sets(\"data/\")\n",
        "X_train = mnist.train.images\n",
        "X_test = mnist.test.images\n",
        "y_train = mnist.train.labels.astype(\"int\")\n",
        "y_test = mnist.test.labels.astype(\"int\")"
      ],
      "execution_count": 18,
      "outputs": [
        {
          "output_type": "stream",
          "text": [
            "WARNING:tensorflow:From <ipython-input-18-36e6f08442f0>:1: read_data_sets (from tensorflow.contrib.learn.python.learn.datasets.mnist) is deprecated and will be removed in a future version.\n",
            "Instructions for updating:\n",
            "Please use alternatives such as official/mnist/dataset.py from tensorflow/models.\n",
            "WARNING:tensorflow:From /usr/local/lib/python3.6/dist-packages/tensorflow/contrib/learn/python/learn/datasets/mnist.py:260: maybe_download (from tensorflow.contrib.learn.python.learn.datasets.base) is deprecated and will be removed in a future version.\n",
            "Instructions for updating:\n",
            "Please write your own downloading logic.\n",
            "WARNING:tensorflow:From /usr/local/lib/python3.6/dist-packages/tensorflow/contrib/learn/python/learn/datasets/mnist.py:262: extract_images (from tensorflow.contrib.learn.python.learn.datasets.mnist) is deprecated and will be removed in a future version.\n",
            "Instructions for updating:\n",
            "Please use tf.data to implement this functionality.\n",
            "Extracting data/train-images-idx3-ubyte.gz\n",
            "WARNING:tensorflow:From /usr/local/lib/python3.6/dist-packages/tensorflow/contrib/learn/python/learn/datasets/mnist.py:267: extract_labels (from tensorflow.contrib.learn.python.learn.datasets.mnist) is deprecated and will be removed in a future version.\n",
            "Instructions for updating:\n",
            "Please use tf.data to implement this functionality.\n",
            "Extracting data/train-labels-idx1-ubyte.gz\n",
            "Extracting data/t10k-images-idx3-ubyte.gz\n",
            "Extracting data/t10k-labels-idx1-ubyte.gz\n",
            "WARNING:tensorflow:From /usr/local/lib/python3.6/dist-packages/tensorflow/contrib/learn/python/learn/datasets/mnist.py:290: DataSet.__init__ (from tensorflow.contrib.learn.python.learn.datasets.mnist) is deprecated and will be removed in a future version.\n",
            "Instructions for updating:\n",
            "Please use alternatives such as official/mnist/dataset.py from tensorflow/models.\n"
          ],
          "name": "stdout"
        }
      ]
    },
    {
      "cell_type": "code",
      "metadata": {
        "id": "8FGFgBQMY9SV"
      },
      "source": [
        "n_inputs = 28*28  # MNIST\n",
        "n_hidden1 = 100\n",
        "n_hidden2 = 200\n",
        "n_hidden3 = 300\n",
        "n_outputs = 10"
      ],
      "execution_count": 19,
      "outputs": []
    },
    {
      "cell_type": "code",
      "metadata": {
        "id": "OwnAv7gBZEdI"
      },
      "source": [
        "reset_graph()\n",
        "\n",
        "X = tf.placeholder(tf.float32, shape=(None, n_inputs), name=\"X\")\n",
        "y = tf.placeholder(tf.int64, shape=(None), name=\"y\")"
      ],
      "execution_count": 20,
      "outputs": []
    },
    {
      "cell_type": "markdown",
      "metadata": {
        "id": "xJWGmUQoa9Om"
      },
      "source": [
        "#**He Initilization**"
      ]
    },
    {
      "cell_type": "code",
      "metadata": {
        "id": "PCrBINFOZJjL"
      },
      "source": [
        "he_init = tf.contrib.layers.variance_scaling_initializer()\n",
        "with tf.name_scope(\"dnn\"):\n",
        "    hidden1 = tf.layers.dense(X, n_hidden1, name=\"hidden1\",activation=tf.nn.relu,kernel_initializer=he_init)\n",
        "    hidden2 = tf.layers.dense(hidden1, n_hidden2, name=\"hidden2\",activation=tf.nn.relu,kernel_initializer=he_init)\n",
        "    hidden3 = tf.layers.dense(hidden2, n_hidden3, name=\"hidden3\",activation=tf.nn.relu,kernel_initializer=he_init)\n",
        "    logits = tf.layers.dense(hidden3, n_outputs, name=\"outputs\")"
      ],
      "execution_count": 21,
      "outputs": []
    },
    {
      "cell_type": "code",
      "metadata": {
        "id": "XHxoz4FoZMvF"
      },
      "source": [
        "with tf.name_scope(\"loss\"):\n",
        "    xentropy = tf.nn.sparse_softmax_cross_entropy_with_logits(labels=y,logits=logits)\n",
        "    loss = tf.reduce_mean(xentropy, name=\"loss\")"
      ],
      "execution_count": 22,
      "outputs": []
    },
    {
      "cell_type": "code",
      "metadata": {
        "id": "UMDwDxIHZRVZ"
      },
      "source": [
        "learning_rate = 0.01\n",
        "\n",
        "with tf.name_scope(\"train\"):\n",
        "    optimizer = tf.train.GradientDescentOptimizer(learning_rate)\n",
        "    training_op = optimizer.minimize(loss)"
      ],
      "execution_count": 23,
      "outputs": []
    },
    {
      "cell_type": "code",
      "metadata": {
        "id": "UnpXO1FrZUu7"
      },
      "source": [
        "with tf.name_scope(\"eval\"):\n",
        "    correct = tf.nn.in_top_k(logits, y, 1)\n",
        "    accuracy = tf.reduce_mean(tf.cast(correct, tf.float32))"
      ],
      "execution_count": 24,
      "outputs": []
    },
    {
      "cell_type": "code",
      "metadata": {
        "id": "Ih459yFcZX0s"
      },
      "source": [
        "init = tf.global_variables_initializer()\n",
        "saver = tf.train.Saver()"
      ],
      "execution_count": 25,
      "outputs": []
    },
    {
      "cell_type": "code",
      "metadata": {
        "id": "nAMHUqmNZZ_m"
      },
      "source": [
        "n_epochs = 40\n",
        "batch_size = 50"
      ],
      "execution_count": 26,
      "outputs": []
    },
    {
      "cell_type": "code",
      "metadata": {
        "colab": {
          "base_uri": "https://localhost:8080/"
        },
        "id": "bs3Mf4ceZeXL",
        "outputId": "2dd72553-6227-4350-87ba-6faaabe4dba4"
      },
      "source": [
        "with tf.Session() as sess:\n",
        "    init.run()\n",
        "    for epoch in range(n_epochs):\n",
        "        for iteration in range(mnist.train.num_examples // batch_size):\n",
        "            X_batch, y_batch = mnist.train.next_batch(batch_size)\n",
        "            sess.run(training_op, feed_dict={X: X_batch, y: y_batch})\n",
        "        acc_train = accuracy.eval(feed_dict={X: X_batch, y: y_batch})\n",
        "        acc_val = accuracy.eval(feed_dict={X: mnist.validation.images,y: mnist.validation.labels})\n",
        "        print(epoch, \"Train accuracy:\", acc_train, \"Val accuracy:\", acc_val)\n",
        "    save_path = saver.save(sess, \"model_ckps1/my_model_final.ckpt\")"
      ],
      "execution_count": 27,
      "outputs": [
        {
          "output_type": "stream",
          "text": [
            "0 Train accuracy: 0.92 Val accuracy: 0.914\n",
            "1 Train accuracy: 0.96 Val accuracy: 0.9366\n",
            "2 Train accuracy: 0.96 Val accuracy: 0.9488\n",
            "3 Train accuracy: 0.94 Val accuracy: 0.9556\n",
            "4 Train accuracy: 0.94 Val accuracy: 0.9588\n",
            "5 Train accuracy: 0.94 Val accuracy: 0.961\n",
            "6 Train accuracy: 0.96 Val accuracy: 0.9636\n",
            "7 Train accuracy: 0.96 Val accuracy: 0.963\n",
            "8 Train accuracy: 0.96 Val accuracy: 0.9664\n",
            "9 Train accuracy: 0.98 Val accuracy: 0.9666\n",
            "10 Train accuracy: 1.0 Val accuracy: 0.9698\n",
            "11 Train accuracy: 0.96 Val accuracy: 0.9716\n",
            "12 Train accuracy: 1.0 Val accuracy: 0.9734\n",
            "13 Train accuracy: 1.0 Val accuracy: 0.9684\n",
            "14 Train accuracy: 1.0 Val accuracy: 0.9724\n",
            "15 Train accuracy: 1.0 Val accuracy: 0.9742\n",
            "16 Train accuracy: 1.0 Val accuracy: 0.9736\n",
            "17 Train accuracy: 0.98 Val accuracy: 0.9746\n",
            "18 Train accuracy: 1.0 Val accuracy: 0.9744\n",
            "19 Train accuracy: 1.0 Val accuracy: 0.9742\n",
            "20 Train accuracy: 1.0 Val accuracy: 0.9752\n",
            "21 Train accuracy: 1.0 Val accuracy: 0.9742\n",
            "22 Train accuracy: 1.0 Val accuracy: 0.9752\n",
            "23 Train accuracy: 1.0 Val accuracy: 0.9778\n",
            "24 Train accuracy: 1.0 Val accuracy: 0.9766\n",
            "25 Train accuracy: 1.0 Val accuracy: 0.9776\n",
            "26 Train accuracy: 1.0 Val accuracy: 0.9766\n",
            "27 Train accuracy: 1.0 Val accuracy: 0.9764\n",
            "28 Train accuracy: 1.0 Val accuracy: 0.9774\n",
            "29 Train accuracy: 1.0 Val accuracy: 0.9774\n",
            "30 Train accuracy: 1.0 Val accuracy: 0.9768\n",
            "31 Train accuracy: 1.0 Val accuracy: 0.975\n",
            "32 Train accuracy: 0.98 Val accuracy: 0.9776\n",
            "33 Train accuracy: 1.0 Val accuracy: 0.9742\n",
            "34 Train accuracy: 0.98 Val accuracy: 0.9776\n",
            "35 Train accuracy: 1.0 Val accuracy: 0.9748\n",
            "36 Train accuracy: 1.0 Val accuracy: 0.977\n",
            "37 Train accuracy: 1.0 Val accuracy: 0.9754\n",
            "38 Train accuracy: 1.0 Val accuracy: 0.9758\n",
            "39 Train accuracy: 1.0 Val accuracy: 0.975\n"
          ],
          "name": "stdout"
        }
      ]
    },
    {
      "cell_type": "markdown",
      "metadata": {
        "id": "OS6l3KOkA32L"
      },
      "source": [
        "#**Activations**"
      ]
    },
    {
      "cell_type": "markdown",
      "metadata": {
        "id": "Na2epRSG9vRn"
      },
      "source": [
        "##**Leaky Relu**"
      ]
    },
    {
      "cell_type": "code",
      "metadata": {
        "id": "TGz0U_xS9-Y3"
      },
      "source": [
        "reset_graph()\n",
        "\n",
        "X = tf.placeholder(tf.float32, shape=(None, n_inputs), name=\"X\")\n",
        "y = tf.placeholder(tf.int64, shape=(None), name=\"y\")"
      ],
      "execution_count": 28,
      "outputs": []
    },
    {
      "cell_type": "code",
      "metadata": {
        "id": "7uO0jP-l-nI5"
      },
      "source": [
        "def leaky_relu(z, name=None):\n",
        "  return tf.maximum(0.01 * z, z, name=name)"
      ],
      "execution_count": 29,
      "outputs": []
    },
    {
      "cell_type": "code",
      "metadata": {
        "id": "gt8PXkPS-ph7"
      },
      "source": [
        "he_init = tf.contrib.layers.variance_scaling_initializer()"
      ],
      "execution_count": 30,
      "outputs": []
    },
    {
      "cell_type": "code",
      "metadata": {
        "id": "RXXzY8ym9vRn"
      },
      "source": [
        "with tf.name_scope(\"dnn\"):\n",
        "    hidden1 = tf.layers.dense(X, n_hidden1, name=\"hidden1\",activation=leaky_relu,kernel_initializer=he_init)\n",
        "    hidden2 = tf.layers.dense(hidden1, n_hidden2, name=\"hidden2\",activation=leaky_relu,kernel_initializer=he_init)\n",
        "    hidden3 = tf.layers.dense(hidden2, n_hidden3, name=\"hidden3\",activation=leaky_relu,kernel_initializer=he_init)\n",
        "    logits = tf.layers.dense(hidden3, n_outputs, name=\"outputs\")"
      ],
      "execution_count": 31,
      "outputs": []
    },
    {
      "cell_type": "code",
      "metadata": {
        "id": "thlwv92S9vRo"
      },
      "source": [
        "with tf.name_scope(\"loss\"):\n",
        "    xentropy = tf.nn.sparse_softmax_cross_entropy_with_logits(labels=y,logits=logits)\n",
        "    loss = tf.reduce_mean(xentropy, name=\"loss\")"
      ],
      "execution_count": 32,
      "outputs": []
    },
    {
      "cell_type": "code",
      "metadata": {
        "id": "gazgI9Hx9vRo"
      },
      "source": [
        "learning_rate = 0.01\n",
        "\n",
        "with tf.name_scope(\"train\"):\n",
        "    optimizer = tf.train.GradientDescentOptimizer(learning_rate)\n",
        "    training_op = optimizer.minimize(loss)"
      ],
      "execution_count": 33,
      "outputs": []
    },
    {
      "cell_type": "code",
      "metadata": {
        "id": "ICs4zlil9vRo"
      },
      "source": [
        "with tf.name_scope(\"eval\"):\n",
        "    correct = tf.nn.in_top_k(logits, y, 1)\n",
        "    accuracy = tf.reduce_mean(tf.cast(correct, tf.float32))"
      ],
      "execution_count": 34,
      "outputs": []
    },
    {
      "cell_type": "code",
      "metadata": {
        "id": "5xsbrdXF9vRo"
      },
      "source": [
        "init = tf.global_variables_initializer()\n",
        "saver = tf.train.Saver()"
      ],
      "execution_count": 35,
      "outputs": []
    },
    {
      "cell_type": "code",
      "metadata": {
        "id": "xc9pF-pf9vRo"
      },
      "source": [
        "n_epochs = 40\n",
        "batch_size = 50"
      ],
      "execution_count": 36,
      "outputs": []
    },
    {
      "cell_type": "code",
      "metadata": {
        "colab": {
          "base_uri": "https://localhost:8080/"
        },
        "id": "GPBd3TqA9vRo",
        "outputId": "d1bfc1e3-8fd3-4e02-fa26-65f59bd27bc2"
      },
      "source": [
        "with tf.Session() as sess:\n",
        "    init.run()\n",
        "    for epoch in range(n_epochs):\n",
        "        for iteration in range(mnist.train.num_examples // batch_size):\n",
        "            X_batch, y_batch = mnist.train.next_batch(batch_size)\n",
        "            sess.run(training_op, feed_dict={X: X_batch, y: y_batch})\n",
        "        acc_train = accuracy.eval(feed_dict={X: X_batch, y: y_batch})\n",
        "        acc_val = accuracy.eval(feed_dict={X: mnist.validation.images,y: mnist.validation.labels})\n",
        "        print(epoch, \"Train accuracy:\", acc_train, \"Val accuracy:\", acc_val)\n",
        "    save_path = saver.save(sess, \"model_ckps2/my_model_final.ckpt\")"
      ],
      "execution_count": 37,
      "outputs": [
        {
          "output_type": "stream",
          "text": [
            "0 Train accuracy: 0.88 Val accuracy: 0.9152\n",
            "1 Train accuracy: 0.9 Val accuracy: 0.9314\n",
            "2 Train accuracy: 0.96 Val accuracy: 0.942\n",
            "3 Train accuracy: 0.96 Val accuracy: 0.9522\n",
            "4 Train accuracy: 0.96 Val accuracy: 0.9572\n",
            "5 Train accuracy: 1.0 Val accuracy: 0.9606\n",
            "6 Train accuracy: 0.98 Val accuracy: 0.9628\n",
            "7 Train accuracy: 1.0 Val accuracy: 0.9648\n",
            "8 Train accuracy: 0.96 Val accuracy: 0.9682\n",
            "9 Train accuracy: 0.96 Val accuracy: 0.9682\n",
            "10 Train accuracy: 0.96 Val accuracy: 0.9714\n",
            "11 Train accuracy: 0.96 Val accuracy: 0.9728\n",
            "12 Train accuracy: 1.0 Val accuracy: 0.972\n",
            "13 Train accuracy: 0.98 Val accuracy: 0.9732\n",
            "14 Train accuracy: 1.0 Val accuracy: 0.9744\n",
            "15 Train accuracy: 0.96 Val accuracy: 0.9732\n",
            "16 Train accuracy: 0.92 Val accuracy: 0.9748\n",
            "17 Train accuracy: 1.0 Val accuracy: 0.9752\n",
            "18 Train accuracy: 1.0 Val accuracy: 0.974\n",
            "19 Train accuracy: 1.0 Val accuracy: 0.9744\n",
            "20 Train accuracy: 0.98 Val accuracy: 0.9738\n",
            "21 Train accuracy: 1.0 Val accuracy: 0.9756\n",
            "22 Train accuracy: 1.0 Val accuracy: 0.975\n",
            "23 Train accuracy: 1.0 Val accuracy: 0.9772\n",
            "24 Train accuracy: 0.98 Val accuracy: 0.9776\n",
            "25 Train accuracy: 1.0 Val accuracy: 0.9784\n",
            "26 Train accuracy: 1.0 Val accuracy: 0.9776\n",
            "27 Train accuracy: 1.0 Val accuracy: 0.9768\n",
            "28 Train accuracy: 1.0 Val accuracy: 0.9792\n",
            "29 Train accuracy: 1.0 Val accuracy: 0.9808\n",
            "30 Train accuracy: 1.0 Val accuracy: 0.98\n",
            "31 Train accuracy: 1.0 Val accuracy: 0.979\n",
            "32 Train accuracy: 1.0 Val accuracy: 0.9796\n",
            "33 Train accuracy: 1.0 Val accuracy: 0.9806\n",
            "34 Train accuracy: 1.0 Val accuracy: 0.98\n",
            "35 Train accuracy: 1.0 Val accuracy: 0.9794\n",
            "36 Train accuracy: 1.0 Val accuracy: 0.9808\n",
            "37 Train accuracy: 1.0 Val accuracy: 0.9788\n",
            "38 Train accuracy: 1.0 Val accuracy: 0.9808\n",
            "39 Train accuracy: 1.0 Val accuracy: 0.98\n"
          ],
          "name": "stdout"
        }
      ]
    },
    {
      "cell_type": "markdown",
      "metadata": {
        "id": "BxFtPo22EeFA"
      },
      "source": [
        "##***ELU***"
      ]
    },
    {
      "cell_type": "code",
      "metadata": {
        "id": "yfNegqVVEeFA"
      },
      "source": [
        "reset_graph()\n",
        "\n",
        "X = tf.placeholder(tf.float32, shape=(None, n_inputs), name=\"X\")\n",
        "y = tf.placeholder(tf.int64, shape=(None), name=\"y\")"
      ],
      "execution_count": 38,
      "outputs": []
    },
    {
      "cell_type": "code",
      "metadata": {
        "id": "yeYNCjsTEeFA"
      },
      "source": [
        "he_init = tf.contrib.layers.variance_scaling_initializer()"
      ],
      "execution_count": 39,
      "outputs": []
    },
    {
      "cell_type": "code",
      "metadata": {
        "id": "mcv2Vr6hEvkp"
      },
      "source": [
        "with tf.name_scope(\"dnn\"):\n",
        "    hidden1 = tf.layers.dense(X, n_hidden1, name=\"hidden1\",activation=tf.nn.elu,kernel_initializer=he_init)\n",
        "    hidden2 = tf.layers.dense(hidden1, n_hidden2, name=\"hidden2\",activation=tf.nn.elu,kernel_initializer=he_init)\n",
        "    hidden3 = tf.layers.dense(hidden2, n_hidden3, name=\"hidden3\",activation=tf.nn.elu,kernel_initializer=he_init)\n",
        "    logits = tf.layers.dense(hidden3, n_outputs, name=\"outputs\")"
      ],
      "execution_count": 40,
      "outputs": []
    },
    {
      "cell_type": "code",
      "metadata": {
        "id": "XGxCfC38EeFA"
      },
      "source": [
        "with tf.name_scope(\"loss\"):\n",
        "    xentropy = tf.nn.sparse_softmax_cross_entropy_with_logits(labels=y,logits=logits)\n",
        "    loss = tf.reduce_mean(xentropy, name=\"loss\")"
      ],
      "execution_count": 41,
      "outputs": []
    },
    {
      "cell_type": "code",
      "metadata": {
        "id": "A6KA6O-EEeFA"
      },
      "source": [
        "learning_rate = 0.01\n",
        "\n",
        "with tf.name_scope(\"train\"):\n",
        "    optimizer = tf.train.GradientDescentOptimizer(learning_rate)\n",
        "    training_op = optimizer.minimize(loss)"
      ],
      "execution_count": 42,
      "outputs": []
    },
    {
      "cell_type": "code",
      "metadata": {
        "id": "ab2SbFh1EeFA"
      },
      "source": [
        "with tf.name_scope(\"eval\"):\n",
        "    correct = tf.nn.in_top_k(logits, y, 1)\n",
        "    accuracy = tf.reduce_mean(tf.cast(correct, tf.float32))"
      ],
      "execution_count": 43,
      "outputs": []
    },
    {
      "cell_type": "code",
      "metadata": {
        "id": "OSbht8daEeFB"
      },
      "source": [
        "init = tf.global_variables_initializer()\n",
        "saver = tf.train.Saver()"
      ],
      "execution_count": 44,
      "outputs": []
    },
    {
      "cell_type": "code",
      "metadata": {
        "id": "xXbMKRQXEeFB"
      },
      "source": [
        "n_epochs = 40\n",
        "batch_size = 50"
      ],
      "execution_count": 45,
      "outputs": []
    },
    {
      "cell_type": "code",
      "metadata": {
        "id": "aXnhn4dXEeFB",
        "colab": {
          "base_uri": "https://localhost:8080/"
        },
        "outputId": "ad2f6114-9777-461f-a2ca-4629d81aabb6"
      },
      "source": [
        "with tf.Session() as sess:\n",
        "    init.run()\n",
        "    for epoch in range(n_epochs):\n",
        "        for iteration in range(mnist.train.num_examples // batch_size):\n",
        "            X_batch, y_batch = mnist.train.next_batch(batch_size)\n",
        "            sess.run(training_op, feed_dict={X: X_batch, y: y_batch})\n",
        "        acc_train = accuracy.eval(feed_dict={X: X_batch, y: y_batch})\n",
        "        acc_val = accuracy.eval(feed_dict={X: mnist.validation.images,y: mnist.validation.labels})\n",
        "        print(epoch, \"Train accuracy:\", acc_train, \"Val accuracy:\", acc_val)\n",
        "    save_path = saver.save(sess, \"model_ckps3/my_model_final.ckpt\")"
      ],
      "execution_count": 46,
      "outputs": [
        {
          "output_type": "stream",
          "text": [
            "0 Train accuracy: 0.88 Val accuracy: 0.9146\n",
            "1 Train accuracy: 0.98 Val accuracy: 0.932\n",
            "2 Train accuracy: 0.94 Val accuracy: 0.9446\n",
            "3 Train accuracy: 0.96 Val accuracy: 0.9492\n",
            "4 Train accuracy: 1.0 Val accuracy: 0.9532\n",
            "5 Train accuracy: 0.98 Val accuracy: 0.959\n",
            "6 Train accuracy: 0.96 Val accuracy: 0.9626\n",
            "7 Train accuracy: 0.92 Val accuracy: 0.9658\n",
            "8 Train accuracy: 1.0 Val accuracy: 0.9676\n",
            "9 Train accuracy: 1.0 Val accuracy: 0.967\n",
            "10 Train accuracy: 1.0 Val accuracy: 0.9696\n",
            "11 Train accuracy: 0.96 Val accuracy: 0.969\n",
            "12 Train accuracy: 0.98 Val accuracy: 0.9702\n",
            "13 Train accuracy: 0.98 Val accuracy: 0.973\n",
            "14 Train accuracy: 0.96 Val accuracy: 0.9714\n",
            "15 Train accuracy: 0.98 Val accuracy: 0.9732\n",
            "16 Train accuracy: 0.98 Val accuracy: 0.9734\n",
            "17 Train accuracy: 1.0 Val accuracy: 0.9738\n",
            "18 Train accuracy: 0.98 Val accuracy: 0.9756\n",
            "19 Train accuracy: 1.0 Val accuracy: 0.9766\n",
            "20 Train accuracy: 1.0 Val accuracy: 0.9746\n",
            "21 Train accuracy: 1.0 Val accuracy: 0.9758\n",
            "22 Train accuracy: 1.0 Val accuracy: 0.977\n",
            "23 Train accuracy: 1.0 Val accuracy: 0.9778\n",
            "24 Train accuracy: 0.96 Val accuracy: 0.9762\n",
            "25 Train accuracy: 0.98 Val accuracy: 0.9772\n",
            "26 Train accuracy: 0.98 Val accuracy: 0.9772\n",
            "27 Train accuracy: 1.0 Val accuracy: 0.9786\n",
            "28 Train accuracy: 1.0 Val accuracy: 0.9764\n",
            "29 Train accuracy: 1.0 Val accuracy: 0.9776\n",
            "30 Train accuracy: 1.0 Val accuracy: 0.9774\n",
            "31 Train accuracy: 0.98 Val accuracy: 0.9778\n",
            "32 Train accuracy: 1.0 Val accuracy: 0.9776\n",
            "33 Train accuracy: 1.0 Val accuracy: 0.977\n",
            "34 Train accuracy: 1.0 Val accuracy: 0.9788\n",
            "35 Train accuracy: 0.98 Val accuracy: 0.979\n",
            "36 Train accuracy: 1.0 Val accuracy: 0.978\n",
            "37 Train accuracy: 1.0 Val accuracy: 0.9778\n",
            "38 Train accuracy: 1.0 Val accuracy: 0.978\n",
            "39 Train accuracy: 0.98 Val accuracy: 0.9788\n"
          ],
          "name": "stdout"
        }
      ]
    },
    {
      "cell_type": "markdown",
      "metadata": {
        "id": "VLSOqsnA_AO5"
      },
      "source": [
        "##**SELU**"
      ]
    },
    {
      "cell_type": "code",
      "metadata": {
        "id": "l6z9tdBI_AO6"
      },
      "source": [
        "reset_graph()\n",
        "\n",
        "X = tf.placeholder(tf.float32, shape=(None, n_inputs), name=\"X\")\n",
        "y = tf.placeholder(tf.int64, shape=(None), name=\"y\")"
      ],
      "execution_count": 47,
      "outputs": []
    },
    {
      "cell_type": "code",
      "metadata": {
        "id": "rhoagMGa_AO6"
      },
      "source": [
        "he_init = tf.contrib.layers.variance_scaling_initializer()"
      ],
      "execution_count": 48,
      "outputs": []
    },
    {
      "cell_type": "code",
      "metadata": {
        "id": "QtmJzJXb_AO6"
      },
      "source": [
        "with tf.name_scope(\"dnn\"):\n",
        "    hidden1 = tf.layers.dense(X, n_hidden1, name=\"hidden1\",activation=tf.nn.selu,kernel_initializer=he_init)\n",
        "    hidden2 = tf.layers.dense(hidden1, n_hidden2, name=\"hidden2\",activation=tf.nn.selu,kernel_initializer=he_init)\n",
        "    hidden3 = tf.layers.dense(hidden2, n_hidden3, name=\"hidden3\",activation=tf.nn.selu,kernel_initializer=he_init)\n",
        "    logits = tf.layers.dense(hidden3, n_outputs, name=\"outputs\")"
      ],
      "execution_count": 49,
      "outputs": []
    },
    {
      "cell_type": "code",
      "metadata": {
        "id": "trpcPQbY_AO7"
      },
      "source": [
        "with tf.name_scope(\"loss\"):\n",
        "    xentropy = tf.nn.sparse_softmax_cross_entropy_with_logits(labels=y,logits=logits)\n",
        "    loss = tf.reduce_mean(xentropy, name=\"loss\")"
      ],
      "execution_count": 50,
      "outputs": []
    },
    {
      "cell_type": "code",
      "metadata": {
        "id": "9h0c9V3e_AO7"
      },
      "source": [
        "learning_rate = 0.01\n",
        "\n",
        "with tf.name_scope(\"train\"):\n",
        "    optimizer = tf.train.GradientDescentOptimizer(learning_rate)\n",
        "    training_op = optimizer.minimize(loss)"
      ],
      "execution_count": 51,
      "outputs": []
    },
    {
      "cell_type": "code",
      "metadata": {
        "id": "D9xmMn4p_AO7"
      },
      "source": [
        "with tf.name_scope(\"eval\"):\n",
        "    correct = tf.nn.in_top_k(logits, y, 1)\n",
        "    accuracy = tf.reduce_mean(tf.cast(correct, tf.float32))"
      ],
      "execution_count": 52,
      "outputs": []
    },
    {
      "cell_type": "code",
      "metadata": {
        "id": "DBSENOS6_AO7"
      },
      "source": [
        "init = tf.global_variables_initializer()\n",
        "saver = tf.train.Saver()"
      ],
      "execution_count": 53,
      "outputs": []
    },
    {
      "cell_type": "code",
      "metadata": {
        "id": "5fcWbqgA_AO7"
      },
      "source": [
        "n_epochs = 40\n",
        "batch_size = 50"
      ],
      "execution_count": 54,
      "outputs": []
    },
    {
      "cell_type": "code",
      "metadata": {
        "id": "plUYhsU1_AO7",
        "colab": {
          "base_uri": "https://localhost:8080/"
        },
        "outputId": "b9bd446c-db86-40cf-d961-c3489c46c4c4"
      },
      "source": [
        "means = mnist.train.images.mean(axis=0, keepdims=True)\n",
        "stds = mnist.train.images.std(axis=0, keepdims=True) + 1e-10\n",
        "print(means.shape)\n",
        "print(stds.shape)"
      ],
      "execution_count": 55,
      "outputs": [
        {
          "output_type": "stream",
          "text": [
            "(1, 784)\n",
            "(1, 784)\n"
          ],
          "name": "stdout"
        }
      ]
    },
    {
      "cell_type": "code",
      "metadata": {
        "id": "xQR970b0UuTh",
        "colab": {
          "base_uri": "https://localhost:8080/"
        },
        "outputId": "711ed8bd-f643-4e67-e11d-4180e1cb3947"
      },
      "source": [
        "training_errors = []\n",
        "testing_erros = []\n",
        "epochs = []\n",
        "losses = []\n",
        "with tf.Session() as sess:\n",
        "    init.run()\n",
        "    for epoch in range(n_epochs):\n",
        "        for iteration in range(mnist.train.num_examples // batch_size):\n",
        "            X_batch, y_batch = mnist.train.next_batch(batch_size)\n",
        "            X_batch_scaled = (X_batch - means) / stds\n",
        "            training_op_result, loss_value = sess.run([training_op, loss], feed_dict={X: X_batch_scaled, y: y_batch})\n",
        "            losses.append(loss_value)\n",
        "        if epoch % 5 == 0:\n",
        "            acc_train = accuracy.eval(feed_dict={X: X_batch_scaled, y: y_batch})\n",
        "            X_val_scaled = (mnist.validation.images - means) / stds\n",
        "            acc_test = accuracy.eval(feed_dict={X: X_val_scaled, y: mnist.validation.labels})\n",
        "            training_errors.append(acc_train)\n",
        "            testing_erros.append(acc_test)\n",
        "            epochs.append(epoch)\n",
        "            print(epoch, \"Batch accuracy:\", acc_train, \"Validation accuracy:\", acc_test)\n",
        "\n",
        "    save_path = saver.save(sess, \"model_ckps4/my_model_final_selu.ckpt\")"
      ],
      "execution_count": 56,
      "outputs": [
        {
          "output_type": "stream",
          "text": [
            "0 Batch accuracy: 0.92 Validation accuracy: 0.9334\n",
            "5 Batch accuracy: 1.0 Validation accuracy: 0.9602\n",
            "10 Batch accuracy: 1.0 Validation accuracy: 0.965\n",
            "15 Batch accuracy: 1.0 Validation accuracy: 0.9676\n",
            "20 Batch accuracy: 1.0 Validation accuracy: 0.968\n",
            "25 Batch accuracy: 1.0 Validation accuracy: 0.9688\n",
            "30 Batch accuracy: 1.0 Validation accuracy: 0.9688\n",
            "35 Batch accuracy: 1.0 Validation accuracy: 0.9696\n"
          ],
          "name": "stdout"
        }
      ]
    },
    {
      "cell_type": "code",
      "metadata": {
        "id": "3jVtQC0-UMJD",
        "colab": {
          "base_uri": "https://localhost:8080/",
          "height": 268
        },
        "outputId": "f5999df8-b0cb-4035-f152-ad27bd1f18fc"
      },
      "source": [
        "# red dashes, blue squares and green triangles\n",
        "plt.plot(epochs, training_errors, 'r--', epochs, testing_erros, 'b-')\n",
        "plt.show()"
      ],
      "execution_count": 57,
      "outputs": [
        {
          "output_type": "display_data",
          "data": {
            "image/png": "[encoded data removed]",
            "text/plain": [
              "<Figure size 432x288 with 1 Axes>"
            ]
          },
          "metadata": {
            "tags": [],
            "needs_background": "light"
          }
        }
      ]
    },
    {
      "cell_type": "code",
      "metadata": {
        "id": "vySC6_WoUO5c",
        "colab": {
          "base_uri": "https://localhost:8080/",
          "height": 285
        },
        "outputId": "1f4f5ecc-6a37-4923-bec1-f5ea47dbd74f"
      },
      "source": [
        "plt.plot(losses)"
      ],
      "execution_count": 58,
      "outputs": [
        {
          "output_type": "execute_result",
          "data": {
            "text/plain": [
              "[<matplotlib.lines.Line2D at 0x7f998f05cda0>]"
            ]
          },
          "metadata": {
            "tags": []
          },
          "execution_count": 58
        },
        {
          "output_type": "display_data",
          "data": {
            "image/png": "[encoded data removed]",
            "text/plain": [
              "<Figure size 432x288 with 1 Axes>"
            ]
          },
          "metadata": {
            "tags": [],
            "needs_background": "light"
          }
        }
      ]
    },
    {
      "cell_type": "markdown",
      "metadata": {
        "id": "80e9n9LhBNRu"
      },
      "source": [
        "#**Batch Normalizaion**"
      ]
    },
    {
      "cell_type": "markdown",
      "metadata": {
        "id": "rFUoxMYmPiQZ"
      },
      "source": [
        "##**1 Let's implement Batch Normalization with TensorFlow**"
      ]
    },
    {
      "cell_type": "code",
      "metadata": {
        "id": "eKg879eBBSWy"
      },
      "source": [
        "# Let's implement Batch Normalization with TensorFlow\n",
        "reset_graph()\n",
        "batch_norm_momentum = 0.9\n",
        "X = tf.placeholder(tf.float32, shape=(None, n_inputs), name=\"X\")\n",
        "y = tf.placeholder(tf.int64, shape=(None), name=\"y\")"
      ],
      "execution_count": 59,
      "outputs": []
    },
    {
      "cell_type": "code",
      "metadata": {
        "id": "Vj10j38tLRD4"
      },
      "source": [
        "# Set Training. Either a Python boolean, or a TensorFlow boolean scalar tensor (e.g. a placeholder)\n",
        "# Whether to return the output in training mode (normalized with statistics of the current batch) \n",
        "# or in inference mode (normalized with moving statistics)\n",
        "\n",
        "training = tf.placeholder_with_default(False, shape=(), name='training')"
      ],
      "execution_count": 60,
      "outputs": []
    },
    {
      "cell_type": "code",
      "metadata": {
        "id": "75PurfYSKAhA"
      },
      "source": [
        "with tf.name_scope(\"dnn\"):\n",
        "  he_init = tf.contrib.layers.variance_scaling_initializer()\n",
        "  \n",
        "  hidden1 = tf.layers.dense(X, n_hidden1, name=\"hidden1\",kernel_initializer=he_init)\n",
        "  bn1 = tf.layers.batch_normalization(hidden1, training=training, momentum=batch_norm_momentum)\n",
        "  bn1_act = tf.nn.selu(bn1)\n",
        "  \n",
        "  hidden2 = tf.layers.dense(bn1_act, n_hidden2, name=\"hidden2\",kernel_initializer=he_init)\n",
        "  bn2 = tf.layers.batch_normalization(hidden2, training=training, momentum = batch_norm_momentum)\n",
        "  bn2_act = tf.nn.selu(bn2)\n",
        "  \n",
        "  hidden3 = tf.layers.dense(bn2_act, n_hidden3, name=\"hidden3\",kernel_initializer=he_init)\n",
        "  bn3 = tf.layers.batch_normalization(hidden3, training=training, momentum = batch_norm_momentum)\n",
        "  bn3_act = tf.nn.selu(bn3)\n",
        "  \n",
        "  logits_before_bn = tf.layers.dense(bn3_act, n_outputs, name=\"outputs\")\n",
        "  logits = tf.layers.batch_normalization(logits_before_bn, training=training,momentum = batch_norm_momentum)"
      ],
      "execution_count": 61,
      "outputs": []
    },
    {
      "cell_type": "code",
      "metadata": {
        "id": "LqEuhAO1NONf"
      },
      "source": [
        "with tf.name_scope(\"loss\"):\n",
        "    xentropy = tf.nn.sparse_softmax_cross_entropy_with_logits(labels=y,logits=logits)\n",
        "    loss = tf.reduce_mean(xentropy, name=\"loss\")"
      ],
      "execution_count": 62,
      "outputs": []
    },
    {
      "cell_type": "code",
      "metadata": {
        "id": "lGqzhrh0NVRq"
      },
      "source": [
        "learning_rate = 0.01\n",
        "\n",
        "with tf.name_scope(\"train\"):\n",
        "    optimizer = tf.train.GradientDescentOptimizer(learning_rate)\n",
        "    training_op = optimizer.minimize(loss)"
      ],
      "execution_count": 63,
      "outputs": []
    },
    {
      "cell_type": "code",
      "metadata": {
        "id": "lxDT5LfINaGc"
      },
      "source": [
        "with tf.name_scope(\"eval\"):\n",
        "    correct = tf.nn.in_top_k(logits, y, 1)\n",
        "    accuracy = tf.reduce_mean(tf.cast(correct, tf.float32))"
      ],
      "execution_count": 64,
      "outputs": []
    },
    {
      "cell_type": "code",
      "metadata": {
        "id": "cCw8nGamNehB"
      },
      "source": [
        "init = tf.global_variables_initializer()\n",
        "saver = tf.train.Saver()"
      ],
      "execution_count": 65,
      "outputs": []
    },
    {
      "cell_type": "code",
      "metadata": {
        "id": "L0hyR7arNi5E"
      },
      "source": [
        "n_epochs = 100\n",
        "batch_size = 200"
      ],
      "execution_count": 66,
      "outputs": []
    },
    {
      "cell_type": "code",
      "metadata": {
        "id": "AQ9kx-W0Nsk5",
        "colab": {
          "base_uri": "https://localhost:8080/"
        },
        "outputId": "c9befd52-b8d5-48fc-ba24-0840b1b17a10"
      },
      "source": [
        "# When is_training is True the moving_mean and moving_variance need to be updated by running these commands\n",
        "# extra_update_ops = tf.get_collection(tf.GraphKeys.UPDATE_OPS)\n",
        "# sess.run([train_op, extra_update_ops], ...)\n",
        "\n",
        "extra_update_ops = tf.get_collection(tf.GraphKeys.UPDATE_OPS)\n",
        "\n",
        "with tf.Session() as sess:\n",
        "    init.run()\n",
        "    for epoch in range(n_epochs):\n",
        "        for iteration in range(mnist.train.num_examples // batch_size):\n",
        "            X_batch, y_batch = mnist.train.next_batch(batch_size)\n",
        "            sess.run([training_op, extra_update_ops],feed_dict={training: True, X: X_batch, y: y_batch})\n",
        "        accuracy_val = accuracy.eval(feed_dict={X: mnist.test.images,y: mnist.test.labels})\n",
        "        print(epoch, \"Test accuracy:\", accuracy_val)\n",
        "\n",
        "    save_path = saver.save(sess, \"model_ckps5/my_model_final.ckpt\")"
      ],
      "execution_count": 67,
      "outputs": [
        {
          "output_type": "stream",
          "text": [
            "0 Test accuracy: 0.8695\n",
            "1 Test accuracy: 0.8901\n",
            "2 Test accuracy: 0.904\n",
            "3 Test accuracy: 0.9104\n",
            "4 Test accuracy: 0.9192\n",
            "5 Test accuracy: 0.9251\n",
            "6 Test accuracy: 0.9319\n",
            "7 Test accuracy: 0.9357\n",
            "8 Test accuracy: 0.939\n",
            "9 Test accuracy: 0.9427\n",
            "10 Test accuracy: 0.9463\n",
            "11 Test accuracy: 0.9481\n",
            "12 Test accuracy: 0.9503\n",
            "13 Test accuracy: 0.9531\n",
            "14 Test accuracy: 0.9538\n",
            "15 Test accuracy: 0.9553\n",
            "16 Test accuracy: 0.9573\n",
            "17 Test accuracy: 0.9584\n",
            "18 Test accuracy: 0.9588\n",
            "19 Test accuracy: 0.9603\n",
            "20 Test accuracy: 0.9622\n",
            "21 Test accuracy: 0.9634\n",
            "22 Test accuracy: 0.9645\n",
            "23 Test accuracy: 0.9647\n",
            "24 Test accuracy: 0.966\n",
            "25 Test accuracy: 0.9669\n",
            "26 Test accuracy: 0.968\n",
            "27 Test accuracy: 0.9673\n",
            "28 Test accuracy: 0.9693\n",
            "29 Test accuracy: 0.9687\n",
            "30 Test accuracy: 0.9692\n",
            "31 Test accuracy: 0.9707\n",
            "32 Test accuracy: 0.9708\n",
            "33 Test accuracy: 0.9705\n",
            "34 Test accuracy: 0.9711\n",
            "35 Test accuracy: 0.9714\n",
            "36 Test accuracy: 0.9716\n",
            "37 Test accuracy: 0.9724\n",
            "38 Test accuracy: 0.9723\n",
            "39 Test accuracy: 0.973\n",
            "40 Test accuracy: 0.972\n",
            "41 Test accuracy: 0.9728\n",
            "42 Test accuracy: 0.9722\n",
            "43 Test accuracy: 0.9735\n",
            "44 Test accuracy: 0.9734\n",
            "45 Test accuracy: 0.9723\n",
            "46 Test accuracy: 0.9737\n",
            "47 Test accuracy: 0.9737\n",
            "48 Test accuracy: 0.9733\n",
            "49 Test accuracy: 0.9743\n",
            "50 Test accuracy: 0.9743\n",
            "51 Test accuracy: 0.9738\n",
            "52 Test accuracy: 0.974\n",
            "53 Test accuracy: 0.9742\n",
            "54 Test accuracy: 0.9746\n",
            "55 Test accuracy: 0.9745\n",
            "56 Test accuracy: 0.9748\n",
            "57 Test accuracy: 0.9747\n",
            "58 Test accuracy: 0.975\n",
            "59 Test accuracy: 0.9753\n",
            "60 Test accuracy: 0.974\n",
            "61 Test accuracy: 0.9761\n",
            "62 Test accuracy: 0.975\n",
            "63 Test accuracy: 0.976\n",
            "64 Test accuracy: 0.9751\n",
            "65 Test accuracy: 0.9765\n",
            "66 Test accuracy: 0.9762\n",
            "67 Test accuracy: 0.9752\n",
            "68 Test accuracy: 0.976\n",
            "69 Test accuracy: 0.9762\n",
            "70 Test accuracy: 0.9763\n",
            "71 Test accuracy: 0.9762\n",
            "72 Test accuracy: 0.9766\n",
            "73 Test accuracy: 0.9761\n",
            "74 Test accuracy: 0.976\n",
            "75 Test accuracy: 0.976\n",
            "76 Test accuracy: 0.9757\n",
            "77 Test accuracy: 0.9758\n",
            "78 Test accuracy: 0.9759\n",
            "79 Test accuracy: 0.9764\n",
            "80 Test accuracy: 0.9768\n",
            "81 Test accuracy: 0.976\n",
            "82 Test accuracy: 0.9762\n",
            "83 Test accuracy: 0.9758\n",
            "84 Test accuracy: 0.977\n",
            "85 Test accuracy: 0.9769\n",
            "86 Test accuracy: 0.9761\n",
            "87 Test accuracy: 0.9763\n",
            "88 Test accuracy: 0.9766\n",
            "89 Test accuracy: 0.9762\n",
            "90 Test accuracy: 0.9763\n",
            "91 Test accuracy: 0.9768\n",
            "92 Test accuracy: 0.9767\n",
            "93 Test accuracy: 0.9755\n",
            "94 Test accuracy: 0.9766\n",
            "95 Test accuracy: 0.977\n",
            "96 Test accuracy: 0.9756\n",
            "97 Test accuracy: 0.9764\n",
            "98 Test accuracy: 0.9766\n",
            "99 Test accuracy: 0.9767\n"
          ],
          "name": "stdout"
        }
      ]
    },
    {
      "cell_type": "markdown",
      "metadata": {
        "id": "6G94oGQAPecY"
      },
      "source": [
        "##**In previous example, we passed parameters repeatedly to batch_normalization function**\n",
        "##**To avoid repeating the same parameters over and over again, we can use Python's partial() function** \n",
        "##**Let's improve previous example with partial( )**"
      ]
    },
    {
      "cell_type": "code",
      "metadata": {
        "id": "sYq2_KxyPecZ"
      },
      "source": [
        "reset_graph()\n",
        "\n",
        "X = tf.placeholder(tf.float32, shape=(None, n_inputs), name=\"X\")\n",
        "y = tf.placeholder(tf.int64, shape=(None), name=\"y\")"
      ],
      "execution_count": 68,
      "outputs": []
    },
    {
      "cell_type": "code",
      "metadata": {
        "id": "CnJcmODoPecZ"
      },
      "source": [
        "# Set Training. Either a Python boolean, or a TensorFlow boolean scalar tensor (e.g. a placeholder)\n",
        "# Whether to return the output in training mode (normalized with statistics of the current batch) \n",
        "# or in inference mode (normalized with moving statistics)\n",
        "\n",
        "training = tf.placeholder_with_default(False, shape=(), name='training')\n",
        "batch_norm_momentum = 0.9"
      ],
      "execution_count": 69,
      "outputs": []
    },
    {
      "cell_type": "code",
      "metadata": {
        "id": "5giyUtPsPecZ"
      },
      "source": [
        "with tf.name_scope(\"dnn\"):\n",
        "  he_init = tf.contrib.layers.variance_scaling_initializer()\n",
        "  my_batch_norm_layer = partial(tf.layers.batch_normalization,training=training,momentum=batch_norm_momentum)\n",
        "  my_dense_layer = partial(tf.layers.dense,kernel_initializer=he_init)\n",
        "  \n",
        "  hidden1 = my_dense_layer(X, n_hidden1, name=\"hidden1\")\n",
        "  bn1 = my_batch_norm_layer(hidden1)\n",
        "  bn1_act = tf.nn.selu(bn1)\n",
        "  \n",
        "  hidden2 = my_dense_layer(bn1_act, n_hidden2, name=\"hidden2\")\n",
        "  bn2 = my_batch_norm_layer(hidden2)\n",
        "  bn2_act = tf.nn.selu(bn2)\n",
        "  \n",
        "  hidden3 = my_dense_layer(bn2_act, n_hidden3, name=\"hidden3\")\n",
        "  bn3 = my_batch_norm_layer(hidden3)\n",
        "  bn3_act = tf.nn.selu(bn3)\n",
        "  \n",
        "  logits_before_bn = my_dense_layer(bn3_act, n_outputs, name=\"outputs\")\n",
        "  logits = my_batch_norm_layer(logits_before_bn)"
      ],
      "execution_count": 70,
      "outputs": []
    },
    {
      "cell_type": "code",
      "metadata": {
        "id": "C9A8AldePecZ"
      },
      "source": [
        "with tf.name_scope(\"loss\"):\n",
        "    xentropy = tf.nn.sparse_softmax_cross_entropy_with_logits(labels=y,logits=logits)\n",
        "    loss = tf.reduce_mean(xentropy, name=\"loss\")"
      ],
      "execution_count": 71,
      "outputs": []
    },
    {
      "cell_type": "code",
      "metadata": {
        "id": "HX9cEHk1PecZ"
      },
      "source": [
        "learning_rate = 0.01\n",
        "\n",
        "with tf.name_scope(\"train\"):\n",
        "    optimizer = tf.train.GradientDescentOptimizer(learning_rate)\n",
        "    training_op = optimizer.minimize(loss)"
      ],
      "execution_count": 72,
      "outputs": []
    },
    {
      "cell_type": "code",
      "metadata": {
        "id": "jSZY_hUcPecZ"
      },
      "source": [
        "with tf.name_scope(\"eval\"):\n",
        "    correct = tf.nn.in_top_k(logits, y, 1)\n",
        "    accuracy = tf.reduce_mean(tf.cast(correct, tf.float32))"
      ],
      "execution_count": 73,
      "outputs": []
    },
    {
      "cell_type": "code",
      "metadata": {
        "id": "b42DzZtRPecZ"
      },
      "source": [
        "init = tf.global_variables_initializer()\n",
        "saver = tf.train.Saver()"
      ],
      "execution_count": 74,
      "outputs": []
    },
    {
      "cell_type": "code",
      "metadata": {
        "id": "i20asQhDPecZ"
      },
      "source": [
        "n_epochs = 100\n",
        "batch_size = 200"
      ],
      "execution_count": 75,
      "outputs": []
    },
    {
      "cell_type": "code",
      "metadata": {
        "id": "NRDMAqz1PecZ",
        "colab": {
          "base_uri": "https://localhost:8080/"
        },
        "outputId": "6228d98d-9cbd-4339-c8f6-98718d175a6b"
      },
      "source": [
        "# When is_training is True the moving_mean and moving_variance need to be updated by running these commands\n",
        "# extra_update_ops = tf.get_collection(tf.GraphKeys.UPDATE_OPS)\n",
        "# sess.run([train_op, extra_update_ops], ...)\n",
        "\n",
        "extra_update_ops = tf.get_collection(tf.GraphKeys.UPDATE_OPS)\n",
        "\n",
        "with tf.Session() as sess:\n",
        "    init.run()\n",
        "    for epoch in range(n_epochs):\n",
        "        for iteration in range(mnist.train.num_examples // batch_size):\n",
        "            X_batch, y_batch = mnist.train.next_batch(batch_size)\n",
        "            sess.run([training_op, extra_update_ops],\n",
        "                     feed_dict={training: True, X: X_batch, y: y_batch})\n",
        "        accuracy_val = accuracy.eval(feed_dict={X: mnist.test.images,\n",
        "                                                y: mnist.test.labels})\n",
        "        print(epoch, \"Test accuracy:\", accuracy_val)\n",
        "\n",
        "    save_path = saver.save(sess, \"model_ckps6/my_model_final.ckpt\")"
      ],
      "execution_count": 76,
      "outputs": [
        {
          "output_type": "stream",
          "text": [
            "0 Test accuracy: 0.8714\n",
            "1 Test accuracy: 0.8968\n",
            "2 Test accuracy: 0.9077\n",
            "3 Test accuracy: 0.9182\n",
            "4 Test accuracy: 0.9238\n",
            "5 Test accuracy: 0.9299\n",
            "6 Test accuracy: 0.9351\n",
            "7 Test accuracy: 0.9384\n",
            "8 Test accuracy: 0.9439\n",
            "9 Test accuracy: 0.947\n",
            "10 Test accuracy: 0.9494\n",
            "11 Test accuracy: 0.9544\n",
            "12 Test accuracy: 0.9549\n",
            "13 Test accuracy: 0.9567\n",
            "14 Test accuracy: 0.9583\n",
            "15 Test accuracy: 0.9602\n",
            "16 Test accuracy: 0.9621\n",
            "17 Test accuracy: 0.9619\n",
            "18 Test accuracy: 0.9638\n",
            "19 Test accuracy: 0.9651\n",
            "20 Test accuracy: 0.9644\n",
            "21 Test accuracy: 0.965\n",
            "22 Test accuracy: 0.9668\n",
            "23 Test accuracy: 0.9666\n",
            "24 Test accuracy: 0.9682\n",
            "25 Test accuracy: 0.9679\n",
            "26 Test accuracy: 0.9687\n",
            "27 Test accuracy: 0.969\n",
            "28 Test accuracy: 0.9686\n",
            "29 Test accuracy: 0.9694\n",
            "30 Test accuracy: 0.97\n",
            "31 Test accuracy: 0.9707\n",
            "32 Test accuracy: 0.9706\n",
            "33 Test accuracy: 0.9713\n",
            "34 Test accuracy: 0.9725\n",
            "35 Test accuracy: 0.9725\n",
            "36 Test accuracy: 0.9722\n",
            "37 Test accuracy: 0.973\n",
            "38 Test accuracy: 0.9737\n",
            "39 Test accuracy: 0.9731\n",
            "40 Test accuracy: 0.9732\n",
            "41 Test accuracy: 0.9733\n",
            "42 Test accuracy: 0.9729\n",
            "43 Test accuracy: 0.9737\n",
            "44 Test accuracy: 0.9746\n",
            "45 Test accuracy: 0.9731\n",
            "46 Test accuracy: 0.9723\n",
            "47 Test accuracy: 0.9739\n",
            "48 Test accuracy: 0.9732\n",
            "49 Test accuracy: 0.9742\n",
            "50 Test accuracy: 0.9735\n",
            "51 Test accuracy: 0.9738\n",
            "52 Test accuracy: 0.9753\n",
            "53 Test accuracy: 0.9748\n",
            "54 Test accuracy: 0.9744\n",
            "55 Test accuracy: 0.9741\n",
            "56 Test accuracy: 0.9756\n",
            "57 Test accuracy: 0.9732\n",
            "58 Test accuracy: 0.9745\n",
            "59 Test accuracy: 0.9752\n",
            "60 Test accuracy: 0.9745\n",
            "61 Test accuracy: 0.9746\n",
            "62 Test accuracy: 0.9752\n",
            "63 Test accuracy: 0.9755\n",
            "64 Test accuracy: 0.9751\n",
            "65 Test accuracy: 0.9764\n",
            "66 Test accuracy: 0.9753\n",
            "67 Test accuracy: 0.9752\n",
            "68 Test accuracy: 0.9749\n",
            "69 Test accuracy: 0.9751\n",
            "70 Test accuracy: 0.9759\n",
            "71 Test accuracy: 0.9758\n",
            "72 Test accuracy: 0.9756\n",
            "73 Test accuracy: 0.9757\n",
            "74 Test accuracy: 0.9775\n",
            "75 Test accuracy: 0.976\n",
            "76 Test accuracy: 0.9763\n",
            "77 Test accuracy: 0.975\n",
            "78 Test accuracy: 0.9756\n",
            "79 Test accuracy: 0.9762\n",
            "80 Test accuracy: 0.9765\n",
            "81 Test accuracy: 0.9754\n",
            "82 Test accuracy: 0.9752\n",
            "83 Test accuracy: 0.9764\n",
            "84 Test accuracy: 0.9771\n",
            "85 Test accuracy: 0.9764\n",
            "86 Test accuracy: 0.9762\n",
            "87 Test accuracy: 0.9757\n",
            "88 Test accuracy: 0.9762\n",
            "89 Test accuracy: 0.9766\n",
            "90 Test accuracy: 0.9765\n",
            "91 Test accuracy: 0.9768\n",
            "92 Test accuracy: 0.9759\n",
            "93 Test accuracy: 0.9767\n",
            "94 Test accuracy: 0.9775\n",
            "95 Test accuracy: 0.9753\n",
            "96 Test accuracy: 0.9767\n",
            "97 Test accuracy: 0.9765\n",
            "98 Test accuracy: 0.9758\n",
            "99 Test accuracy: 0.9759\n"
          ],
          "name": "stdout"
        }
      ]
    }
  ]
}